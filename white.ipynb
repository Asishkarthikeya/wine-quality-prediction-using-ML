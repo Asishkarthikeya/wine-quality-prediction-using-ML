{
  "nbformat": 4,
  "nbformat_minor": 0,
  "metadata": {
    "colab": {
      "provenance": []
    },
    "kernelspec": {
      "name": "python3",
      "display_name": "Python 3"
    },
    "language_info": {
      "name": "python"
    }
  },
  "cells": [
    {
      "cell_type": "code",
      "execution_count": null,
      "metadata": {
        "id": "FciIxbqnkmdv"
      },
      "outputs": [],
      "source": [
        "import numpy as np\n",
        "import pandas as pd\n",
        "import matplotlib.pyplot as plt\n",
        "import seaborn as sns\n",
        "from sklearn.model_selection import train_test_split\n"
      ]
    },
    {
      "cell_type": "markdown",
      "source": [
        "**Loading** **Dataset**"
      ],
      "metadata": {
        "id": "W_FqgDTMk1w7"
      }
    },
    {
      "cell_type": "code",
      "source": [
        "wine_dataset = pd.read_csv('/content/winequality-white.csv',sep=';')"
      ],
      "metadata": {
        "id": "yH2SBMtPktWi"
      },
      "execution_count": null,
      "outputs": []
    },
    {
      "cell_type": "code",
      "source": [
        "# number of rows & columns in the dataset\n",
        "wine_dataset.shape"
      ],
      "metadata": {
        "colab": {
          "base_uri": "https://localhost:8080/"
        },
        "id": "lxqX7xaVlJVn",
        "outputId": "6f1647e4-42dc-4f7e-d447-980db2a60dad"
      },
      "execution_count": null,
      "outputs": [
        {
          "output_type": "execute_result",
          "data": {
            "text/plain": [
              "(4898, 12)"
            ]
          },
          "metadata": {},
          "execution_count": 10
        }
      ]
    },
    {
      "cell_type": "code",
      "source": [
        "# first 5 rows of the dataset\n",
        "wine_dataset.head()"
      ],
      "metadata": {
        "colab": {
          "base_uri": "https://localhost:8080/",
          "height": 267
        },
        "id": "zLB16VK5lLnG",
        "outputId": "7c3d6cc3-0a97-400d-f1ec-b1100586505e"
      },
      "execution_count": null,
      "outputs": [
        {
          "output_type": "execute_result",
          "data": {
            "text/plain": [
              "   fixed acidity  volatile acidity  citric acid  residual sugar  chlorides  \\\n",
              "0            7.0              0.27         0.36            20.7      0.045   \n",
              "1            6.3              0.30         0.34             1.6      0.049   \n",
              "2            8.1              0.28         0.40             6.9      0.050   \n",
              "3            7.2              0.23         0.32             8.5      0.058   \n",
              "4            7.2              0.23         0.32             8.5      0.058   \n",
              "\n",
              "   free sulfur dioxide  total sulfur dioxide  density    pH  sulphates  \\\n",
              "0                 45.0                 170.0   1.0010  3.00       0.45   \n",
              "1                 14.0                 132.0   0.9940  3.30       0.49   \n",
              "2                 30.0                  97.0   0.9951  3.26       0.44   \n",
              "3                 47.0                 186.0   0.9956  3.19       0.40   \n",
              "4                 47.0                 186.0   0.9956  3.19       0.40   \n",
              "\n",
              "   alcohol  quality  \n",
              "0      8.8        6  \n",
              "1      9.5        6  \n",
              "2     10.1        6  \n",
              "3      9.9        6  \n",
              "4      9.9        6  "
            ],
            "text/html": [
              "\n",
              "  <div id=\"df-27ee9540-6110-4a0e-b18a-1f8ce29af2f8\">\n",
              "    <div class=\"colab-df-container\">\n",
              "      <div>\n",
              "<style scoped>\n",
              "    .dataframe tbody tr th:only-of-type {\n",
              "        vertical-align: middle;\n",
              "    }\n",
              "\n",
              "    .dataframe tbody tr th {\n",
              "        vertical-align: top;\n",
              "    }\n",
              "\n",
              "    .dataframe thead th {\n",
              "        text-align: right;\n",
              "    }\n",
              "</style>\n",
              "<table border=\"1\" class=\"dataframe\">\n",
              "  <thead>\n",
              "    <tr style=\"text-align: right;\">\n",
              "      <th></th>\n",
              "      <th>fixed acidity</th>\n",
              "      <th>volatile acidity</th>\n",
              "      <th>citric acid</th>\n",
              "      <th>residual sugar</th>\n",
              "      <th>chlorides</th>\n",
              "      <th>free sulfur dioxide</th>\n",
              "      <th>total sulfur dioxide</th>\n",
              "      <th>density</th>\n",
              "      <th>pH</th>\n",
              "      <th>sulphates</th>\n",
              "      <th>alcohol</th>\n",
              "      <th>quality</th>\n",
              "    </tr>\n",
              "  </thead>\n",
              "  <tbody>\n",
              "    <tr>\n",
              "      <th>0</th>\n",
              "      <td>7.0</td>\n",
              "      <td>0.27</td>\n",
              "      <td>0.36</td>\n",
              "      <td>20.7</td>\n",
              "      <td>0.045</td>\n",
              "      <td>45.0</td>\n",
              "      <td>170.0</td>\n",
              "      <td>1.0010</td>\n",
              "      <td>3.00</td>\n",
              "      <td>0.45</td>\n",
              "      <td>8.8</td>\n",
              "      <td>6</td>\n",
              "    </tr>\n",
              "    <tr>\n",
              "      <th>1</th>\n",
              "      <td>6.3</td>\n",
              "      <td>0.30</td>\n",
              "      <td>0.34</td>\n",
              "      <td>1.6</td>\n",
              "      <td>0.049</td>\n",
              "      <td>14.0</td>\n",
              "      <td>132.0</td>\n",
              "      <td>0.9940</td>\n",
              "      <td>3.30</td>\n",
              "      <td>0.49</td>\n",
              "      <td>9.5</td>\n",
              "      <td>6</td>\n",
              "    </tr>\n",
              "    <tr>\n",
              "      <th>2</th>\n",
              "      <td>8.1</td>\n",
              "      <td>0.28</td>\n",
              "      <td>0.40</td>\n",
              "      <td>6.9</td>\n",
              "      <td>0.050</td>\n",
              "      <td>30.0</td>\n",
              "      <td>97.0</td>\n",
              "      <td>0.9951</td>\n",
              "      <td>3.26</td>\n",
              "      <td>0.44</td>\n",
              "      <td>10.1</td>\n",
              "      <td>6</td>\n",
              "    </tr>\n",
              "    <tr>\n",
              "      <th>3</th>\n",
              "      <td>7.2</td>\n",
              "      <td>0.23</td>\n",
              "      <td>0.32</td>\n",
              "      <td>8.5</td>\n",
              "      <td>0.058</td>\n",
              "      <td>47.0</td>\n",
              "      <td>186.0</td>\n",
              "      <td>0.9956</td>\n",
              "      <td>3.19</td>\n",
              "      <td>0.40</td>\n",
              "      <td>9.9</td>\n",
              "      <td>6</td>\n",
              "    </tr>\n",
              "    <tr>\n",
              "      <th>4</th>\n",
              "      <td>7.2</td>\n",
              "      <td>0.23</td>\n",
              "      <td>0.32</td>\n",
              "      <td>8.5</td>\n",
              "      <td>0.058</td>\n",
              "      <td>47.0</td>\n",
              "      <td>186.0</td>\n",
              "      <td>0.9956</td>\n",
              "      <td>3.19</td>\n",
              "      <td>0.40</td>\n",
              "      <td>9.9</td>\n",
              "      <td>6</td>\n",
              "    </tr>\n",
              "  </tbody>\n",
              "</table>\n",
              "</div>\n",
              "      <button class=\"colab-df-convert\" onclick=\"convertToInteractive('df-27ee9540-6110-4a0e-b18a-1f8ce29af2f8')\"\n",
              "              title=\"Convert this dataframe to an interactive table.\"\n",
              "              style=\"display:none;\">\n",
              "        \n",
              "  <svg xmlns=\"http://www.w3.org/2000/svg\" height=\"24px\"viewBox=\"0 0 24 24\"\n",
              "       width=\"24px\">\n",
              "    <path d=\"M0 0h24v24H0V0z\" fill=\"none\"/>\n",
              "    <path d=\"M18.56 5.44l.94 2.06.94-2.06 2.06-.94-2.06-.94-.94-2.06-.94 2.06-2.06.94zm-11 1L8.5 8.5l.94-2.06 2.06-.94-2.06-.94L8.5 2.5l-.94 2.06-2.06.94zm10 10l.94 2.06.94-2.06 2.06-.94-2.06-.94-.94-2.06-.94 2.06-2.06.94z\"/><path d=\"M17.41 7.96l-1.37-1.37c-.4-.4-.92-.59-1.43-.59-.52 0-1.04.2-1.43.59L10.3 9.45l-7.72 7.72c-.78.78-.78 2.05 0 2.83L4 21.41c.39.39.9.59 1.41.59.51 0 1.02-.2 1.41-.59l7.78-7.78 2.81-2.81c.8-.78.8-2.07 0-2.86zM5.41 20L4 18.59l7.72-7.72 1.47 1.35L5.41 20z\"/>\n",
              "  </svg>\n",
              "      </button>\n",
              "      \n",
              "  <style>\n",
              "    .colab-df-container {\n",
              "      display:flex;\n",
              "      flex-wrap:wrap;\n",
              "      gap: 12px;\n",
              "    }\n",
              "\n",
              "    .colab-df-convert {\n",
              "      background-color: #E8F0FE;\n",
              "      border: none;\n",
              "      border-radius: 50%;\n",
              "      cursor: pointer;\n",
              "      display: none;\n",
              "      fill: #1967D2;\n",
              "      height: 32px;\n",
              "      padding: 0 0 0 0;\n",
              "      width: 32px;\n",
              "    }\n",
              "\n",
              "    .colab-df-convert:hover {\n",
              "      background-color: #E2EBFA;\n",
              "      box-shadow: 0px 1px 2px rgba(60, 64, 67, 0.3), 0px 1px 3px 1px rgba(60, 64, 67, 0.15);\n",
              "      fill: #174EA6;\n",
              "    }\n",
              "\n",
              "    [theme=dark] .colab-df-convert {\n",
              "      background-color: #3B4455;\n",
              "      fill: #D2E3FC;\n",
              "    }\n",
              "\n",
              "    [theme=dark] .colab-df-convert:hover {\n",
              "      background-color: #434B5C;\n",
              "      box-shadow: 0px 1px 3px 1px rgba(0, 0, 0, 0.15);\n",
              "      filter: drop-shadow(0px 1px 2px rgba(0, 0, 0, 0.3));\n",
              "      fill: #FFFFFF;\n",
              "    }\n",
              "  </style>\n",
              "\n",
              "      <script>\n",
              "        const buttonEl =\n",
              "          document.querySelector('#df-27ee9540-6110-4a0e-b18a-1f8ce29af2f8 button.colab-df-convert');\n",
              "        buttonEl.style.display =\n",
              "          google.colab.kernel.accessAllowed ? 'block' : 'none';\n",
              "\n",
              "        async function convertToInteractive(key) {\n",
              "          const element = document.querySelector('#df-27ee9540-6110-4a0e-b18a-1f8ce29af2f8');\n",
              "          const dataTable =\n",
              "            await google.colab.kernel.invokeFunction('convertToInteractive',\n",
              "                                                     [key], {});\n",
              "          if (!dataTable) return;\n",
              "\n",
              "          const docLinkHtml = 'Like what you see? Visit the ' +\n",
              "            '<a target=\"_blank\" href=https://colab.research.google.com/notebooks/data_table.ipynb>data table notebook</a>'\n",
              "            + ' to learn more about interactive tables.';\n",
              "          element.innerHTML = '';\n",
              "          dataTable['output_type'] = 'display_data';\n",
              "          await google.colab.output.renderOutput(dataTable, element);\n",
              "          const docLink = document.createElement('div');\n",
              "          docLink.innerHTML = docLinkHtml;\n",
              "          element.appendChild(docLink);\n",
              "        }\n",
              "      </script>\n",
              "    </div>\n",
              "  </div>\n",
              "  "
            ]
          },
          "metadata": {},
          "execution_count": 11
        }
      ]
    },
    {
      "cell_type": "code",
      "source": [
        "# checking for missing values\n",
        "wine_dataset.isnull().sum()"
      ],
      "metadata": {
        "colab": {
          "base_uri": "https://localhost:8080/"
        },
        "id": "pbE720TUlORW",
        "outputId": "5f5597bd-7744-4a99-90e6-9a256cd6bab0"
      },
      "execution_count": null,
      "outputs": [
        {
          "output_type": "execute_result",
          "data": {
            "text/plain": [
              "fixed acidity           0\n",
              "volatile acidity        0\n",
              "citric acid             0\n",
              "residual sugar          0\n",
              "chlorides               0\n",
              "free sulfur dioxide     0\n",
              "total sulfur dioxide    0\n",
              "density                 0\n",
              "pH                      0\n",
              "sulphates               0\n",
              "alcohol                 0\n",
              "quality                 0\n",
              "dtype: int64"
            ]
          },
          "metadata": {},
          "execution_count": 12
        }
      ]
    },
    {
      "cell_type": "code",
      "source": [
        "wine_dataset.describe()"
      ],
      "metadata": {
        "colab": {
          "base_uri": "https://localhost:8080/",
          "height": 399
        },
        "id": "EbBzHatqlQke",
        "outputId": "a10e2c2a-1ad2-4ddc-99f1-21554edb612d"
      },
      "execution_count": null,
      "outputs": [
        {
          "output_type": "execute_result",
          "data": {
            "text/plain": [
              "       fixed acidity  volatile acidity  citric acid  residual sugar  \\\n",
              "count    4898.000000       4898.000000  4898.000000     4898.000000   \n",
              "mean        6.854788          0.278241     0.334192        6.391415   \n",
              "std         0.843868          0.100795     0.121020        5.072058   \n",
              "min         3.800000          0.080000     0.000000        0.600000   \n",
              "25%         6.300000          0.210000     0.270000        1.700000   \n",
              "50%         6.800000          0.260000     0.320000        5.200000   \n",
              "75%         7.300000          0.320000     0.390000        9.900000   \n",
              "max        14.200000          1.100000     1.660000       65.800000   \n",
              "\n",
              "         chlorides  free sulfur dioxide  total sulfur dioxide      density  \\\n",
              "count  4898.000000          4898.000000           4898.000000  4898.000000   \n",
              "mean      0.045772            35.308085            138.360657     0.994027   \n",
              "std       0.021848            17.007137             42.498065     0.002991   \n",
              "min       0.009000             2.000000              9.000000     0.987110   \n",
              "25%       0.036000            23.000000            108.000000     0.991723   \n",
              "50%       0.043000            34.000000            134.000000     0.993740   \n",
              "75%       0.050000            46.000000            167.000000     0.996100   \n",
              "max       0.346000           289.000000            440.000000     1.038980   \n",
              "\n",
              "                pH    sulphates      alcohol      quality  \n",
              "count  4898.000000  4898.000000  4898.000000  4898.000000  \n",
              "mean      3.188267     0.489847    10.514267     5.877909  \n",
              "std       0.151001     0.114126     1.230621     0.885639  \n",
              "min       2.720000     0.220000     8.000000     3.000000  \n",
              "25%       3.090000     0.410000     9.500000     5.000000  \n",
              "50%       3.180000     0.470000    10.400000     6.000000  \n",
              "75%       3.280000     0.550000    11.400000     6.000000  \n",
              "max       3.820000     1.080000    14.200000     9.000000  "
            ],
            "text/html": [
              "\n",
              "  <div id=\"df-be7ea45b-5179-4034-b798-a9d554102ec4\">\n",
              "    <div class=\"colab-df-container\">\n",
              "      <div>\n",
              "<style scoped>\n",
              "    .dataframe tbody tr th:only-of-type {\n",
              "        vertical-align: middle;\n",
              "    }\n",
              "\n",
              "    .dataframe tbody tr th {\n",
              "        vertical-align: top;\n",
              "    }\n",
              "\n",
              "    .dataframe thead th {\n",
              "        text-align: right;\n",
              "    }\n",
              "</style>\n",
              "<table border=\"1\" class=\"dataframe\">\n",
              "  <thead>\n",
              "    <tr style=\"text-align: right;\">\n",
              "      <th></th>\n",
              "      <th>fixed acidity</th>\n",
              "      <th>volatile acidity</th>\n",
              "      <th>citric acid</th>\n",
              "      <th>residual sugar</th>\n",
              "      <th>chlorides</th>\n",
              "      <th>free sulfur dioxide</th>\n",
              "      <th>total sulfur dioxide</th>\n",
              "      <th>density</th>\n",
              "      <th>pH</th>\n",
              "      <th>sulphates</th>\n",
              "      <th>alcohol</th>\n",
              "      <th>quality</th>\n",
              "    </tr>\n",
              "  </thead>\n",
              "  <tbody>\n",
              "    <tr>\n",
              "      <th>count</th>\n",
              "      <td>4898.000000</td>\n",
              "      <td>4898.000000</td>\n",
              "      <td>4898.000000</td>\n",
              "      <td>4898.000000</td>\n",
              "      <td>4898.000000</td>\n",
              "      <td>4898.000000</td>\n",
              "      <td>4898.000000</td>\n",
              "      <td>4898.000000</td>\n",
              "      <td>4898.000000</td>\n",
              "      <td>4898.000000</td>\n",
              "      <td>4898.000000</td>\n",
              "      <td>4898.000000</td>\n",
              "    </tr>\n",
              "    <tr>\n",
              "      <th>mean</th>\n",
              "      <td>6.854788</td>\n",
              "      <td>0.278241</td>\n",
              "      <td>0.334192</td>\n",
              "      <td>6.391415</td>\n",
              "      <td>0.045772</td>\n",
              "      <td>35.308085</td>\n",
              "      <td>138.360657</td>\n",
              "      <td>0.994027</td>\n",
              "      <td>3.188267</td>\n",
              "      <td>0.489847</td>\n",
              "      <td>10.514267</td>\n",
              "      <td>5.877909</td>\n",
              "    </tr>\n",
              "    <tr>\n",
              "      <th>std</th>\n",
              "      <td>0.843868</td>\n",
              "      <td>0.100795</td>\n",
              "      <td>0.121020</td>\n",
              "      <td>5.072058</td>\n",
              "      <td>0.021848</td>\n",
              "      <td>17.007137</td>\n",
              "      <td>42.498065</td>\n",
              "      <td>0.002991</td>\n",
              "      <td>0.151001</td>\n",
              "      <td>0.114126</td>\n",
              "      <td>1.230621</td>\n",
              "      <td>0.885639</td>\n",
              "    </tr>\n",
              "    <tr>\n",
              "      <th>min</th>\n",
              "      <td>3.800000</td>\n",
              "      <td>0.080000</td>\n",
              "      <td>0.000000</td>\n",
              "      <td>0.600000</td>\n",
              "      <td>0.009000</td>\n",
              "      <td>2.000000</td>\n",
              "      <td>9.000000</td>\n",
              "      <td>0.987110</td>\n",
              "      <td>2.720000</td>\n",
              "      <td>0.220000</td>\n",
              "      <td>8.000000</td>\n",
              "      <td>3.000000</td>\n",
              "    </tr>\n",
              "    <tr>\n",
              "      <th>25%</th>\n",
              "      <td>6.300000</td>\n",
              "      <td>0.210000</td>\n",
              "      <td>0.270000</td>\n",
              "      <td>1.700000</td>\n",
              "      <td>0.036000</td>\n",
              "      <td>23.000000</td>\n",
              "      <td>108.000000</td>\n",
              "      <td>0.991723</td>\n",
              "      <td>3.090000</td>\n",
              "      <td>0.410000</td>\n",
              "      <td>9.500000</td>\n",
              "      <td>5.000000</td>\n",
              "    </tr>\n",
              "    <tr>\n",
              "      <th>50%</th>\n",
              "      <td>6.800000</td>\n",
              "      <td>0.260000</td>\n",
              "      <td>0.320000</td>\n",
              "      <td>5.200000</td>\n",
              "      <td>0.043000</td>\n",
              "      <td>34.000000</td>\n",
              "      <td>134.000000</td>\n",
              "      <td>0.993740</td>\n",
              "      <td>3.180000</td>\n",
              "      <td>0.470000</td>\n",
              "      <td>10.400000</td>\n",
              "      <td>6.000000</td>\n",
              "    </tr>\n",
              "    <tr>\n",
              "      <th>75%</th>\n",
              "      <td>7.300000</td>\n",
              "      <td>0.320000</td>\n",
              "      <td>0.390000</td>\n",
              "      <td>9.900000</td>\n",
              "      <td>0.050000</td>\n",
              "      <td>46.000000</td>\n",
              "      <td>167.000000</td>\n",
              "      <td>0.996100</td>\n",
              "      <td>3.280000</td>\n",
              "      <td>0.550000</td>\n",
              "      <td>11.400000</td>\n",
              "      <td>6.000000</td>\n",
              "    </tr>\n",
              "    <tr>\n",
              "      <th>max</th>\n",
              "      <td>14.200000</td>\n",
              "      <td>1.100000</td>\n",
              "      <td>1.660000</td>\n",
              "      <td>65.800000</td>\n",
              "      <td>0.346000</td>\n",
              "      <td>289.000000</td>\n",
              "      <td>440.000000</td>\n",
              "      <td>1.038980</td>\n",
              "      <td>3.820000</td>\n",
              "      <td>1.080000</td>\n",
              "      <td>14.200000</td>\n",
              "      <td>9.000000</td>\n",
              "    </tr>\n",
              "  </tbody>\n",
              "</table>\n",
              "</div>\n",
              "      <button class=\"colab-df-convert\" onclick=\"convertToInteractive('df-be7ea45b-5179-4034-b798-a9d554102ec4')\"\n",
              "              title=\"Convert this dataframe to an interactive table.\"\n",
              "              style=\"display:none;\">\n",
              "        \n",
              "  <svg xmlns=\"http://www.w3.org/2000/svg\" height=\"24px\"viewBox=\"0 0 24 24\"\n",
              "       width=\"24px\">\n",
              "    <path d=\"M0 0h24v24H0V0z\" fill=\"none\"/>\n",
              "    <path d=\"M18.56 5.44l.94 2.06.94-2.06 2.06-.94-2.06-.94-.94-2.06-.94 2.06-2.06.94zm-11 1L8.5 8.5l.94-2.06 2.06-.94-2.06-.94L8.5 2.5l-.94 2.06-2.06.94zm10 10l.94 2.06.94-2.06 2.06-.94-2.06-.94-.94-2.06-.94 2.06-2.06.94z\"/><path d=\"M17.41 7.96l-1.37-1.37c-.4-.4-.92-.59-1.43-.59-.52 0-1.04.2-1.43.59L10.3 9.45l-7.72 7.72c-.78.78-.78 2.05 0 2.83L4 21.41c.39.39.9.59 1.41.59.51 0 1.02-.2 1.41-.59l7.78-7.78 2.81-2.81c.8-.78.8-2.07 0-2.86zM5.41 20L4 18.59l7.72-7.72 1.47 1.35L5.41 20z\"/>\n",
              "  </svg>\n",
              "      </button>\n",
              "      \n",
              "  <style>\n",
              "    .colab-df-container {\n",
              "      display:flex;\n",
              "      flex-wrap:wrap;\n",
              "      gap: 12px;\n",
              "    }\n",
              "\n",
              "    .colab-df-convert {\n",
              "      background-color: #E8F0FE;\n",
              "      border: none;\n",
              "      border-radius: 50%;\n",
              "      cursor: pointer;\n",
              "      display: none;\n",
              "      fill: #1967D2;\n",
              "      height: 32px;\n",
              "      padding: 0 0 0 0;\n",
              "      width: 32px;\n",
              "    }\n",
              "\n",
              "    .colab-df-convert:hover {\n",
              "      background-color: #E2EBFA;\n",
              "      box-shadow: 0px 1px 2px rgba(60, 64, 67, 0.3), 0px 1px 3px 1px rgba(60, 64, 67, 0.15);\n",
              "      fill: #174EA6;\n",
              "    }\n",
              "\n",
              "    [theme=dark] .colab-df-convert {\n",
              "      background-color: #3B4455;\n",
              "      fill: #D2E3FC;\n",
              "    }\n",
              "\n",
              "    [theme=dark] .colab-df-convert:hover {\n",
              "      background-color: #434B5C;\n",
              "      box-shadow: 0px 1px 3px 1px rgba(0, 0, 0, 0.15);\n",
              "      filter: drop-shadow(0px 1px 2px rgba(0, 0, 0, 0.3));\n",
              "      fill: #FFFFFF;\n",
              "    }\n",
              "  </style>\n",
              "\n",
              "      <script>\n",
              "        const buttonEl =\n",
              "          document.querySelector('#df-be7ea45b-5179-4034-b798-a9d554102ec4 button.colab-df-convert');\n",
              "        buttonEl.style.display =\n",
              "          google.colab.kernel.accessAllowed ? 'block' : 'none';\n",
              "\n",
              "        async function convertToInteractive(key) {\n",
              "          const element = document.querySelector('#df-be7ea45b-5179-4034-b798-a9d554102ec4');\n",
              "          const dataTable =\n",
              "            await google.colab.kernel.invokeFunction('convertToInteractive',\n",
              "                                                     [key], {});\n",
              "          if (!dataTable) return;\n",
              "\n",
              "          const docLinkHtml = 'Like what you see? Visit the ' +\n",
              "            '<a target=\"_blank\" href=https://colab.research.google.com/notebooks/data_table.ipynb>data table notebook</a>'\n",
              "            + ' to learn more about interactive tables.';\n",
              "          element.innerHTML = '';\n",
              "          dataTable['output_type'] = 'display_data';\n",
              "          await google.colab.output.renderOutput(dataTable, element);\n",
              "          const docLink = document.createElement('div');\n",
              "          docLink.innerHTML = docLinkHtml;\n",
              "          element.appendChild(docLink);\n",
              "        }\n",
              "      </script>\n",
              "    </div>\n",
              "  </div>\n",
              "  "
            ]
          },
          "metadata": {},
          "execution_count": 13
        }
      ]
    },
    {
      "cell_type": "code",
      "source": [
        "# number of values for each quality\n",
        "sns.catplot(x='quality', data = wine_dataset, kind = 'count')"
      ],
      "metadata": {
        "colab": {
          "base_uri": "https://localhost:8080/",
          "height": 524
        },
        "id": "bfVAAtKBlXiX",
        "outputId": "9301311f-999e-40ee-ef25-5b7d279126e8"
      },
      "execution_count": null,
      "outputs": [
        {
          "output_type": "execute_result",
          "data": {
            "text/plain": [
              "<seaborn.axisgrid.FacetGrid at 0x7f1f7fe0aa70>"
            ]
          },
          "metadata": {},
          "execution_count": 14
        },
        {
          "output_type": "display_data",
          "data": {
            "text/plain": [
              "<Figure size 500x500 with 1 Axes>"
            ],
            "image/png": "[encoded data removed]"
          },
          "metadata": {}
        }
      ]
    },
    {
      "cell_type": "code",
      "source": [
        "# volatile acidity vs Quality\n",
        "plot = plt.figure(figsize=(5,5))\n",
        "sns.barplot(x='quality', y = 'volatile acidity', data = wine_dataset)"
      ],
      "metadata": {
        "colab": {
          "base_uri": "https://localhost:8080/",
          "height": 483
        },
        "id": "KCP_rXPwlc8_",
        "outputId": "bd8b80c6-1487-4b4d-e406-6bd7b68e4193"
      },
      "execution_count": null,
      "outputs": [
        {
          "output_type": "execute_result",
          "data": {
            "text/plain": [
              "<Axes: xlabel='quality', ylabel='volatile acidity'>"
            ]
          },
          "metadata": {},
          "execution_count": 15
        },
        {
          "output_type": "display_data",
          "data": {
            "text/plain": [
              "<Figure size 500x500 with 1 Axes>"
            ],
            "image/png": "[encoded data removed]"
          },
          "metadata": {}
        }
      ]
    },
    {
      "cell_type": "code",
      "source": [
        "# citric acid vs Quality\n",
        "plot = plt.figure(figsize=(5,5))\n",
        "sns.barplot(x='quality', y = 'citric acid', data = wine_dataset)"
      ],
      "metadata": {
        "colab": {
          "base_uri": "https://localhost:8080/",
          "height": 483
        },
        "id": "_6EJ-T7ZljcV",
        "outputId": "e6db4d8e-0b84-4554-e8fa-d9b15ee6ed7a"
      },
      "execution_count": null,
      "outputs": [
        {
          "output_type": "execute_result",
          "data": {
            "text/plain": [
              "<Axes: xlabel='quality', ylabel='citric acid'>"
            ]
          },
          "metadata": {},
          "execution_count": 16
        },
        {
          "output_type": "display_data",
          "data": {
            "text/plain": [
              "<Figure size 500x500 with 1 Axes>"
            ],
            "image/png": "[encoded data removed]"
          },
          "metadata": {}
        }
      ]
    },
    {
      "cell_type": "code",
      "source": [
        "# pH vs Quality\n",
        "plot = plt.figure(figsize=(5,5))\n",
        "sns.barplot(x='quality', y = 'pH', data = wine_dataset)"
      ],
      "metadata": {
        "colab": {
          "base_uri": "https://localhost:8080/",
          "height": 483
        },
        "id": "CRtXI0S1lpRc",
        "outputId": "ae7397f9-cc40-4253-b3ca-77a8c498aca3"
      },
      "execution_count": null,
      "outputs": [
        {
          "output_type": "execute_result",
          "data": {
            "text/plain": [
              "<Axes: xlabel='quality', ylabel='pH'>"
            ]
          },
          "metadata": {},
          "execution_count": 17
        },
        {
          "output_type": "display_data",
          "data": {
            "text/plain": [
              "<Figure size 500x500 with 1 Axes>"
            ],
            "image/png": "[encoded data removed]"
          },
          "metadata": {}
        }
      ]
    },
    {
      "cell_type": "code",
      "source": [
        "# alcohol vs Quality\n",
        "plot = plt.figure(figsize=(5,5))\n",
        "sns.barplot(x='quality', y = 'alcohol', data = wine_dataset)"
      ],
      "metadata": {
        "colab": {
          "base_uri": "https://localhost:8080/",
          "height": 483
        },
        "id": "WwLCZV25mMwq",
        "outputId": "7ab12b03-ac1c-4474-8dc6-b610538844ae"
      },
      "execution_count": null,
      "outputs": [
        {
          "output_type": "execute_result",
          "data": {
            "text/plain": [
              "<Axes: xlabel='quality', ylabel='alcohol'>"
            ]
          },
          "metadata": {},
          "execution_count": 18
        },
        {
          "output_type": "display_data",
          "data": {
            "text/plain": [
              "<Figure size 500x500 with 1 Axes>"
            ],
            "image/png": "[encoded data removed]"
          },
          "metadata": {}
        }
      ]
    },
    {
      "cell_type": "markdown",
      "source": [
        "**Correlation**"
      ],
      "metadata": {
        "id": "FmaV9hV9mmt8"
      }
    },
    {
      "cell_type": "code",
      "source": [
        "correlation = wine_dataset.corr()"
      ],
      "metadata": {
        "id": "edvE3wZjmjWI"
      },
      "execution_count": null,
      "outputs": []
    },
    {
      "cell_type": "code",
      "source": [
        "# constructing a heatmap to understand the correlation between the columns\n",
        "plt.figure(figsize=(10,10))\n",
        "sns.heatmap(correlation, cbar=True, square=True, fmt = '.1f', annot = True, annot_kws={'size':8}, cmap = 'Greens')"
      ],
      "metadata": {
        "colab": {
          "base_uri": "https://localhost:8080/",
          "height": 895
        },
        "id": "t-pBTJHOmtUD",
        "outputId": "a751258a-305a-46d5-fce7-f1995ad5253f"
      },
      "execution_count": null,
      "outputs": [
        {
          "output_type": "execute_result",
          "data": {
            "text/plain": [
              "<Axes: >"
            ]
          },
          "metadata": {},
          "execution_count": 20
        },
        {
          "output_type": "display_data",
          "data": {
            "text/plain": [
              "<Figure size 1000x1000 with 2 Axes>"
            ],
            "image/png": "[encoded data removed]"
          },
          "metadata": {}
        }
      ]
    },
    {
      "cell_type": "markdown",
      "source": [
        "## **Data** **Preprocessing**"
      ],
      "metadata": {
        "id": "GNAST2CTnP47"
      }
    },
    {
      "cell_type": "code",
      "source": [
        "# separate the data and Label\n",
        "X = wine_dataset.drop('quality',axis=1)\n",
        "print(X)"
      ],
      "metadata": {
        "colab": {
          "base_uri": "https://localhost:8080/"
        },
        "id": "Hkat5OIOnBrn",
        "outputId": "202e7417-5396-48bf-ea17-52b366726708"
      },
      "execution_count": null,
      "outputs": [
        {
          "output_type": "stream",
          "name": "stdout",
          "text": [
            "      fixed acidity  volatile acidity  citric acid  residual sugar  chlorides  \\\n",
            "0               7.0              0.27         0.36            20.7      0.045   \n",
            "1               6.3              0.30         0.34             1.6      0.049   \n",
            "2               8.1              0.28         0.40             6.9      0.050   \n",
            "3               7.2              0.23         0.32             8.5      0.058   \n",
            "4               7.2              0.23         0.32             8.5      0.058   \n",
            "...             ...               ...          ...             ...        ...   \n",
            "4893            6.2              0.21         0.29             1.6      0.039   \n",
            "4894            6.6              0.32         0.36             8.0      0.047   \n",
            "4895            6.5              0.24         0.19             1.2      0.041   \n",
            "4896            5.5              0.29         0.30             1.1      0.022   \n",
            "4897            6.0              0.21         0.38             0.8      0.020   \n",
            "\n",
            "      free sulfur dioxide  total sulfur dioxide  density    pH  sulphates  \\\n",
            "0                    45.0                 170.0  1.00100  3.00       0.45   \n",
            "1                    14.0                 132.0  0.99400  3.30       0.49   \n",
            "2                    30.0                  97.0  0.99510  3.26       0.44   \n",
            "3                    47.0                 186.0  0.99560  3.19       0.40   \n",
            "4                    47.0                 186.0  0.99560  3.19       0.40   \n",
            "...                   ...                   ...      ...   ...        ...   \n",
            "4893                 24.0                  92.0  0.99114  3.27       0.50   \n",
            "4894                 57.0                 168.0  0.99490  3.15       0.46   \n",
            "4895                 30.0                 111.0  0.99254  2.99       0.46   \n",
            "4896                 20.0                 110.0  0.98869  3.34       0.38   \n",
            "4897                 22.0                  98.0  0.98941  3.26       0.32   \n",
            "\n",
            "      alcohol  \n",
            "0         8.8  \n",
            "1         9.5  \n",
            "2        10.1  \n",
            "3         9.9  \n",
            "4         9.9  \n",
            "...       ...  \n",
            "4893     11.2  \n",
            "4894      9.6  \n",
            "4895      9.4  \n",
            "4896     12.8  \n",
            "4897     11.8  \n",
            "\n",
            "[4898 rows x 11 columns]\n"
          ]
        }
      ]
    },
    {
      "cell_type": "markdown",
      "source": [
        "**`Label`** **`Binarization`**"
      ],
      "metadata": {
        "id": "UWddOZc-neSz"
      }
    },
    {
      "cell_type": "code",
      "source": [
        "Y = wine_dataset['quality'].apply(lambda y_value: 1 if y_value>=7 else 0)\n",
        "print(Y)"
      ],
      "metadata": {
        "colab": {
          "base_uri": "https://localhost:8080/"
        },
        "id": "pvYU7zUA8Vec",
        "outputId": "1419bbc0-0988-4a1b-835d-b9eb4860f27d"
      },
      "execution_count": null,
      "outputs": [
        {
          "output_type": "stream",
          "name": "stdout",
          "text": [
            "0       0\n",
            "1       0\n",
            "2       0\n",
            "3       0\n",
            "4       0\n",
            "       ..\n",
            "4893    0\n",
            "4894    0\n",
            "4895    0\n",
            "4896    1\n",
            "4897    0\n",
            "Name: quality, Length: 4898, dtype: int64\n"
          ]
        }
      ]
    },
    {
      "cell_type": "code",
      "source": [
        "Y.value_counts()"
      ],
      "metadata": {
        "id": "_DWa3yeA9MKI",
        "outputId": "bb0860ca-e2f8-4c47-cd72-f4fa73cd9d7e",
        "colab": {
          "base_uri": "https://localhost:8080/"
        }
      },
      "execution_count": null,
      "outputs": [
        {
          "output_type": "execute_result",
          "data": {
            "text/plain": [
              "0    3838\n",
              "1    1060\n",
              "Name: quality, dtype: int64"
            ]
          },
          "metadata": {},
          "execution_count": 23
        }
      ]
    },
    {
      "cell_type": "code",
      "source": [
        "sns.countplot(Y)"
      ],
      "metadata": {
        "id": "dBAf34JoDeEM",
        "outputId": "b6526891-06b1-49d6-ad06-eaecb2486d7f",
        "colab": {
          "base_uri": "https://localhost:8080/",
          "height": 448
        }
      },
      "execution_count": null,
      "outputs": [
        {
          "output_type": "execute_result",
          "data": {
            "text/plain": [
              "<Axes: ylabel='count'>"
            ]
          },
          "metadata": {},
          "execution_count": 24
        },
        {
          "output_type": "display_data",
          "data": {
            "text/plain": [
              "<Figure size 640x480 with 1 Axes>"
            ],
            "image/png": "[encoded data removed]"
          },
          "metadata": {}
        }
      ]
    },
    {
      "cell_type": "markdown",
      "source": [
        "### **Train & Test Split**"
      ],
      "metadata": {
        "id": "foLdKr4antqF"
      }
    },
    {
      "cell_type": "code",
      "source": [
        "X_train, X_test, Y_train, Y_test = train_test_split(X, Y, test_size=0.2, random_state=3)"
      ],
      "metadata": {
        "id": "FNHlMyhsnpYO"
      },
      "execution_count": null,
      "outputs": []
    },
    {
      "cell_type": "code",
      "source": [
        "print(Y.shape, Y_train.shape, Y_test.shape)"
      ],
      "metadata": {
        "colab": {
          "base_uri": "https://localhost:8080/"
        },
        "id": "bzl2xUmpn2wz",
        "outputId": "77561413-4b59-464b-dc2c-ac617722a948"
      },
      "execution_count": null,
      "outputs": [
        {
          "output_type": "stream",
          "name": "stdout",
          "text": [
            "(4898,) (3918,) (980,)\n"
          ]
        }
      ]
    },
    {
      "cell_type": "markdown",
      "source": [
        "## Model Training & Evaluation:\n"
      ],
      "metadata": {
        "id": "1etXYUERn6Ui"
      }
    },
    {
      "cell_type": "markdown",
      "source": [
        "## Random Forest"
      ],
      "metadata": {
        "id": "1LVUryA6rVpp"
      }
    },
    {
      "cell_type": "code",
      "source": [
        "from sklearn.ensemble import RandomForestClassifier\n",
        "model1 = RandomForestClassifier(random_state=1)\n",
        "model1.fit(X_train, Y_train)\n",
        "y_pred1 = model1.predict(X_test)\n",
        "\n",
        "from sklearn.metrics import accuracy_score\n",
        "print(\"Accuracy Score:\",accuracy_score(Y_test,y_pred1))\n",
        "\n",
        "from sklearn.metrics import f1_score\n",
        "print( 'F1 Score:' , f1_score(Y_test, y_pred1))\n",
        "\n",
        "from sklearn.metrics import precision_score\n",
        "print( 'precision:' , precision_score(Y_test, y_pred1))\n",
        "\n",
        "from sklearn.metrics import recall_score\n",
        "print( 'recall:' , recall_score(Y_test, y_pred1))"
      ],
      "metadata": {
        "colab": {
          "base_uri": "https://localhost:8080/"
        },
        "id": "i6hiIND4n46V",
        "outputId": "250c8cb6-95ad-4e59-9a20-c204de371b7c"
      },
      "execution_count": null,
      "outputs": [
        {
          "output_type": "stream",
          "name": "stdout",
          "text": [
            "Accuracy Score: 0.8683673469387755\n",
            "F1 Score: 0.6734177215189874\n",
            "precision: 0.7869822485207101\n",
            "recall: 0.588495575221239\n"
          ]
        }
      ]
    },
    {
      "cell_type": "markdown",
      "source": [
        "## LogisticRegression:"
      ],
      "metadata": {
        "id": "JefcyGAhqFhK"
      }
    },
    {
      "cell_type": "code",
      "source": [
        "from sklearn.linear_model import LogisticRegression\n",
        "model2 = LogisticRegression()\n",
        "model2.fit(X_train,Y_train)\n",
        "y_pred2 = model2.predict(X_test)\n",
        "\n",
        "from sklearn.metrics import accuracy_score,confusion_matrix\n",
        "print(\"Accuracy Score:\",accuracy_score(Y_test,y_pred2))\n",
        "\n",
        "from sklearn.metrics import f1_score\n",
        "print( 'F1 Score:' , f1_score(Y_test, y_pred2))\n",
        "\n",
        "from sklearn.metrics import precision_score\n",
        "print( 'precision:' , precision_score(Y_test, y_pred2))\n",
        "\n",
        "from sklearn.metrics import recall_score\n",
        "print( 'recall:' , recall_score(Y_test, y_pred2))"
      ],
      "metadata": {
        "colab": {
          "base_uri": "https://localhost:8080/"
        },
        "id": "59FpCI9Spy_H",
        "outputId": "8887a518-f542-4dfd-fbe6-451aa6c4d1ef"
      },
      "execution_count": null,
      "outputs": [
        {
          "output_type": "stream",
          "name": "stdout",
          "text": [
            "Accuracy Score: 0.7948979591836735\n",
            "F1 Score: 0.38905775075987836\n",
            "precision: 0.6213592233009708\n",
            "recall: 0.2831858407079646\n"
          ]
        },
        {
          "output_type": "stream",
          "name": "stderr",
          "text": [
            "/usr/local/lib/python3.10/dist-packages/sklearn/linear_model/_logistic.py:458: ConvergenceWarning: lbfgs failed to converge (status=1):\n",
            "STOP: TOTAL NO. of ITERATIONS REACHED LIMIT.\n",
            "\n",
            "Increase the number of iterations (max_iter) or scale the data as shown in:\n",
            "    https://scikit-learn.org/stable/modules/preprocessing.html\n",
            "Please also refer to the documentation for alternative solver options:\n",
            "    https://scikit-learn.org/stable/modules/linear_model.html#logistic-regression\n",
            "  n_iter_i = _check_optimize_result(\n"
          ]
        }
      ]
    },
    {
      "cell_type": "markdown",
      "source": [
        "## Using KNN:"
      ],
      "metadata": {
        "id": "qkasY8QdqXp9"
      }
    },
    {
      "cell_type": "code",
      "source": [
        "from sklearn.neighbors import KNeighborsClassifier\n",
        "model3 = KNeighborsClassifier(n_neighbors=3)\n",
        "model3.fit(X_train,Y_train)\n",
        "y_pred3 = model3.predict(X_test)\n",
        "\n",
        "from sklearn.metrics import accuracy_score\n",
        "print(\"Accuracy Score:\",accuracy_score(Y_test,y_pred3))\n",
        "\n",
        "from sklearn.metrics import f1_score\n",
        "print( 'F1 Score:' , f1_score(Y_test, y_pred3))\n",
        "\n",
        "from sklearn.metrics import precision_score\n",
        "print( 'precision:' , precision_score(Y_test, y_pred3))\n",
        "\n",
        "from sklearn.metrics import recall_score\n",
        "print( 'recall:' , recall_score(Y_test, y_pred3))"
      ],
      "metadata": {
        "colab": {
          "base_uri": "https://localhost:8080/"
        },
        "id": "KzbuEkzcqLvq",
        "outputId": "5c2ac377-9159-4be1-c6b0-ce8c47d5ce19"
      },
      "execution_count": null,
      "outputs": [
        {
          "output_type": "stream",
          "name": "stdout",
          "text": [
            "Accuracy Score: 0.7744897959183673\n",
            "F1 Score: 0.4824355971896956\n",
            "precision: 0.5124378109452736\n",
            "recall: 0.4557522123893805\n"
          ]
        }
      ]
    },
    {
      "cell_type": "markdown",
      "source": [
        "## Using SVC:"
      ],
      "metadata": {
        "id": "LgaNap7Rqey3"
      }
    },
    {
      "cell_type": "code",
      "source": [
        "from sklearn.svm import SVC\n",
        "model4 = SVC()\n",
        "model4.fit(X_train,Y_train)\n",
        "y_pred4 = model4.predict(X_test)\n",
        "\n",
        "from sklearn.metrics import accuracy_score\n",
        "print(\"Accuracy Score:\",accuracy_score(Y_test,y_pred4))\n",
        "\n",
        "from sklearn.metrics import f1_score\n",
        "print( 'F1 Score:' , f1_score(Y_test, y_pred4))\n",
        "\n",
        "from sklearn.metrics import precision_score\n",
        "print( 'precision:' , precision_score(Y_test, y_pred4))\n",
        "\n",
        "from sklearn.metrics import recall_score\n",
        "print( 'recall:' , recall_score(Y_test, y_pred4))"
      ],
      "metadata": {
        "colab": {
          "base_uri": "https://localhost:8080/"
        },
        "id": "pC_iT9PhqRqR",
        "outputId": "02eb0b79-8b65-4bea-e41e-0f307fbbef43"
      },
      "execution_count": null,
      "outputs": [
        {
          "output_type": "stream",
          "name": "stdout",
          "text": [
            "Accuracy Score: 0.7693877551020408\n",
            "F1 Score: 0.0\n",
            "precision: 0.0\n",
            "recall: 0.0\n"
          ]
        },
        {
          "output_type": "stream",
          "name": "stderr",
          "text": [
            "/usr/local/lib/python3.10/dist-packages/sklearn/metrics/_classification.py:1344: UndefinedMetricWarning: Precision is ill-defined and being set to 0.0 due to no predicted samples. Use `zero_division` parameter to control this behavior.\n",
            "  _warn_prf(average, modifier, msg_start, len(result))\n"
          ]
        }
      ]
    },
    {
      "cell_type": "markdown",
      "source": [
        "## Using GaussianNB:"
      ],
      "metadata": {
        "id": "TXsk_OPxqtyC"
      }
    },
    {
      "cell_type": "code",
      "source": [
        "from sklearn.naive_bayes import GaussianNB\n",
        "model5 = GaussianNB()\n",
        "model5.fit(X_train,Y_train)\n",
        "y_pred5 = model5.predict(X_test)\n",
        "\n",
        "from sklearn.metrics import accuracy_score\n",
        "print(\"Accuracy Score:\",accuracy_score(Y_test,y_pred5))\n",
        "\n",
        "from sklearn.metrics import f1_score\n",
        "print( 'F1 Score:' , f1_score(Y_test, y_pred5))\n",
        "\n",
        "from sklearn.metrics import precision_score\n",
        "print( 'precision:' , precision_score(Y_test, y_pred5))\n",
        "\n",
        "from sklearn.metrics import recall_score\n",
        "print( 'recall:' , recall_score(Y_test, y_pred5))"
      ],
      "metadata": {
        "colab": {
          "base_uri": "https://localhost:8080/"
        },
        "id": "mSLA6qZwqoCs",
        "outputId": "4b092456-d9b2-45fd-b5ad-508b2699e228"
      },
      "execution_count": null,
      "outputs": [
        {
          "output_type": "stream",
          "name": "stdout",
          "text": [
            "Accuracy Score: 0.7091836734693877\n",
            "F1 Score: 0.5410628019323672\n",
            "precision: 0.4253164556962025\n",
            "recall: 0.7433628318584071\n"
          ]
        }
      ]
    },
    {
      "cell_type": "markdown",
      "source": [
        "## Using Xgboost:"
      ],
      "metadata": {
        "id": "UQDCjVGJq8ri"
      }
    },
    {
      "cell_type": "code",
      "source": [
        "import xgboost as xgb\n",
        "model6 = xgb.XGBClassifier(random_state=1)\n",
        "model6.fit(X_train, Y_train)\n",
        "y_pred6 = model6.predict(X_test)\n",
        "\n",
        "from sklearn.metrics import accuracy_score\n",
        "print(\"Accuracy Score:\",accuracy_score(Y_test,y_pred6))\n",
        "\n",
        "from sklearn.metrics import f1_score\n",
        "print( 'F1 Score:' , f1_score(Y_test, y_pred6))\n",
        "\n",
        "from sklearn.metrics import precision_score\n",
        "print( 'precision:' , precision_score(Y_test, y_pred6))\n",
        "\n",
        "from sklearn.metrics import recall_score\n",
        "print( 'recall:' , recall_score(Y_test, y_pred6))"
      ],
      "metadata": {
        "colab": {
          "base_uri": "https://localhost:8080/"
        },
        "id": "TlclgAJUqqdA",
        "outputId": "bf0ee3ef-6967-402e-818b-5360caa148ea"
      },
      "execution_count": null,
      "outputs": [
        {
          "output_type": "stream",
          "name": "stdout",
          "text": [
            "Accuracy Score: 0.8622448979591837\n",
            "F1 Score: 0.6838407494145199\n",
            "precision: 0.7263681592039801\n",
            "recall: 0.6460176991150443\n"
          ]
        }
      ]
    },
    {
      "cell_type": "code",
      "source": [
        "from sklearn.naive_bayes import MultinomialNB\n",
        "model8 = MultinomialNB()\n",
        "model8.fit(X_train,Y_train)\n",
        "y_pred8 = model8.predict(X_test)\n",
        "\n",
        "from sklearn.metrics import accuracy_score\n",
        "print(\"Accuracy Score:\",accuracy_score(Y_test,y_pred8))\n",
        "\n",
        "from sklearn.metrics import f1_score\n",
        "print( 'F1 Score:' , f1_score(Y_test, y_pred8))\n",
        "\n",
        "from sklearn.metrics import precision_score\n",
        "print( 'precision:' , precision_score(Y_test, y_pred8))\n",
        "\n",
        "from sklearn.metrics import recall_score\n",
        "print( 'recall:' , recall_score(Y_test, y_pred8))"
      ],
      "metadata": {
        "id": "bfCO_nkraHgQ"
      },
      "execution_count": null,
      "outputs": []
    },
    {
      "cell_type": "code",
      "source": [],
      "metadata": {
        "id": "93cK7RV7ZIij"
      },
      "execution_count": null,
      "outputs": []
    },
    {
      "cell_type": "code",
      "source": [
        "results = pd.DataFrame({\n",
        "    'Model': ['Random Forest','Logistic Regression', 'KNN','SVC' ,'GaussianNB','Xgboost'],\n",
        "    'Score': [0.9281,0.9,0.8875,0.8843,0.8562,0.9218]})\n",
        "\n",
        "result_df = results.sort_values(by='Score', ascending=False)\n",
        "result_df = result_df.set_index('Score')\n",
        "result_df"
      ],
      "metadata": {
        "id": "sq9-L6KLqqZj"
      },
      "execution_count": null,
      "outputs": []
    },
    {
      "cell_type": "code",
      "source": [
        "from keras.models import Sequential\n",
        "from keras.layers import Dense\n",
        "model = Sequential()\n",
        "model.add(Dense(12, activation ='relu', input_shape =(11, )))\n",
        "model.add(Dense(9, activation ='relu'))\n",
        "model.add(Dense(1, activation ='sigmoid'))\n",
        "model.output_shape\n",
        "\n",
        "model.summary()\n",
        "\n",
        "model.get_config()\n",
        "\n",
        "model.get_weights()\n",
        "model.compile(loss ='binary_crossentropy',\n",
        "optimizer ='adam', metrics =['accuracy'])\n"
      ],
      "metadata": {
        "id": "psdA923NqqVC"
      },
      "execution_count": null,
      "outputs": []
    },
    {
      "cell_type": "code",
      "source": [
        "# Training Model\n",
        "history=model.fit(X_train, Y_train, validation_split=0.1,epochs = 20,\n",
        "\t\tbatch_size = 1, verbose = 1)\n",
        "\n",
        "# Predicting the Value\n",
        "y_pred = model.predict(X_test)\n",
        "print(y_pred)\n"
      ],
      "metadata": {
        "id": "ywlgfgaAAGfr"
      },
      "execution_count": null,
      "outputs": []
    },
    {
      "cell_type": "code",
      "source": [
        "import matplotlib.pyplot as plt\n",
        "\n",
        "plt.plot(history.history['accuracy'])\n",
        "plt.plot(history.history['val_accuracy'])\n",
        "\n",
        "plt.title('model accuracy')\n",
        "plt.ylabel('accuracy')\n",
        "plt.xlabel('val_accuracy')\n",
        "\n",
        "plt.legend(['training data', 'validation data'], loc = 'lower right')"
      ],
      "metadata": {
        "id": "xybO3mBSALLT"
      },
      "execution_count": null,
      "outputs": []
    },
    {
      "cell_type": "code",
      "source": [
        "from keras.models import Sequential\n",
        "from keras.layers import Dense"
      ],
      "metadata": {
        "id": "eNUoVG9uAPYB"
      },
      "execution_count": null,
      "outputs": []
    },
    {
      "cell_type": "code",
      "source": [
        "model = Sequential()\n",
        "model.add(Dense(11,activation='relu',input_dim=11))\n",
        "model.add(Dense(1,activation='sigmoid'))\n",
        "\n",
        "model.compile(loss='binary_crossentropy',optimizer='adam',metrics=['accuracy'])"
      ],
      "metadata": {
        "id": "XEQarzejCDu8"
      },
      "execution_count": null,
      "outputs": []
    },
    {
      "cell_type": "code",
      "source": [
        "model.fit(X_train,Y_train,validation_split=0.1,epochs=10)"
      ],
      "metadata": {
        "id": "1gFEiQaaCFj6"
      },
      "execution_count": null,
      "outputs": []
    },
    {
      "cell_type": "code",
      "source": [
        "plt.plot(history.history['loss'], label='MAE training data')\n",
        "plt.plot(history.history['val_loss'], label='MAE validation data')\n",
        "plt.legend()\n",
        "plt.title('MAE for model')\n",
        "plt.ylabel('MAE')\n",
        "plt.xlabel('epoch')\n",
        "plt.show()"
      ],
      "metadata": {
        "id": "MR7DMHOsSp0n"
      },
      "execution_count": null,
      "outputs": []
    },
    {
      "cell_type": "code",
      "source": [
        "plt.plot(history.history['accuracy'], label='Accuracy training data')\n",
        "plt.plot(history.history['val_accuracy'], label='Accuracy validation data')\n",
        "plt.legend()\n",
        "plt.title('Model accuracy')\n",
        "plt.ylabel('Accuracy')\n",
        "plt.xlabel('epoch')\n",
        "plt.show()"
      ],
      "metadata": {
        "id": "NrXCG6H_SxVc"
      },
      "execution_count": null,
      "outputs": []
    },
    {
      "cell_type": "code",
      "source": [],
      "metadata": {
        "id": "BEbgjtB0S9zs"
      },
      "execution_count": null,
      "outputs": []
    }
  ]
}