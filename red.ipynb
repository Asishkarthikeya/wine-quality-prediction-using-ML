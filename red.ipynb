{
  "cells": [
    {
      "cell_type": "code",
      "execution_count": null,
      "metadata": {
        "id": "jU6EN8ukaPh7"
      },
      "outputs": [],
      "source": [
        "import numpy as np\n",
        "import pandas as pd\n",
        "import matplotlib.pyplot as plt\n",
        "import seaborn as sns\n",
        "from sklearn.model_selection import train_test_split"
      ]
    },
    {
      "cell_type": "code",
      "execution_count": null,
      "metadata": {
        "id": "HcBzXaCyaaZw"
      },
      "outputs": [],
      "source": [
        "df= pd.read_csv('winequality-red.csv')"
      ]
    },
    {
      "cell_type": "code",
      "execution_count": null,
      "metadata": {
        "colab": {
          "base_uri": "https://localhost:8080/",
          "height": 206
        },
        "id": "OpAWjNqKatec",
        "outputId": "30f47f64-9bed-416b-859f-2b62e4df486c"
      },
      "outputs": [
        {
          "data": {
            "text/html": [
              "<div>\n",
              "<style scoped>\n",
              "    .dataframe tbody tr th:only-of-type {\n",
              "        vertical-align: middle;\n",
              "    }\n",
              "\n",
              "    .dataframe tbody tr th {\n",
              "        vertical-align: top;\n",
              "    }\n",
              "\n",
              "    .dataframe thead th {\n",
              "        text-align: right;\n",
              "    }\n",
              "</style>\n",
              "<table border=\"1\" class=\"dataframe\">\n",
              "  <thead>\n",
              "    <tr style=\"text-align: right;\">\n",
              "      <th></th>\n",
              "      <th>fixed acidity</th>\n",
              "      <th>volatile acidity</th>\n",
              "      <th>citric acid</th>\n",
              "      <th>residual sugar</th>\n",
              "      <th>chlorides</th>\n",
              "      <th>free sulfur dioxide</th>\n",
              "      <th>total sulfur dioxide</th>\n",
              "      <th>density</th>\n",
              "      <th>pH</th>\n",
              "      <th>sulphates</th>\n",
              "      <th>alcohol</th>\n",
              "      <th>quality</th>\n",
              "    </tr>\n",
              "  </thead>\n",
              "  <tbody>\n",
              "    <tr>\n",
              "      <th>0</th>\n",
              "      <td>7.4</td>\n",
              "      <td>0.70</td>\n",
              "      <td>0.00</td>\n",
              "      <td>1.9</td>\n",
              "      <td>0.076</td>\n",
              "      <td>11.0</td>\n",
              "      <td>34.0</td>\n",
              "      <td>0.9978</td>\n",
              "      <td>3.51</td>\n",
              "      <td>0.56</td>\n",
              "      <td>9.4</td>\n",
              "      <td>5</td>\n",
              "    </tr>\n",
              "    <tr>\n",
              "      <th>1</th>\n",
              "      <td>7.8</td>\n",
              "      <td>0.88</td>\n",
              "      <td>0.00</td>\n",
              "      <td>2.6</td>\n",
              "      <td>0.098</td>\n",
              "      <td>25.0</td>\n",
              "      <td>67.0</td>\n",
              "      <td>0.9968</td>\n",
              "      <td>3.20</td>\n",
              "      <td>0.68</td>\n",
              "      <td>9.8</td>\n",
              "      <td>5</td>\n",
              "    </tr>\n",
              "    <tr>\n",
              "      <th>2</th>\n",
              "      <td>7.8</td>\n",
              "      <td>0.76</td>\n",
              "      <td>0.04</td>\n",
              "      <td>2.3</td>\n",
              "      <td>0.092</td>\n",
              "      <td>15.0</td>\n",
              "      <td>54.0</td>\n",
              "      <td>0.9970</td>\n",
              "      <td>3.26</td>\n",
              "      <td>0.65</td>\n",
              "      <td>9.8</td>\n",
              "      <td>5</td>\n",
              "    </tr>\n",
              "    <tr>\n",
              "      <th>3</th>\n",
              "      <td>11.2</td>\n",
              "      <td>0.28</td>\n",
              "      <td>0.56</td>\n",
              "      <td>1.9</td>\n",
              "      <td>0.075</td>\n",
              "      <td>17.0</td>\n",
              "      <td>60.0</td>\n",
              "      <td>0.9980</td>\n",
              "      <td>3.16</td>\n",
              "      <td>0.58</td>\n",
              "      <td>9.8</td>\n",
              "      <td>6</td>\n",
              "    </tr>\n",
              "    <tr>\n",
              "      <th>4</th>\n",
              "      <td>7.4</td>\n",
              "      <td>0.70</td>\n",
              "      <td>0.00</td>\n",
              "      <td>1.9</td>\n",
              "      <td>0.076</td>\n",
              "      <td>11.0</td>\n",
              "      <td>34.0</td>\n",
              "      <td>0.9978</td>\n",
              "      <td>3.51</td>\n",
              "      <td>0.56</td>\n",
              "      <td>9.4</td>\n",
              "      <td>5</td>\n",
              "    </tr>\n",
              "  </tbody>\n",
              "</table>\n",
              "</div>"
            ],
            "text/plain": [
              "   fixed acidity  volatile acidity  citric acid  residual sugar  chlorides  \\\n",
              "0            7.4              0.70         0.00             1.9      0.076   \n",
              "1            7.8              0.88         0.00             2.6      0.098   \n",
              "2            7.8              0.76         0.04             2.3      0.092   \n",
              "3           11.2              0.28         0.56             1.9      0.075   \n",
              "4            7.4              0.70         0.00             1.9      0.076   \n",
              "\n",
              "   free sulfur dioxide  total sulfur dioxide  density    pH  sulphates  \\\n",
              "0                 11.0                  34.0   0.9978  3.51       0.56   \n",
              "1                 25.0                  67.0   0.9968  3.20       0.68   \n",
              "2                 15.0                  54.0   0.9970  3.26       0.65   \n",
              "3                 17.0                  60.0   0.9980  3.16       0.58   \n",
              "4                 11.0                  34.0   0.9978  3.51       0.56   \n",
              "\n",
              "   alcohol  quality  \n",
              "0      9.4        5  \n",
              "1      9.8        5  \n",
              "2      9.8        5  \n",
              "3      9.8        6  \n",
              "4      9.4        5  "
            ]
          },
          "execution_count": 77,
          "metadata": {},
          "output_type": "execute_result"
        }
      ],
      "source": [
        "df.head()"
      ]
    },
    {
      "cell_type": "code",
      "execution_count": null,
      "metadata": {
        "colab": {
          "base_uri": "https://localhost:8080/",
          "height": 206
        },
        "id": "ujGva9ClbtzB",
        "outputId": "97820521-6451-4c49-d842-64301b2be966"
      },
      "outputs": [
        {
          "data": {
            "text/html": [
              "<div>\n",
              "<style scoped>\n",
              "    .dataframe tbody tr th:only-of-type {\n",
              "        vertical-align: middle;\n",
              "    }\n",
              "\n",
              "    .dataframe tbody tr th {\n",
              "        vertical-align: top;\n",
              "    }\n",
              "\n",
              "    .dataframe thead th {\n",
              "        text-align: right;\n",
              "    }\n",
              "</style>\n",
              "<table border=\"1\" class=\"dataframe\">\n",
              "  <thead>\n",
              "    <tr style=\"text-align: right;\">\n",
              "      <th></th>\n",
              "      <th>fixed acidity</th>\n",
              "      <th>volatile acidity</th>\n",
              "      <th>citric acid</th>\n",
              "      <th>residual sugar</th>\n",
              "      <th>chlorides</th>\n",
              "      <th>free sulfur dioxide</th>\n",
              "      <th>total sulfur dioxide</th>\n",
              "      <th>density</th>\n",
              "      <th>pH</th>\n",
              "      <th>sulphates</th>\n",
              "      <th>alcohol</th>\n",
              "      <th>quality</th>\n",
              "    </tr>\n",
              "  </thead>\n",
              "  <tbody>\n",
              "    <tr>\n",
              "      <th>1594</th>\n",
              "      <td>6.2</td>\n",
              "      <td>0.600</td>\n",
              "      <td>0.08</td>\n",
              "      <td>2.0</td>\n",
              "      <td>0.090</td>\n",
              "      <td>32.0</td>\n",
              "      <td>44.0</td>\n",
              "      <td>0.99490</td>\n",
              "      <td>3.45</td>\n",
              "      <td>0.58</td>\n",
              "      <td>10.5</td>\n",
              "      <td>5</td>\n",
              "    </tr>\n",
              "    <tr>\n",
              "      <th>1595</th>\n",
              "      <td>5.9</td>\n",
              "      <td>0.550</td>\n",
              "      <td>0.10</td>\n",
              "      <td>2.2</td>\n",
              "      <td>0.062</td>\n",
              "      <td>39.0</td>\n",
              "      <td>51.0</td>\n",
              "      <td>0.99512</td>\n",
              "      <td>3.52</td>\n",
              "      <td>0.76</td>\n",
              "      <td>11.2</td>\n",
              "      <td>6</td>\n",
              "    </tr>\n",
              "    <tr>\n",
              "      <th>1596</th>\n",
              "      <td>6.3</td>\n",
              "      <td>0.510</td>\n",
              "      <td>0.13</td>\n",
              "      <td>2.3</td>\n",
              "      <td>0.076</td>\n",
              "      <td>29.0</td>\n",
              "      <td>40.0</td>\n",
              "      <td>0.99574</td>\n",
              "      <td>3.42</td>\n",
              "      <td>0.75</td>\n",
              "      <td>11.0</td>\n",
              "      <td>6</td>\n",
              "    </tr>\n",
              "    <tr>\n",
              "      <th>1597</th>\n",
              "      <td>5.9</td>\n",
              "      <td>0.645</td>\n",
              "      <td>0.12</td>\n",
              "      <td>2.0</td>\n",
              "      <td>0.075</td>\n",
              "      <td>32.0</td>\n",
              "      <td>44.0</td>\n",
              "      <td>0.99547</td>\n",
              "      <td>3.57</td>\n",
              "      <td>0.71</td>\n",
              "      <td>10.2</td>\n",
              "      <td>5</td>\n",
              "    </tr>\n",
              "    <tr>\n",
              "      <th>1598</th>\n",
              "      <td>6.0</td>\n",
              "      <td>0.310</td>\n",
              "      <td>0.47</td>\n",
              "      <td>3.6</td>\n",
              "      <td>0.067</td>\n",
              "      <td>18.0</td>\n",
              "      <td>42.0</td>\n",
              "      <td>0.99549</td>\n",
              "      <td>3.39</td>\n",
              "      <td>0.66</td>\n",
              "      <td>11.0</td>\n",
              "      <td>6</td>\n",
              "    </tr>\n",
              "  </tbody>\n",
              "</table>\n",
              "</div>"
            ],
            "text/plain": [
              "      fixed acidity  volatile acidity  citric acid  residual sugar  chlorides  \\\n",
              "1594            6.2             0.600         0.08             2.0      0.090   \n",
              "1595            5.9             0.550         0.10             2.2      0.062   \n",
              "1596            6.3             0.510         0.13             2.3      0.076   \n",
              "1597            5.9             0.645         0.12             2.0      0.075   \n",
              "1598            6.0             0.310         0.47             3.6      0.067   \n",
              "\n",
              "      free sulfur dioxide  total sulfur dioxide  density    pH  sulphates  \\\n",
              "1594                 32.0                  44.0  0.99490  3.45       0.58   \n",
              "1595                 39.0                  51.0  0.99512  3.52       0.76   \n",
              "1596                 29.0                  40.0  0.99574  3.42       0.75   \n",
              "1597                 32.0                  44.0  0.99547  3.57       0.71   \n",
              "1598                 18.0                  42.0  0.99549  3.39       0.66   \n",
              "\n",
              "      alcohol  quality  \n",
              "1594     10.5        5  \n",
              "1595     11.2        6  \n",
              "1596     11.0        6  \n",
              "1597     10.2        5  \n",
              "1598     11.0        6  "
            ]
          },
          "execution_count": 78,
          "metadata": {},
          "output_type": "execute_result"
        }
      ],
      "source": [
        "df.tail()"
      ]
    },
    {
      "cell_type": "code",
      "execution_count": null,
      "metadata": {
        "colab": {
          "base_uri": "https://localhost:8080/"
        },
        "id": "WhdOs80Wa0Xz",
        "outputId": "6fd8cc2b-069e-49f7-8ab0-206144651eec"
      },
      "outputs": [
        {
          "data": {
            "text/plain": [
              "(1599, 12)"
            ]
          },
          "execution_count": 79,
          "metadata": {},
          "output_type": "execute_result"
        }
      ],
      "source": [
        "df.shape"
      ]
    },
    {
      "cell_type": "code",
      "execution_count": null,
      "metadata": {
        "colab": {
          "base_uri": "https://localhost:8080/"
        },
        "id": "2kG2ArQNbDNk",
        "outputId": "41abd018-433d-4a87-e923-775b975b4e65"
      },
      "outputs": [
        {
          "data": {
            "text/plain": [
              "<bound method DataFrame.info of       fixed acidity  volatile acidity  citric acid  residual sugar  chlorides  \\\n",
              "0               7.4             0.700         0.00             1.9      0.076   \n",
              "1               7.8             0.880         0.00             2.6      0.098   \n",
              "2               7.8             0.760         0.04             2.3      0.092   \n",
              "3              11.2             0.280         0.56             1.9      0.075   \n",
              "4               7.4             0.700         0.00             1.9      0.076   \n",
              "...             ...               ...          ...             ...        ...   \n",
              "1594            6.2             0.600         0.08             2.0      0.090   \n",
              "1595            5.9             0.550         0.10             2.2      0.062   \n",
              "1596            6.3             0.510         0.13             2.3      0.076   \n",
              "1597            5.9             0.645         0.12             2.0      0.075   \n",
              "1598            6.0             0.310         0.47             3.6      0.067   \n",
              "\n",
              "      free sulfur dioxide  total sulfur dioxide  density    pH  sulphates  \\\n",
              "0                    11.0                  34.0  0.99780  3.51       0.56   \n",
              "1                    25.0                  67.0  0.99680  3.20       0.68   \n",
              "2                    15.0                  54.0  0.99700  3.26       0.65   \n",
              "3                    17.0                  60.0  0.99800  3.16       0.58   \n",
              "4                    11.0                  34.0  0.99780  3.51       0.56   \n",
              "...                   ...                   ...      ...   ...        ...   \n",
              "1594                 32.0                  44.0  0.99490  3.45       0.58   \n",
              "1595                 39.0                  51.0  0.99512  3.52       0.76   \n",
              "1596                 29.0                  40.0  0.99574  3.42       0.75   \n",
              "1597                 32.0                  44.0  0.99547  3.57       0.71   \n",
              "1598                 18.0                  42.0  0.99549  3.39       0.66   \n",
              "\n",
              "      alcohol  quality  \n",
              "0         9.4        5  \n",
              "1         9.8        5  \n",
              "2         9.8        5  \n",
              "3         9.8        6  \n",
              "4         9.4        5  \n",
              "...       ...      ...  \n",
              "1594     10.5        5  \n",
              "1595     11.2        6  \n",
              "1596     11.0        6  \n",
              "1597     10.2        5  \n",
              "1598     11.0        6  \n",
              "\n",
              "[1599 rows x 12 columns]>"
            ]
          },
          "execution_count": 80,
          "metadata": {},
          "output_type": "execute_result"
        }
      ],
      "source": [
        "df.info"
      ]
    },
    {
      "cell_type": "code",
      "execution_count": null,
      "metadata": {
        "colab": {
          "base_uri": "https://localhost:8080/",
          "height": 361
        },
        "id": "MVtylGzub96c",
        "outputId": "d4d1d8bb-8b6e-4c5a-da6c-87bfe02b6694"
      },
      "outputs": [
        {
          "data": {
            "text/html": [
              "<div>\n",
              "<style scoped>\n",
              "    .dataframe tbody tr th:only-of-type {\n",
              "        vertical-align: middle;\n",
              "    }\n",
              "\n",
              "    .dataframe tbody tr th {\n",
              "        vertical-align: top;\n",
              "    }\n",
              "\n",
              "    .dataframe thead th {\n",
              "        text-align: right;\n",
              "    }\n",
              "</style>\n",
              "<table border=\"1\" class=\"dataframe\">\n",
              "  <thead>\n",
              "    <tr style=\"text-align: right;\">\n",
              "      <th></th>\n",
              "      <th>fixed acidity</th>\n",
              "      <th>volatile acidity</th>\n",
              "      <th>citric acid</th>\n",
              "      <th>residual sugar</th>\n",
              "      <th>chlorides</th>\n",
              "      <th>free sulfur dioxide</th>\n",
              "      <th>total sulfur dioxide</th>\n",
              "      <th>density</th>\n",
              "      <th>pH</th>\n",
              "      <th>sulphates</th>\n",
              "      <th>alcohol</th>\n",
              "      <th>quality</th>\n",
              "    </tr>\n",
              "  </thead>\n",
              "  <tbody>\n",
              "    <tr>\n",
              "      <th>count</th>\n",
              "      <td>1599.000000</td>\n",
              "      <td>1599.000000</td>\n",
              "      <td>1599.000000</td>\n",
              "      <td>1599.000000</td>\n",
              "      <td>1599.000000</td>\n",
              "      <td>1599.000000</td>\n",
              "      <td>1599.000000</td>\n",
              "      <td>1599.000000</td>\n",
              "      <td>1599.000000</td>\n",
              "      <td>1599.000000</td>\n",
              "      <td>1599.000000</td>\n",
              "      <td>1599.000000</td>\n",
              "    </tr>\n",
              "    <tr>\n",
              "      <th>mean</th>\n",
              "      <td>8.319637</td>\n",
              "      <td>0.527821</td>\n",
              "      <td>0.270976</td>\n",
              "      <td>2.538806</td>\n",
              "      <td>0.087467</td>\n",
              "      <td>15.874922</td>\n",
              "      <td>46.467792</td>\n",
              "      <td>0.996747</td>\n",
              "      <td>3.311113</td>\n",
              "      <td>0.658149</td>\n",
              "      <td>10.422983</td>\n",
              "      <td>5.636023</td>\n",
              "    </tr>\n",
              "    <tr>\n",
              "      <th>std</th>\n",
              "      <td>1.741096</td>\n",
              "      <td>0.179060</td>\n",
              "      <td>0.194801</td>\n",
              "      <td>1.409928</td>\n",
              "      <td>0.047065</td>\n",
              "      <td>10.460157</td>\n",
              "      <td>32.895324</td>\n",
              "      <td>0.001887</td>\n",
              "      <td>0.154386</td>\n",
              "      <td>0.169507</td>\n",
              "      <td>1.065668</td>\n",
              "      <td>0.807569</td>\n",
              "    </tr>\n",
              "    <tr>\n",
              "      <th>min</th>\n",
              "      <td>4.600000</td>\n",
              "      <td>0.120000</td>\n",
              "      <td>0.000000</td>\n",
              "      <td>0.900000</td>\n",
              "      <td>0.012000</td>\n",
              "      <td>1.000000</td>\n",
              "      <td>6.000000</td>\n",
              "      <td>0.990070</td>\n",
              "      <td>2.740000</td>\n",
              "      <td>0.330000</td>\n",
              "      <td>8.400000</td>\n",
              "      <td>3.000000</td>\n",
              "    </tr>\n",
              "    <tr>\n",
              "      <th>25%</th>\n",
              "      <td>7.100000</td>\n",
              "      <td>0.390000</td>\n",
              "      <td>0.090000</td>\n",
              "      <td>1.900000</td>\n",
              "      <td>0.070000</td>\n",
              "      <td>7.000000</td>\n",
              "      <td>22.000000</td>\n",
              "      <td>0.995600</td>\n",
              "      <td>3.210000</td>\n",
              "      <td>0.550000</td>\n",
              "      <td>9.500000</td>\n",
              "      <td>5.000000</td>\n",
              "    </tr>\n",
              "    <tr>\n",
              "      <th>50%</th>\n",
              "      <td>7.900000</td>\n",
              "      <td>0.520000</td>\n",
              "      <td>0.260000</td>\n",
              "      <td>2.200000</td>\n",
              "      <td>0.079000</td>\n",
              "      <td>14.000000</td>\n",
              "      <td>38.000000</td>\n",
              "      <td>0.996750</td>\n",
              "      <td>3.310000</td>\n",
              "      <td>0.620000</td>\n",
              "      <td>10.200000</td>\n",
              "      <td>6.000000</td>\n",
              "    </tr>\n",
              "    <tr>\n",
              "      <th>75%</th>\n",
              "      <td>9.200000</td>\n",
              "      <td>0.640000</td>\n",
              "      <td>0.420000</td>\n",
              "      <td>2.600000</td>\n",
              "      <td>0.090000</td>\n",
              "      <td>21.000000</td>\n",
              "      <td>62.000000</td>\n",
              "      <td>0.997835</td>\n",
              "      <td>3.400000</td>\n",
              "      <td>0.730000</td>\n",
              "      <td>11.100000</td>\n",
              "      <td>6.000000</td>\n",
              "    </tr>\n",
              "    <tr>\n",
              "      <th>max</th>\n",
              "      <td>15.900000</td>\n",
              "      <td>1.580000</td>\n",
              "      <td>1.000000</td>\n",
              "      <td>15.500000</td>\n",
              "      <td>0.611000</td>\n",
              "      <td>72.000000</td>\n",
              "      <td>289.000000</td>\n",
              "      <td>1.003690</td>\n",
              "      <td>4.010000</td>\n",
              "      <td>2.000000</td>\n",
              "      <td>14.900000</td>\n",
              "      <td>8.000000</td>\n",
              "    </tr>\n",
              "  </tbody>\n",
              "</table>\n",
              "</div>"
            ],
            "text/plain": [
              "       fixed acidity  volatile acidity  citric acid  residual sugar  \\\n",
              "count    1599.000000       1599.000000  1599.000000     1599.000000   \n",
              "mean        8.319637          0.527821     0.270976        2.538806   \n",
              "std         1.741096          0.179060     0.194801        1.409928   \n",
              "min         4.600000          0.120000     0.000000        0.900000   \n",
              "25%         7.100000          0.390000     0.090000        1.900000   \n",
              "50%         7.900000          0.520000     0.260000        2.200000   \n",
              "75%         9.200000          0.640000     0.420000        2.600000   \n",
              "max        15.900000          1.580000     1.000000       15.500000   \n",
              "\n",
              "         chlorides  free sulfur dioxide  total sulfur dioxide      density  \\\n",
              "count  1599.000000          1599.000000           1599.000000  1599.000000   \n",
              "mean      0.087467            15.874922             46.467792     0.996747   \n",
              "std       0.047065            10.460157             32.895324     0.001887   \n",
              "min       0.012000             1.000000              6.000000     0.990070   \n",
              "25%       0.070000             7.000000             22.000000     0.995600   \n",
              "50%       0.079000            14.000000             38.000000     0.996750   \n",
              "75%       0.090000            21.000000             62.000000     0.997835   \n",
              "max       0.611000            72.000000            289.000000     1.003690   \n",
              "\n",
              "                pH    sulphates      alcohol      quality  \n",
              "count  1599.000000  1599.000000  1599.000000  1599.000000  \n",
              "mean      3.311113     0.658149    10.422983     5.636023  \n",
              "std       0.154386     0.169507     1.065668     0.807569  \n",
              "min       2.740000     0.330000     8.400000     3.000000  \n",
              "25%       3.210000     0.550000     9.500000     5.000000  \n",
              "50%       3.310000     0.620000    10.200000     6.000000  \n",
              "75%       3.400000     0.730000    11.100000     6.000000  \n",
              "max       4.010000     2.000000    14.900000     8.000000  "
            ]
          },
          "execution_count": 81,
          "metadata": {},
          "output_type": "execute_result"
        }
      ],
      "source": [
        "df.describe()"
      ]
    },
    {
      "cell_type": "code",
      "execution_count": null,
      "metadata": {
        "colab": {
          "base_uri": "https://localhost:8080/"
        },
        "id": "LpJ75IUVcE9V",
        "outputId": "034254ed-46eb-4f21-b2c0-4cf8ac652d5a"
      },
      "outputs": [
        {
          "data": {
            "text/plain": [
              "fixed acidity           0\n",
              "volatile acidity        0\n",
              "citric acid             0\n",
              "residual sugar          0\n",
              "chlorides               0\n",
              "free sulfur dioxide     0\n",
              "total sulfur dioxide    0\n",
              "density                 0\n",
              "pH                      0\n",
              "sulphates               0\n",
              "alcohol                 0\n",
              "quality                 0\n",
              "dtype: int64"
            ]
          },
          "execution_count": 82,
          "metadata": {},
          "output_type": "execute_result"
        }
      ],
      "source": [
        "df.isnull().sum()"
      ]
    },
    {
      "cell_type": "code",
      "execution_count": null,
      "metadata": {
        "colab": {
          "base_uri": "https://localhost:8080/",
          "height": 442
        },
        "id": "3oAJ3pYmcMin",
        "outputId": "8c01c094-76df-49da-e2c2-6389f43f5f4a"
      },
      "outputs": [
        {
          "name": "stdout",
          "output_type": "stream",
          "text": [
            "240\n"
          ]
        },
        {
          "data": {
            "text/html": [
              "<div>\n",
              "<style scoped>\n",
              "    .dataframe tbody tr th:only-of-type {\n",
              "        vertical-align: middle;\n",
              "    }\n",
              "\n",
              "    .dataframe tbody tr th {\n",
              "        vertical-align: top;\n",
              "    }\n",
              "\n",
              "    .dataframe thead th {\n",
              "        text-align: right;\n",
              "    }\n",
              "</style>\n",
              "<table border=\"1\" class=\"dataframe\">\n",
              "  <thead>\n",
              "    <tr style=\"text-align: right;\">\n",
              "      <th></th>\n",
              "      <th>fixed acidity</th>\n",
              "      <th>volatile acidity</th>\n",
              "      <th>citric acid</th>\n",
              "      <th>residual sugar</th>\n",
              "      <th>chlorides</th>\n",
              "      <th>free sulfur dioxide</th>\n",
              "      <th>total sulfur dioxide</th>\n",
              "      <th>density</th>\n",
              "      <th>pH</th>\n",
              "      <th>sulphates</th>\n",
              "      <th>alcohol</th>\n",
              "      <th>quality</th>\n",
              "    </tr>\n",
              "  </thead>\n",
              "  <tbody>\n",
              "    <tr>\n",
              "      <th>4</th>\n",
              "      <td>7.4</td>\n",
              "      <td>0.700</td>\n",
              "      <td>0.00</td>\n",
              "      <td>1.90</td>\n",
              "      <td>0.076</td>\n",
              "      <td>11.0</td>\n",
              "      <td>34.0</td>\n",
              "      <td>0.99780</td>\n",
              "      <td>3.51</td>\n",
              "      <td>0.56</td>\n",
              "      <td>9.4</td>\n",
              "      <td>5</td>\n",
              "    </tr>\n",
              "    <tr>\n",
              "      <th>11</th>\n",
              "      <td>7.5</td>\n",
              "      <td>0.500</td>\n",
              "      <td>0.36</td>\n",
              "      <td>6.10</td>\n",
              "      <td>0.071</td>\n",
              "      <td>17.0</td>\n",
              "      <td>102.0</td>\n",
              "      <td>0.99780</td>\n",
              "      <td>3.35</td>\n",
              "      <td>0.80</td>\n",
              "      <td>10.5</td>\n",
              "      <td>5</td>\n",
              "    </tr>\n",
              "    <tr>\n",
              "      <th>27</th>\n",
              "      <td>7.9</td>\n",
              "      <td>0.430</td>\n",
              "      <td>0.21</td>\n",
              "      <td>1.60</td>\n",
              "      <td>0.106</td>\n",
              "      <td>10.0</td>\n",
              "      <td>37.0</td>\n",
              "      <td>0.99660</td>\n",
              "      <td>3.17</td>\n",
              "      <td>0.91</td>\n",
              "      <td>9.5</td>\n",
              "      <td>5</td>\n",
              "    </tr>\n",
              "    <tr>\n",
              "      <th>40</th>\n",
              "      <td>7.3</td>\n",
              "      <td>0.450</td>\n",
              "      <td>0.36</td>\n",
              "      <td>5.90</td>\n",
              "      <td>0.074</td>\n",
              "      <td>12.0</td>\n",
              "      <td>87.0</td>\n",
              "      <td>0.99780</td>\n",
              "      <td>3.33</td>\n",
              "      <td>0.83</td>\n",
              "      <td>10.5</td>\n",
              "      <td>5</td>\n",
              "    </tr>\n",
              "    <tr>\n",
              "      <th>65</th>\n",
              "      <td>7.2</td>\n",
              "      <td>0.725</td>\n",
              "      <td>0.05</td>\n",
              "      <td>4.65</td>\n",
              "      <td>0.086</td>\n",
              "      <td>4.0</td>\n",
              "      <td>11.0</td>\n",
              "      <td>0.99620</td>\n",
              "      <td>3.41</td>\n",
              "      <td>0.39</td>\n",
              "      <td>10.9</td>\n",
              "      <td>5</td>\n",
              "    </tr>\n",
              "    <tr>\n",
              "      <th>...</th>\n",
              "      <td>...</td>\n",
              "      <td>...</td>\n",
              "      <td>...</td>\n",
              "      <td>...</td>\n",
              "      <td>...</td>\n",
              "      <td>...</td>\n",
              "      <td>...</td>\n",
              "      <td>...</td>\n",
              "      <td>...</td>\n",
              "      <td>...</td>\n",
              "      <td>...</td>\n",
              "      <td>...</td>\n",
              "    </tr>\n",
              "    <tr>\n",
              "      <th>1563</th>\n",
              "      <td>7.2</td>\n",
              "      <td>0.695</td>\n",
              "      <td>0.13</td>\n",
              "      <td>2.00</td>\n",
              "      <td>0.076</td>\n",
              "      <td>12.0</td>\n",
              "      <td>20.0</td>\n",
              "      <td>0.99546</td>\n",
              "      <td>3.29</td>\n",
              "      <td>0.54</td>\n",
              "      <td>10.1</td>\n",
              "      <td>5</td>\n",
              "    </tr>\n",
              "    <tr>\n",
              "      <th>1564</th>\n",
              "      <td>7.2</td>\n",
              "      <td>0.695</td>\n",
              "      <td>0.13</td>\n",
              "      <td>2.00</td>\n",
              "      <td>0.076</td>\n",
              "      <td>12.0</td>\n",
              "      <td>20.0</td>\n",
              "      <td>0.99546</td>\n",
              "      <td>3.29</td>\n",
              "      <td>0.54</td>\n",
              "      <td>10.1</td>\n",
              "      <td>5</td>\n",
              "    </tr>\n",
              "    <tr>\n",
              "      <th>1567</th>\n",
              "      <td>7.2</td>\n",
              "      <td>0.695</td>\n",
              "      <td>0.13</td>\n",
              "      <td>2.00</td>\n",
              "      <td>0.076</td>\n",
              "      <td>12.0</td>\n",
              "      <td>20.0</td>\n",
              "      <td>0.99546</td>\n",
              "      <td>3.29</td>\n",
              "      <td>0.54</td>\n",
              "      <td>10.1</td>\n",
              "      <td>5</td>\n",
              "    </tr>\n",
              "    <tr>\n",
              "      <th>1581</th>\n",
              "      <td>6.2</td>\n",
              "      <td>0.560</td>\n",
              "      <td>0.09</td>\n",
              "      <td>1.70</td>\n",
              "      <td>0.053</td>\n",
              "      <td>24.0</td>\n",
              "      <td>32.0</td>\n",
              "      <td>0.99402</td>\n",
              "      <td>3.54</td>\n",
              "      <td>0.60</td>\n",
              "      <td>11.3</td>\n",
              "      <td>5</td>\n",
              "    </tr>\n",
              "    <tr>\n",
              "      <th>1596</th>\n",
              "      <td>6.3</td>\n",
              "      <td>0.510</td>\n",
              "      <td>0.13</td>\n",
              "      <td>2.30</td>\n",
              "      <td>0.076</td>\n",
              "      <td>29.0</td>\n",
              "      <td>40.0</td>\n",
              "      <td>0.99574</td>\n",
              "      <td>3.42</td>\n",
              "      <td>0.75</td>\n",
              "      <td>11.0</td>\n",
              "      <td>6</td>\n",
              "    </tr>\n",
              "  </tbody>\n",
              "</table>\n",
              "<p>240 rows × 12 columns</p>\n",
              "</div>"
            ],
            "text/plain": [
              "      fixed acidity  volatile acidity  citric acid  residual sugar  chlorides  \\\n",
              "4               7.4             0.700         0.00            1.90      0.076   \n",
              "11              7.5             0.500         0.36            6.10      0.071   \n",
              "27              7.9             0.430         0.21            1.60      0.106   \n",
              "40              7.3             0.450         0.36            5.90      0.074   \n",
              "65              7.2             0.725         0.05            4.65      0.086   \n",
              "...             ...               ...          ...             ...        ...   \n",
              "1563            7.2             0.695         0.13            2.00      0.076   \n",
              "1564            7.2             0.695         0.13            2.00      0.076   \n",
              "1567            7.2             0.695         0.13            2.00      0.076   \n",
              "1581            6.2             0.560         0.09            1.70      0.053   \n",
              "1596            6.3             0.510         0.13            2.30      0.076   \n",
              "\n",
              "      free sulfur dioxide  total sulfur dioxide  density    pH  sulphates  \\\n",
              "4                    11.0                  34.0  0.99780  3.51       0.56   \n",
              "11                   17.0                 102.0  0.99780  3.35       0.80   \n",
              "27                   10.0                  37.0  0.99660  3.17       0.91   \n",
              "40                   12.0                  87.0  0.99780  3.33       0.83   \n",
              "65                    4.0                  11.0  0.99620  3.41       0.39   \n",
              "...                   ...                   ...      ...   ...        ...   \n",
              "1563                 12.0                  20.0  0.99546  3.29       0.54   \n",
              "1564                 12.0                  20.0  0.99546  3.29       0.54   \n",
              "1567                 12.0                  20.0  0.99546  3.29       0.54   \n",
              "1581                 24.0                  32.0  0.99402  3.54       0.60   \n",
              "1596                 29.0                  40.0  0.99574  3.42       0.75   \n",
              "\n",
              "      alcohol  quality  \n",
              "4         9.4        5  \n",
              "11       10.5        5  \n",
              "27        9.5        5  \n",
              "40       10.5        5  \n",
              "65       10.9        5  \n",
              "...       ...      ...  \n",
              "1563     10.1        5  \n",
              "1564     10.1        5  \n",
              "1567     10.1        5  \n",
              "1581     11.3        5  \n",
              "1596     11.0        6  \n",
              "\n",
              "[240 rows x 12 columns]"
            ]
          },
          "execution_count": 83,
          "metadata": {},
          "output_type": "execute_result"
        }
      ],
      "source": [
        "duplicate=df.duplicated()\n",
        "print(duplicate.sum())\n",
        "df[duplicate]"
      ]
    },
    {
      "cell_type": "code",
      "execution_count": null,
      "metadata": {
        "id": "9H03zzuzcYBn"
      },
      "outputs": [],
      "source": [
        "df.drop_duplicates(inplace=True)"
      ]
    },
    {
      "cell_type": "code",
      "execution_count": null,
      "metadata": {
        "colab": {
          "base_uri": "https://localhost:8080/"
        },
        "id": "8KndyFh4cllG",
        "outputId": "4e26f832-e6bb-424d-b001-713e54b0b619"
      },
      "outputs": [
        {
          "data": {
            "text/plain": [
              "(1359, 12)"
            ]
          },
          "execution_count": 85,
          "metadata": {},
          "output_type": "execute_result"
        }
      ],
      "source": [
        "df.shape"
      ]
    },
    {
      "cell_type": "code",
      "execution_count": null,
      "metadata": {
        "colab": {
          "base_uri": "https://localhost:8080/",
          "height": 67
        },
        "id": "5sDuPee-cndY",
        "outputId": "295e1eb0-fe4d-4aa6-f267-a213a1fd65ec"
      },
      "outputs": [
        {
          "name": "stdout",
          "output_type": "stream",
          "text": [
            "0\n"
          ]
        },
        {
          "data": {
            "text/html": [
              "<div>\n",
              "<style scoped>\n",
              "    .dataframe tbody tr th:only-of-type {\n",
              "        vertical-align: middle;\n",
              "    }\n",
              "\n",
              "    .dataframe tbody tr th {\n",
              "        vertical-align: top;\n",
              "    }\n",
              "\n",
              "    .dataframe thead th {\n",
              "        text-align: right;\n",
              "    }\n",
              "</style>\n",
              "<table border=\"1\" class=\"dataframe\">\n",
              "  <thead>\n",
              "    <tr style=\"text-align: right;\">\n",
              "      <th></th>\n",
              "      <th>fixed acidity</th>\n",
              "      <th>volatile acidity</th>\n",
              "      <th>citric acid</th>\n",
              "      <th>residual sugar</th>\n",
              "      <th>chlorides</th>\n",
              "      <th>free sulfur dioxide</th>\n",
              "      <th>total sulfur dioxide</th>\n",
              "      <th>density</th>\n",
              "      <th>pH</th>\n",
              "      <th>sulphates</th>\n",
              "      <th>alcohol</th>\n",
              "      <th>quality</th>\n",
              "    </tr>\n",
              "  </thead>\n",
              "  <tbody>\n",
              "  </tbody>\n",
              "</table>\n",
              "</div>"
            ],
            "text/plain": [
              "Empty DataFrame\n",
              "Columns: [fixed acidity, volatile acidity, citric acid, residual sugar, chlorides, free sulfur dioxide, total sulfur dioxide, density, pH, sulphates, alcohol, quality]\n",
              "Index: []"
            ]
          },
          "execution_count": 86,
          "metadata": {},
          "output_type": "execute_result"
        }
      ],
      "source": [
        "duplicate=df.duplicated()\n",
        "print(duplicate.sum())\n",
        "df[duplicate]"
      ]
    },
    {
      "cell_type": "code",
      "execution_count": null,
      "metadata": {
        "colab": {
          "base_uri": "https://localhost:8080/"
        },
        "id": "tGe95IXEc1fw",
        "outputId": "32323cc0-5cb5-4f79-879b-fb5ccd238e72"
      },
      "outputs": [
        {
          "name": "stdout",
          "output_type": "stream",
          "text": [
            "0\n"
          ]
        }
      ],
      "source": [
        "dup=df.duplicated()\n",
        "print(dup.sum())"
      ]
    },
    {
      "cell_type": "markdown",
      "metadata": {
        "id": "WZp8FwiEdQeE"
      },
      "source": [
        "## Data Visualization"
      ]
    },
    {
      "cell_type": "code",
      "execution_count": null,
      "metadata": {
        "colab": {
          "base_uri": "https://localhost:8080/"
        },
        "id": "iNrtnb8ydM06",
        "outputId": "6e5d7738-c450-4a0c-f3aa-f95b23b6cbbd"
      },
      "outputs": [
        {
          "name": "stdout",
          "output_type": "stream",
          "text": [
            "5    577\n",
            "6    535\n",
            "7    167\n",
            "4     53\n",
            "8     17\n",
            "3     10\n",
            "Name: quality, dtype: int64\n"
          ]
        }
      ],
      "source": [
        "print(df.quality.value_counts())"
      ]
    },
    {
      "cell_type": "code",
      "execution_count": null,
      "metadata": {
        "colab": {
          "base_uri": "https://localhost:8080/",
          "height": 430
        },
        "id": "pa6efHbddY3p",
        "outputId": "1c80831c-83b2-46ac-afe4-8701a81cb6d1"
      },
      "outputs": [
        {
          "name": "stderr",
          "output_type": "stream",
          "text": [
            "C:\\Users\\venka\\anaconda3\\lib\\site-packages\\seaborn\\_decorators.py:36: FutureWarning: Pass the following variable as a keyword arg: x. From version 0.12, the only valid positional argument will be `data`, and passing other arguments without an explicit keyword will result in an error or misinterpretation.\n",
            "  warnings.warn(\n"
          ]
        },
        {
          "data": {
            "image/png": "[encoded data removed]",
            "text/plain": [
              "<Figure size 640x480 with 1 Axes>"
            ]
          },
          "metadata": {},
          "output_type": "display_data"
        }
      ],
      "source": [
        "sns.countplot(df['quality'])\n",
        "\n",
        "plt.show()"
      ]
    },
    {
      "cell_type": "markdown",
      "metadata": {
        "id": "I7aMKzS_drcg"
      },
      "source": [
        "## Correlation Matrix"
      ]
    },
    {
      "cell_type": "code",
      "execution_count": null,
      "metadata": {
        "colab": {
          "base_uri": "https://localhost:8080/",
          "height": 469
        },
        "id": "7907X00Ndjzp",
        "outputId": "299f5da3-5b30-4314-9d3e-8a7d5a81c2fb"
      },
      "outputs": [
        {
          "data": {
            "text/html": [
              "<div>\n",
              "<style scoped>\n",
              "    .dataframe tbody tr th:only-of-type {\n",
              "        vertical-align: middle;\n",
              "    }\n",
              "\n",
              "    .dataframe tbody tr th {\n",
              "        vertical-align: top;\n",
              "    }\n",
              "\n",
              "    .dataframe thead th {\n",
              "        text-align: right;\n",
              "    }\n",
              "</style>\n",
              "<table border=\"1\" class=\"dataframe\">\n",
              "  <thead>\n",
              "    <tr style=\"text-align: right;\">\n",
              "      <th></th>\n",
              "      <th>fixed acidity</th>\n",
              "      <th>volatile acidity</th>\n",
              "      <th>citric acid</th>\n",
              "      <th>residual sugar</th>\n",
              "      <th>chlorides</th>\n",
              "      <th>free sulfur dioxide</th>\n",
              "      <th>total sulfur dioxide</th>\n",
              "      <th>density</th>\n",
              "      <th>pH</th>\n",
              "      <th>sulphates</th>\n",
              "      <th>alcohol</th>\n",
              "      <th>quality</th>\n",
              "    </tr>\n",
              "  </thead>\n",
              "  <tbody>\n",
              "    <tr>\n",
              "      <th>fixed acidity</th>\n",
              "      <td>1.000000</td>\n",
              "      <td>-0.255124</td>\n",
              "      <td>0.667437</td>\n",
              "      <td>0.111025</td>\n",
              "      <td>0.085886</td>\n",
              "      <td>-0.140580</td>\n",
              "      <td>-0.103777</td>\n",
              "      <td>0.670195</td>\n",
              "      <td>-0.686685</td>\n",
              "      <td>0.190269</td>\n",
              "      <td>-0.061596</td>\n",
              "      <td>0.119024</td>\n",
              "    </tr>\n",
              "    <tr>\n",
              "      <th>volatile acidity</th>\n",
              "      <td>-0.255124</td>\n",
              "      <td>1.000000</td>\n",
              "      <td>-0.551248</td>\n",
              "      <td>-0.002449</td>\n",
              "      <td>0.055154</td>\n",
              "      <td>-0.020945</td>\n",
              "      <td>0.071701</td>\n",
              "      <td>0.023943</td>\n",
              "      <td>0.247111</td>\n",
              "      <td>-0.256948</td>\n",
              "      <td>-0.197812</td>\n",
              "      <td>-0.395214</td>\n",
              "    </tr>\n",
              "    <tr>\n",
              "      <th>citric acid</th>\n",
              "      <td>0.667437</td>\n",
              "      <td>-0.551248</td>\n",
              "      <td>1.000000</td>\n",
              "      <td>0.143892</td>\n",
              "      <td>0.210195</td>\n",
              "      <td>-0.048004</td>\n",
              "      <td>0.047358</td>\n",
              "      <td>0.357962</td>\n",
              "      <td>-0.550310</td>\n",
              "      <td>0.326062</td>\n",
              "      <td>0.105108</td>\n",
              "      <td>0.228057</td>\n",
              "    </tr>\n",
              "    <tr>\n",
              "      <th>residual sugar</th>\n",
              "      <td>0.111025</td>\n",
              "      <td>-0.002449</td>\n",
              "      <td>0.143892</td>\n",
              "      <td>1.000000</td>\n",
              "      <td>0.026656</td>\n",
              "      <td>0.160527</td>\n",
              "      <td>0.201038</td>\n",
              "      <td>0.324522</td>\n",
              "      <td>-0.083143</td>\n",
              "      <td>-0.011837</td>\n",
              "      <td>0.063281</td>\n",
              "      <td>0.013640</td>\n",
              "    </tr>\n",
              "    <tr>\n",
              "      <th>chlorides</th>\n",
              "      <td>0.085886</td>\n",
              "      <td>0.055154</td>\n",
              "      <td>0.210195</td>\n",
              "      <td>0.026656</td>\n",
              "      <td>1.000000</td>\n",
              "      <td>0.000749</td>\n",
              "      <td>0.045773</td>\n",
              "      <td>0.193592</td>\n",
              "      <td>-0.270893</td>\n",
              "      <td>0.394557</td>\n",
              "      <td>-0.223824</td>\n",
              "      <td>-0.130988</td>\n",
              "    </tr>\n",
              "    <tr>\n",
              "      <th>free sulfur dioxide</th>\n",
              "      <td>-0.140580</td>\n",
              "      <td>-0.020945</td>\n",
              "      <td>-0.048004</td>\n",
              "      <td>0.160527</td>\n",
              "      <td>0.000749</td>\n",
              "      <td>1.000000</td>\n",
              "      <td>0.667246</td>\n",
              "      <td>-0.018071</td>\n",
              "      <td>0.056631</td>\n",
              "      <td>0.054126</td>\n",
              "      <td>-0.080125</td>\n",
              "      <td>-0.050463</td>\n",
              "    </tr>\n",
              "    <tr>\n",
              "      <th>total sulfur dioxide</th>\n",
              "      <td>-0.103777</td>\n",
              "      <td>0.071701</td>\n",
              "      <td>0.047358</td>\n",
              "      <td>0.201038</td>\n",
              "      <td>0.045773</td>\n",
              "      <td>0.667246</td>\n",
              "      <td>1.000000</td>\n",
              "      <td>0.078141</td>\n",
              "      <td>-0.079257</td>\n",
              "      <td>0.035291</td>\n",
              "      <td>-0.217829</td>\n",
              "      <td>-0.177855</td>\n",
              "    </tr>\n",
              "    <tr>\n",
              "      <th>density</th>\n",
              "      <td>0.670195</td>\n",
              "      <td>0.023943</td>\n",
              "      <td>0.357962</td>\n",
              "      <td>0.324522</td>\n",
              "      <td>0.193592</td>\n",
              "      <td>-0.018071</td>\n",
              "      <td>0.078141</td>\n",
              "      <td>1.000000</td>\n",
              "      <td>-0.355617</td>\n",
              "      <td>0.146036</td>\n",
              "      <td>-0.504995</td>\n",
              "      <td>-0.184252</td>\n",
              "    </tr>\n",
              "    <tr>\n",
              "      <th>pH</th>\n",
              "      <td>-0.686685</td>\n",
              "      <td>0.247111</td>\n",
              "      <td>-0.550310</td>\n",
              "      <td>-0.083143</td>\n",
              "      <td>-0.270893</td>\n",
              "      <td>0.056631</td>\n",
              "      <td>-0.079257</td>\n",
              "      <td>-0.355617</td>\n",
              "      <td>1.000000</td>\n",
              "      <td>-0.214134</td>\n",
              "      <td>0.213418</td>\n",
              "      <td>-0.055245</td>\n",
              "    </tr>\n",
              "    <tr>\n",
              "      <th>sulphates</th>\n",
              "      <td>0.190269</td>\n",
              "      <td>-0.256948</td>\n",
              "      <td>0.326062</td>\n",
              "      <td>-0.011837</td>\n",
              "      <td>0.394557</td>\n",
              "      <td>0.054126</td>\n",
              "      <td>0.035291</td>\n",
              "      <td>0.146036</td>\n",
              "      <td>-0.214134</td>\n",
              "      <td>1.000000</td>\n",
              "      <td>0.091621</td>\n",
              "      <td>0.248835</td>\n",
              "    </tr>\n",
              "    <tr>\n",
              "      <th>alcohol</th>\n",
              "      <td>-0.061596</td>\n",
              "      <td>-0.197812</td>\n",
              "      <td>0.105108</td>\n",
              "      <td>0.063281</td>\n",
              "      <td>-0.223824</td>\n",
              "      <td>-0.080125</td>\n",
              "      <td>-0.217829</td>\n",
              "      <td>-0.504995</td>\n",
              "      <td>0.213418</td>\n",
              "      <td>0.091621</td>\n",
              "      <td>1.000000</td>\n",
              "      <td>0.480343</td>\n",
              "    </tr>\n",
              "    <tr>\n",
              "      <th>quality</th>\n",
              "      <td>0.119024</td>\n",
              "      <td>-0.395214</td>\n",
              "      <td>0.228057</td>\n",
              "      <td>0.013640</td>\n",
              "      <td>-0.130988</td>\n",
              "      <td>-0.050463</td>\n",
              "      <td>-0.177855</td>\n",
              "      <td>-0.184252</td>\n",
              "      <td>-0.055245</td>\n",
              "      <td>0.248835</td>\n",
              "      <td>0.480343</td>\n",
              "      <td>1.000000</td>\n",
              "    </tr>\n",
              "  </tbody>\n",
              "</table>\n",
              "</div>"
            ],
            "text/plain": [
              "                      fixed acidity  volatile acidity  citric acid  \\\n",
              "fixed acidity              1.000000         -0.255124     0.667437   \n",
              "volatile acidity          -0.255124          1.000000    -0.551248   \n",
              "citric acid                0.667437         -0.551248     1.000000   \n",
              "residual sugar             0.111025         -0.002449     0.143892   \n",
              "chlorides                  0.085886          0.055154     0.210195   \n",
              "free sulfur dioxide       -0.140580         -0.020945    -0.048004   \n",
              "total sulfur dioxide      -0.103777          0.071701     0.047358   \n",
              "density                    0.670195          0.023943     0.357962   \n",
              "pH                        -0.686685          0.247111    -0.550310   \n",
              "sulphates                  0.190269         -0.256948     0.326062   \n",
              "alcohol                   -0.061596         -0.197812     0.105108   \n",
              "quality                    0.119024         -0.395214     0.228057   \n",
              "\n",
              "                      residual sugar  chlorides  free sulfur dioxide  \\\n",
              "fixed acidity               0.111025   0.085886            -0.140580   \n",
              "volatile acidity           -0.002449   0.055154            -0.020945   \n",
              "citric acid                 0.143892   0.210195            -0.048004   \n",
              "residual sugar              1.000000   0.026656             0.160527   \n",
              "chlorides                   0.026656   1.000000             0.000749   \n",
              "free sulfur dioxide         0.160527   0.000749             1.000000   \n",
              "total sulfur dioxide        0.201038   0.045773             0.667246   \n",
              "density                     0.324522   0.193592            -0.018071   \n",
              "pH                         -0.083143  -0.270893             0.056631   \n",
              "sulphates                  -0.011837   0.394557             0.054126   \n",
              "alcohol                     0.063281  -0.223824            -0.080125   \n",
              "quality                     0.013640  -0.130988            -0.050463   \n",
              "\n",
              "                      total sulfur dioxide   density        pH  sulphates  \\\n",
              "fixed acidity                    -0.103777  0.670195 -0.686685   0.190269   \n",
              "volatile acidity                  0.071701  0.023943  0.247111  -0.256948   \n",
              "citric acid                       0.047358  0.357962 -0.550310   0.326062   \n",
              "residual sugar                    0.201038  0.324522 -0.083143  -0.011837   \n",
              "chlorides                         0.045773  0.193592 -0.270893   0.394557   \n",
              "free sulfur dioxide               0.667246 -0.018071  0.056631   0.054126   \n",
              "total sulfur dioxide              1.000000  0.078141 -0.079257   0.035291   \n",
              "density                           0.078141  1.000000 -0.355617   0.146036   \n",
              "pH                               -0.079257 -0.355617  1.000000  -0.214134   \n",
              "sulphates                         0.035291  0.146036 -0.214134   1.000000   \n",
              "alcohol                          -0.217829 -0.504995  0.213418   0.091621   \n",
              "quality                          -0.177855 -0.184252 -0.055245   0.248835   \n",
              "\n",
              "                       alcohol   quality  \n",
              "fixed acidity        -0.061596  0.119024  \n",
              "volatile acidity     -0.197812 -0.395214  \n",
              "citric acid           0.105108  0.228057  \n",
              "residual sugar        0.063281  0.013640  \n",
              "chlorides            -0.223824 -0.130988  \n",
              "free sulfur dioxide  -0.080125 -0.050463  \n",
              "total sulfur dioxide -0.217829 -0.177855  \n",
              "density              -0.504995 -0.184252  \n",
              "pH                    0.213418 -0.055245  \n",
              "sulphates             0.091621  0.248835  \n",
              "alcohol               1.000000  0.480343  \n",
              "quality               0.480343  1.000000  "
            ]
          },
          "execution_count": 90,
          "metadata": {},
          "output_type": "execute_result"
        }
      ],
      "source": [
        "df.corr()"
      ]
    },
    {
      "cell_type": "code",
      "execution_count": null,
      "metadata": {
        "colab": {
          "base_uri": "https://localhost:8080/",
          "height": 883
        },
        "id": "SiYbw8aTd5Tq",
        "outputId": "c19a99f2-a67b-4cf7-ea2e-cc39cd48963b"
      },
      "outputs": [
        {
          "data": {
            "text/plain": [
              "<AxesSubplot:>"
            ]
          },
          "execution_count": 91,
          "metadata": {},
          "output_type": "execute_result"
        },
        {
          "data": {
            "image/png": "[encoded data removed]",
            "text/plain": [
              "<Figure size 2000x1000 with 2 Axes>"
            ]
          },
          "metadata": {},
          "output_type": "display_data"
        }
      ],
      "source": [
        "corr=df.corr()\n",
        "plt.figure(figsize=(20,10))\n",
        "sns.heatmap(corr,annot=True,cmap='mako')"
      ]
    },
    {
      "cell_type": "markdown",
      "metadata": {
        "id": "lis1yoY1fzYy"
      },
      "source": [
        "**dividing dataframe into independent & Dependent Variables**"
      ]
    },
    {
      "cell_type": "code",
      "execution_count": null,
      "metadata": {
        "id": "tikBgy9deiSA"
      },
      "outputs": [],
      "source": [
        "target_name='quality'\n",
        "y=df[target_name]\n",
        "X=df.drop(target_name, axis=1)"
      ]
    },
    {
      "cell_type": "code",
      "execution_count": null,
      "metadata": {
        "colab": {
          "base_uri": "https://localhost:8080/",
          "height": 206
        },
        "id": "m2Lsk0gAgMfr",
        "outputId": "f9a3764b-30f3-4e6b-e554-ea18e0fcc92c"
      },
      "outputs": [
        {
          "data": {
            "text/html": [
              "<div>\n",
              "<style scoped>\n",
              "    .dataframe tbody tr th:only-of-type {\n",
              "        vertical-align: middle;\n",
              "    }\n",
              "\n",
              "    .dataframe tbody tr th {\n",
              "        vertical-align: top;\n",
              "    }\n",
              "\n",
              "    .dataframe thead th {\n",
              "        text-align: right;\n",
              "    }\n",
              "</style>\n",
              "<table border=\"1\" class=\"dataframe\">\n",
              "  <thead>\n",
              "    <tr style=\"text-align: right;\">\n",
              "      <th></th>\n",
              "      <th>fixed acidity</th>\n",
              "      <th>volatile acidity</th>\n",
              "      <th>citric acid</th>\n",
              "      <th>residual sugar</th>\n",
              "      <th>chlorides</th>\n",
              "      <th>free sulfur dioxide</th>\n",
              "      <th>total sulfur dioxide</th>\n",
              "      <th>density</th>\n",
              "      <th>pH</th>\n",
              "      <th>sulphates</th>\n",
              "      <th>alcohol</th>\n",
              "    </tr>\n",
              "  </thead>\n",
              "  <tbody>\n",
              "    <tr>\n",
              "      <th>0</th>\n",
              "      <td>7.4</td>\n",
              "      <td>0.70</td>\n",
              "      <td>0.00</td>\n",
              "      <td>1.9</td>\n",
              "      <td>0.076</td>\n",
              "      <td>11.0</td>\n",
              "      <td>34.0</td>\n",
              "      <td>0.9978</td>\n",
              "      <td>3.51</td>\n",
              "      <td>0.56</td>\n",
              "      <td>9.4</td>\n",
              "    </tr>\n",
              "    <tr>\n",
              "      <th>1</th>\n",
              "      <td>7.8</td>\n",
              "      <td>0.88</td>\n",
              "      <td>0.00</td>\n",
              "      <td>2.6</td>\n",
              "      <td>0.098</td>\n",
              "      <td>25.0</td>\n",
              "      <td>67.0</td>\n",
              "      <td>0.9968</td>\n",
              "      <td>3.20</td>\n",
              "      <td>0.68</td>\n",
              "      <td>9.8</td>\n",
              "    </tr>\n",
              "    <tr>\n",
              "      <th>2</th>\n",
              "      <td>7.8</td>\n",
              "      <td>0.76</td>\n",
              "      <td>0.04</td>\n",
              "      <td>2.3</td>\n",
              "      <td>0.092</td>\n",
              "      <td>15.0</td>\n",
              "      <td>54.0</td>\n",
              "      <td>0.9970</td>\n",
              "      <td>3.26</td>\n",
              "      <td>0.65</td>\n",
              "      <td>9.8</td>\n",
              "    </tr>\n",
              "    <tr>\n",
              "      <th>3</th>\n",
              "      <td>11.2</td>\n",
              "      <td>0.28</td>\n",
              "      <td>0.56</td>\n",
              "      <td>1.9</td>\n",
              "      <td>0.075</td>\n",
              "      <td>17.0</td>\n",
              "      <td>60.0</td>\n",
              "      <td>0.9980</td>\n",
              "      <td>3.16</td>\n",
              "      <td>0.58</td>\n",
              "      <td>9.8</td>\n",
              "    </tr>\n",
              "    <tr>\n",
              "      <th>5</th>\n",
              "      <td>7.4</td>\n",
              "      <td>0.66</td>\n",
              "      <td>0.00</td>\n",
              "      <td>1.8</td>\n",
              "      <td>0.075</td>\n",
              "      <td>13.0</td>\n",
              "      <td>40.0</td>\n",
              "      <td>0.9978</td>\n",
              "      <td>3.51</td>\n",
              "      <td>0.56</td>\n",
              "      <td>9.4</td>\n",
              "    </tr>\n",
              "  </tbody>\n",
              "</table>\n",
              "</div>"
            ],
            "text/plain": [
              "   fixed acidity  volatile acidity  citric acid  residual sugar  chlorides  \\\n",
              "0            7.4              0.70         0.00             1.9      0.076   \n",
              "1            7.8              0.88         0.00             2.6      0.098   \n",
              "2            7.8              0.76         0.04             2.3      0.092   \n",
              "3           11.2              0.28         0.56             1.9      0.075   \n",
              "5            7.4              0.66         0.00             1.8      0.075   \n",
              "\n",
              "   free sulfur dioxide  total sulfur dioxide  density    pH  sulphates  \\\n",
              "0                 11.0                  34.0   0.9978  3.51       0.56   \n",
              "1                 25.0                  67.0   0.9968  3.20       0.68   \n",
              "2                 15.0                  54.0   0.9970  3.26       0.65   \n",
              "3                 17.0                  60.0   0.9980  3.16       0.58   \n",
              "5                 13.0                  40.0   0.9978  3.51       0.56   \n",
              "\n",
              "   alcohol  \n",
              "0      9.4  \n",
              "1      9.8  \n",
              "2      9.8  \n",
              "3      9.8  \n",
              "5      9.4  "
            ]
          },
          "execution_count": 93,
          "metadata": {},
          "output_type": "execute_result"
        }
      ],
      "source": [
        "X.head()"
      ]
    },
    {
      "cell_type": "code",
      "execution_count": null,
      "metadata": {
        "colab": {
          "base_uri": "https://localhost:8080/"
        },
        "id": "3tViWGDUgRmu",
        "outputId": "401b4160-ff45-455d-fa38-8df376c4061d"
      },
      "outputs": [
        {
          "data": {
            "text/plain": [
              "(1359, 11)"
            ]
          },
          "execution_count": 94,
          "metadata": {},
          "output_type": "execute_result"
        }
      ],
      "source": [
        "X.shape"
      ]
    },
    {
      "cell_type": "code",
      "execution_count": null,
      "metadata": {
        "colab": {
          "base_uri": "https://localhost:8080/"
        },
        "id": "ao82NrIDgTPX",
        "outputId": "e58b0d4a-6d6d-4c7d-c039-3e9cdf16f5a0"
      },
      "outputs": [
        {
          "data": {
            "text/plain": [
              "0    5\n",
              "1    5\n",
              "2    5\n",
              "3    6\n",
              "5    5\n",
              "Name: quality, dtype: int64"
            ]
          },
          "execution_count": 95,
          "metadata": {},
          "output_type": "execute_result"
        }
      ],
      "source": [
        "y.head()"
      ]
    },
    {
      "cell_type": "code",
      "execution_count": null,
      "metadata": {
        "colab": {
          "base_uri": "https://localhost:8080/"
        },
        "id": "6pcgAiuXgWGu",
        "outputId": "3459e0e4-aea6-4424-a398-17842ce4906d"
      },
      "outputs": [
        {
          "data": {
            "text/plain": [
              "(1359,)"
            ]
          },
          "execution_count": 96,
          "metadata": {},
          "output_type": "execute_result"
        }
      ],
      "source": [
        "y.shape"
      ]
    },
    {
      "cell_type": "markdown",
      "metadata": {
        "id": "tnFj_2g3gacm"
      },
      "source": [
        "**Data Scaling**"
      ]
    },
    {
      "cell_type": "code",
      "execution_count": null,
      "metadata": {
        "id": "4D4-iZGdgX3S"
      },
      "outputs": [],
      "source": [
        "from sklearn.preprocessing import StandardScaler\n",
        "sc=StandardScaler()\n",
        "x_res=sc.fit_transform(X)"
      ]
    },
    {
      "cell_type": "markdown",
      "metadata": {
        "id": "Sk4CVdyRg6p7"
      },
      "source": [
        "**VIF**"
      ]
    },
    {
      "cell_type": "code",
      "execution_count": null,
      "metadata": {
        "colab": {
          "base_uri": "https://localhost:8080/",
          "height": 394
        },
        "id": "_YCA0TL7gpHm",
        "outputId": "01c4ef64-979e-4ccd-81f9-77e30bc3abe0"
      },
      "outputs": [
        {
          "data": {
            "text/html": [
              "<div>\n",
              "<style scoped>\n",
              "    .dataframe tbody tr th:only-of-type {\n",
              "        vertical-align: middle;\n",
              "    }\n",
              "\n",
              "    .dataframe tbody tr th {\n",
              "        vertical-align: top;\n",
              "    }\n",
              "\n",
              "    .dataframe thead th {\n",
              "        text-align: right;\n",
              "    }\n",
              "</style>\n",
              "<table border=\"1\" class=\"dataframe\">\n",
              "  <thead>\n",
              "    <tr style=\"text-align: right;\">\n",
              "      <th></th>\n",
              "      <th>vif</th>\n",
              "      <th>Features</th>\n",
              "    </tr>\n",
              "  </thead>\n",
              "  <tbody>\n",
              "    <tr>\n",
              "      <th>0</th>\n",
              "      <td>7.880951</td>\n",
              "      <td>fixed acidity</td>\n",
              "    </tr>\n",
              "    <tr>\n",
              "      <th>1</th>\n",
              "      <td>1.777884</td>\n",
              "      <td>volatile acidity</td>\n",
              "    </tr>\n",
              "    <tr>\n",
              "      <th>2</th>\n",
              "      <td>3.124679</td>\n",
              "      <td>citric acid</td>\n",
              "    </tr>\n",
              "    <tr>\n",
              "      <th>3</th>\n",
              "      <td>1.641987</td>\n",
              "      <td>residual sugar</td>\n",
              "    </tr>\n",
              "    <tr>\n",
              "      <th>4</th>\n",
              "      <td>1.530769</td>\n",
              "      <td>chlorides</td>\n",
              "    </tr>\n",
              "    <tr>\n",
              "      <th>5</th>\n",
              "      <td>1.950922</td>\n",
              "      <td>free sulfur dioxide</td>\n",
              "    </tr>\n",
              "    <tr>\n",
              "      <th>6</th>\n",
              "      <td>2.216688</td>\n",
              "      <td>total sulfur dioxide</td>\n",
              "    </tr>\n",
              "    <tr>\n",
              "      <th>7</th>\n",
              "      <td>6.281009</td>\n",
              "      <td>density</td>\n",
              "    </tr>\n",
              "    <tr>\n",
              "      <th>8</th>\n",
              "      <td>3.397407</td>\n",
              "      <td>pH</td>\n",
              "    </tr>\n",
              "    <tr>\n",
              "      <th>9</th>\n",
              "      <td>1.466779</td>\n",
              "      <td>sulphates</td>\n",
              "    </tr>\n",
              "    <tr>\n",
              "      <th>10</th>\n",
              "      <td>3.140944</td>\n",
              "      <td>alcohol</td>\n",
              "    </tr>\n",
              "  </tbody>\n",
              "</table>\n",
              "</div>"
            ],
            "text/plain": [
              "         vif              Features\n",
              "0   7.880951         fixed acidity\n",
              "1   1.777884      volatile acidity\n",
              "2   3.124679           citric acid\n",
              "3   1.641987        residual sugar\n",
              "4   1.530769             chlorides\n",
              "5   1.950922   free sulfur dioxide\n",
              "6   2.216688  total sulfur dioxide\n",
              "7   6.281009               density\n",
              "8   3.397407                    pH\n",
              "9   1.466779             sulphates\n",
              "10  3.140944               alcohol"
            ]
          },
          "execution_count": 98,
          "metadata": {},
          "output_type": "execute_result"
        }
      ],
      "source": [
        "from statsmodels.stats.outliers_influence import variance_inflation_factor\n",
        "vif=pd.DataFrame()\n",
        "vif[\"vif\"]=[variance_inflation_factor(x_res,i) for i in range(x_res.shape[1])]\n",
        "vif[\"Features\"]=X.columns\n",
        "vif"
      ]
    },
    {
      "cell_type": "code",
      "execution_count": null,
      "metadata": {
        "colab": {
          "base_uri": "https://localhost:8080/"
        },
        "id": "bDzWhdMthq5S",
        "outputId": "3543150f-7baf-4f8f-dd32-96d5640b9cf6"
      },
      "outputs": [
        {
          "data": {
            "text/plain": [
              "(1359, 11)"
            ]
          },
          "execution_count": 99,
          "metadata": {},
          "output_type": "execute_result"
        }
      ],
      "source": [
        "x_res.shape"
      ]
    },
    {
      "cell_type": "code",
      "execution_count": null,
      "metadata": {
        "colab": {
          "base_uri": "https://localhost:8080/"
        },
        "id": "U9eHH7BYiHAs",
        "outputId": "0c538363-4269-4f63-b81e-154f15518494"
      },
      "outputs": [
        {
          "data": {
            "text/plain": [
              "(1359, 9)"
            ]
          },
          "execution_count": 100,
          "metadata": {},
          "output_type": "execute_result"
        }
      ],
      "source": [
        "X1=X.drop(['residual sugar','density'], axis=1)\n",
        "X1.shape"
      ]
    },
    {
      "cell_type": "code",
      "execution_count": null,
      "metadata": {
        "id": "YKta-UlfiYCE"
      },
      "outputs": [],
      "source": [
        "sc1=StandardScaler()\n",
        "X_res=sc1.fit_transform(X1)"
      ]
    },
    {
      "cell_type": "code",
      "execution_count": null,
      "metadata": {
        "colab": {
          "base_uri": "https://localhost:8080/"
        },
        "id": "2ZKZzgbQijK3",
        "outputId": "64ed1807-8604-4c3b-9cfc-fb4e2998fa6b"
      },
      "outputs": [
        {
          "data": {
            "text/plain": [
              "(1359, 9)"
            ]
          },
          "execution_count": 102,
          "metadata": {},
          "output_type": "execute_result"
        }
      ],
      "source": [
        "X_res.shape"
      ]
    },
    {
      "cell_type": "code",
      "execution_count": null,
      "metadata": {
        "colab": {
          "base_uri": "https://localhost:8080/"
        },
        "id": "wpKZNx_qiwB8",
        "outputId": "3bbbc02a-e0f8-4e8c-c696-e21d93c15bf4"
      },
      "outputs": [
        {
          "data": {
            "text/plain": [
              "array([[-0.52443096,  0.93200015, -1.39325797, ...,  1.29187216,\n",
              "        -0.57856134, -0.95437429],\n",
              "       [-0.29406274,  1.91580043, -1.39325797, ..., -0.70839548,\n",
              "         0.12482157, -0.5845748 ],\n",
              "       [-0.29406274,  1.25993358, -1.18861732, ..., -0.32124691,\n",
              "        -0.05102416, -0.5845748 ],\n",
              "       ...,\n",
              "       [-1.38831178,  0.11216658, -0.88165635, ...,  1.35639693,\n",
              "         0.59374351,  0.7097234 ],\n",
              "       [-1.38831178,  0.63139451, -0.77933603, ...,  1.67902074,\n",
              "         0.3006673 , -0.21477532],\n",
              "       [-1.33071973, -1.19956712,  1.01126962, ...,  0.51757501,\n",
              "         0.00759108,  0.52482366]])"
            ]
          },
          "execution_count": 103,
          "metadata": {},
          "output_type": "execute_result"
        }
      ],
      "source": [
        "X_res"
      ]
    },
    {
      "cell_type": "markdown",
      "metadata": {
        "id": "_yWMkM-VivlM"
      },
      "source": [
        "Data Balancing"
      ]
    },
    {
      "cell_type": "code",
      "execution_count": null,
      "metadata": {
        "colab": {
          "base_uri": "https://localhost:8080/"
        },
        "id": "tc4gbQiIinLQ",
        "outputId": "cbe1d7d9-3929-473f-f60b-58903e1fbac9"
      },
      "outputs": [
        {
          "data": {
            "text/plain": [
              "5    577\n",
              "6    535\n",
              "7    167\n",
              "4     53\n",
              "8     17\n",
              "3     10\n",
              "Name: quality, dtype: int64"
            ]
          },
          "execution_count": 104,
          "metadata": {},
          "output_type": "execute_result"
        }
      ],
      "source": [
        "y.value_counts()"
      ]
    },
    {
      "cell_type": "code",
      "execution_count": null,
      "metadata": {
        "colab": {
          "base_uri": "https://localhost:8080/",
          "height": 430
        },
        "id": "ydAfENgPi4tU",
        "outputId": "07d28312-a514-4858-b498-90c6ad599b6f"
      },
      "outputs": [
        {
          "name": "stderr",
          "output_type": "stream",
          "text": [
            "C:\\Users\\venka\\anaconda3\\lib\\site-packages\\seaborn\\_decorators.py:36: FutureWarning: Pass the following variable as a keyword arg: x. From version 0.12, the only valid positional argument will be `data`, and passing other arguments without an explicit keyword will result in an error or misinterpretation.\n",
            "  warnings.warn(\n"
          ]
        },
        {
          "data": {
            "image/png": "[encoded data removed]",
            "text/plain": [
              "<Figure size 640x480 with 1 Axes>"
            ]
          },
          "metadata": {},
          "output_type": "display_data"
        }
      ],
      "source": [
        "sns.countplot(df['quality'])\n",
        "plt.grid()\n",
        "plt.show()"
      ]
    },
    {
      "cell_type": "code",
      "execution_count": null,
      "metadata": {
        "colab": {
          "base_uri": "https://localhost:8080/"
        },
        "id": "bkFlg0_TjD0Y",
        "outputId": "2ab62eaf-a41e-43fc-b5e8-67909f16acfb"
      },
      "outputs": [
        {
          "name": "stdout",
          "output_type": "stream",
          "text": [
            "0       0\n",
            "1       0\n",
            "2       0\n",
            "3       0\n",
            "5       0\n",
            "       ..\n",
            "1593    0\n",
            "1594    0\n",
            "1595    0\n",
            "1597    0\n",
            "1598    0\n",
            "Name: quality, Length: 1359, dtype: int64\n"
          ]
        }
      ],
      "source": [
        "Y = df['quality'].apply(lambda y_value: 1 if y_value>=7 else 0)\n",
        "print(Y)"
      ]
    },
    {
      "cell_type": "code",
      "execution_count": null,
      "metadata": {
        "colab": {
          "base_uri": "https://localhost:8080/"
        },
        "id": "46IP1Hfykok2",
        "outputId": "8b1d4c94-d829-42f5-8d5b-62c6a5c8e5bb"
      },
      "outputs": [
        {
          "data": {
            "text/plain": [
              "0    1175\n",
              "1     184\n",
              "Name: quality, dtype: int64"
            ]
          },
          "execution_count": 107,
          "metadata": {},
          "output_type": "execute_result"
        }
      ],
      "source": [
        "Y.value_counts()"
      ]
    },
    {
      "cell_type": "code",
      "execution_count": null,
      "metadata": {
        "colab": {
          "base_uri": "https://localhost:8080/",
          "height": 443
        },
        "id": "_W-9qlQQkuIP",
        "outputId": "c2ca343e-89c2-43bd-d80f-50a268cba7b7"
      },
      "outputs": [
        {
          "data": {
            "text/plain": [
              "<AxesSubplot:>"
            ]
          },
          "execution_count": 108,
          "metadata": {},
          "output_type": "execute_result"
        },
        {
          "data": {
            "image/png": "[encoded data removed]",
            "text/plain": [
              "<Figure size 640x480 with 1 Axes>"
            ]
          },
          "metadata": {},
          "output_type": "display_data"
        }
      ],
      "source": [
        "pd.Series(Y).value_counts().plot.bar()\n"
      ]
    },
    {
      "cell_type": "code",
      "execution_count": null,
      "metadata": {
        "id": "EX0hAKTNkxRY"
      },
      "outputs": [],
      "source": [
        "X_train, X_test, Y_train, Y_test = train_test_split(X_res, Y, test_size=0.2, random_state=3)"
      ]
    },
    {
      "cell_type": "code",
      "execution_count": null,
      "metadata": {
        "colab": {
          "base_uri": "https://localhost:8080/"
        },
        "id": "i2drCXbvlz6L",
        "outputId": "f391f47c-066e-4da7-b243-ce64e6535c73"
      },
      "outputs": [
        {
          "data": {
            "text/plain": [
              "((1087, 9), (1087,))"
            ]
          },
          "execution_count": 110,
          "metadata": {},
          "output_type": "execute_result"
        }
      ],
      "source": [
        "X_train.shape,Y_train.shape"
      ]
    },
    {
      "cell_type": "code",
      "execution_count": null,
      "metadata": {
        "colab": {
          "base_uri": "https://localhost:8080/"
        },
        "id": "3XpCn-VZl6H3",
        "outputId": "3b5a657c-c096-4a8d-fb62-25fc0ecac305"
      },
      "outputs": [
        {
          "data": {
            "text/plain": [
              "((272, 9), (272,))"
            ]
          },
          "execution_count": 111,
          "metadata": {},
          "output_type": "execute_result"
        }
      ],
      "source": [
        "X_test.shape,Y_test.shape"
      ]
    },
    {
      "cell_type": "markdown",
      "metadata": {
        "id": "sjt5fFJLmI69"
      },
      "source": [
        "## Model Training & Evaluation:"
      ]
    },
    {
      "cell_type": "markdown",
      "metadata": {
        "id": "3zusN8SxmTUz"
      },
      "source": [
        "# Random Forest"
      ]
    },
    {
      "cell_type": "code",
      "execution_count": null,
      "metadata": {
        "colab": {
          "base_uri": "https://localhost:8080/"
        },
        "id": "LOmgq7jXmEFz",
        "outputId": "b799bec9-0857-4d79-ff8a-8b4d38d3a955"
      },
      "outputs": [
        {
          "name": "stdout",
          "output_type": "stream",
          "text": [
            "Accuracy Score: 0.8897058823529411\n",
            "F1 Score: 0.4444444444444445\n",
            "precision: 0.631578947368421\n",
            "recall: 0.34285714285714286\n"
          ]
        }
      ],
      "source": [
        "from sklearn.ensemble import RandomForestClassifier\n",
        "model1 = RandomForestClassifier(random_state=1)\n",
        "model1.fit(X_train, Y_train)\n",
        "y_pred1 = model1.predict(X_test)\n",
        "\n",
        "from sklearn.metrics import accuracy_score\n",
        "print(\"Accuracy Score:\",accuracy_score(Y_test,y_pred1))\n",
        "\n",
        "from sklearn.metrics import f1_score\n",
        "print( 'F1 Score:' , f1_score(Y_test, y_pred1))\n",
        "\n",
        "from sklearn.metrics import precision_score\n",
        "print( 'precision:' , precision_score(Y_test, y_pred1))\n",
        "\n",
        "from sklearn.metrics import recall_score\n",
        "print( 'recall:' , recall_score(Y_test, y_pred1))"
      ]
    },
    {
      "cell_type": "markdown",
      "metadata": {
        "id": "F1s75850mh-h"
      },
      "source": [
        "## Logistic Regression"
      ]
    },
    {
      "cell_type": "code",
      "execution_count": null,
      "metadata": {
        "colab": {
          "base_uri": "https://localhost:8080/"
        },
        "id": "6RCJeg0NmdY2",
        "outputId": "bec6ed37-fd4a-4460-ed56-2f462192c342"
      },
      "outputs": [
        {
          "name": "stdout",
          "output_type": "stream",
          "text": [
            "Accuracy Score: 0.875\n",
            "F1 Score: 0.34615384615384615\n",
            "precision: 0.5294117647058824\n",
            "recall: 0.2571428571428571\n"
          ]
        }
      ],
      "source": [
        "from sklearn.linear_model import LogisticRegression\n",
        "model2 = LogisticRegression()\n",
        "model2.fit(X_train,Y_train)\n",
        "y_pred2 = model2.predict(X_test)\n",
        "\n",
        "from sklearn.metrics import accuracy_score,confusion_matrix\n",
        "print(\"Accuracy Score:\",accuracy_score(Y_test,y_pred2))\n",
        "\n",
        "from sklearn.metrics import f1_score\n",
        "print( 'F1 Score:' , f1_score(Y_test, y_pred2))\n",
        "\n",
        "from sklearn.metrics import precision_score\n",
        "print( 'precision:' , precision_score(Y_test, y_pred2))\n",
        "\n",
        "from sklearn.metrics import recall_score\n",
        "print( 'recall:' , recall_score(Y_test, y_pred2))"
      ]
    },
    {
      "cell_type": "markdown",
      "metadata": {
        "id": "_cTHIC1BmpbA"
      },
      "source": [
        "## KNN"
      ]
    },
    {
      "cell_type": "code",
      "execution_count": null,
      "metadata": {
        "colab": {
          "base_uri": "https://localhost:8080/"
        },
        "id": "8ZS2dnlPmnDv",
        "outputId": "2d2005e2-222f-49cb-b82c-639861223205"
      },
      "outputs": [
        {
          "name": "stdout",
          "output_type": "stream",
          "text": [
            "Accuracy Score: 0.875\n",
            "F1 Score: 0.4848484848484849\n",
            "precision: 0.5161290322580645\n",
            "recall: 0.45714285714285713\n"
          ]
        },
        {
          "name": "stderr",
          "output_type": "stream",
          "text": [
            "C:\\Users\\venka\\anaconda3\\lib\\site-packages\\sklearn\\neighbors\\_classification.py:228: FutureWarning: Unlike other reduction functions (e.g. `skew`, `kurtosis`), the default behavior of `mode` typically preserves the axis it acts along. In SciPy 1.11.0, this behavior will change: the default value of `keepdims` will become False, the `axis` over which the statistic is taken will be eliminated, and the value None will no longer be accepted. Set `keepdims` to True or False to avoid this warning.\n",
            "  mode, _ = stats.mode(_y[neigh_ind, k], axis=1)\n"
          ]
        }
      ],
      "source": [
        "from sklearn.neighbors import KNeighborsClassifier\n",
        "model3 = KNeighborsClassifier(n_neighbors=3)\n",
        "model3.fit(X_train,Y_train)\n",
        "y_pred3 = model3.predict(X_test)\n",
        "\n",
        "from sklearn.metrics import accuracy_score\n",
        "print(\"Accuracy Score:\",accuracy_score(Y_test,y_pred3))\n",
        "\n",
        "from sklearn.metrics import f1_score\n",
        "print( 'F1 Score:' , f1_score(Y_test, y_pred3))\n",
        "\n",
        "from sklearn.metrics import precision_score\n",
        "print( 'precision:' , precision_score(Y_test, y_pred3))\n",
        "\n",
        "from sklearn.metrics import recall_score\n",
        "print( 'recall:' , recall_score(Y_test, y_pred3))"
      ]
    },
    {
      "cell_type": "markdown",
      "metadata": {
        "id": "QQwpy6RVmwK3"
      },
      "source": [
        "## SVC"
      ]
    },
    {
      "cell_type": "code",
      "execution_count": null,
      "metadata": {
        "colab": {
          "base_uri": "https://localhost:8080/"
        },
        "id": "4igX2GVMms1R",
        "outputId": "2a0179cd-7006-4c5c-bbd9-2d213c1a55f4"
      },
      "outputs": [
        {
          "name": "stdout",
          "output_type": "stream",
          "text": [
            "Accuracy Score: 0.8823529411764706\n",
            "F1 Score: 0.30434782608695654\n",
            "precision: 0.6363636363636364\n",
            "recall: 0.2\n"
          ]
        }
      ],
      "source": [
        "from sklearn.svm import SVC\n",
        "model4 = SVC()\n",
        "model4.fit(X_train,Y_train)\n",
        "y_pred4 = model4.predict(X_test)\n",
        "\n",
        "from sklearn.metrics import accuracy_score\n",
        "print(\"Accuracy Score:\",accuracy_score(Y_test,y_pred4))\n",
        "\n",
        "from sklearn.metrics import f1_score\n",
        "print( 'F1 Score:' , f1_score(Y_test, y_pred4))\n",
        "\n",
        "from sklearn.metrics import precision_score\n",
        "print( 'precision:' , precision_score(Y_test, y_pred4))\n",
        "\n",
        "from sklearn.metrics import recall_score\n",
        "print( 'recall:' , recall_score(Y_test, y_pred4))"
      ]
    },
    {
      "cell_type": "markdown",
      "metadata": {
        "id": "A7SDOKbYm1d5"
      },
      "source": [
        "## GaussianNB"
      ]
    },
    {
      "cell_type": "code",
      "execution_count": null,
      "metadata": {
        "colab": {
          "base_uri": "https://localhost:8080/"
        },
        "id": "xPDVXbd1myyo",
        "outputId": "bc575415-9166-44bb-8e6d-bfbd6f0b513a"
      },
      "outputs": [
        {
          "name": "stdout",
          "output_type": "stream",
          "text": [
            "Accuracy Score: 0.8382352941176471\n",
            "F1 Score: 0.43589743589743585\n",
            "precision: 0.3953488372093023\n",
            "recall: 0.4857142857142857\n"
          ]
        }
      ],
      "source": [
        "from sklearn.naive_bayes import GaussianNB\n",
        "model5 = GaussianNB()\n",
        "model5.fit(X_train,Y_train)\n",
        "y_pred5 = model5.predict(X_test)\n",
        "\n",
        "from sklearn.metrics import accuracy_score\n",
        "print(\"Accuracy Score:\",accuracy_score(Y_test,y_pred5))\n",
        "\n",
        "from sklearn.metrics import f1_score\n",
        "print( 'F1 Score:' , f1_score(Y_test, y_pred5))\n",
        "\n",
        "from sklearn.metrics import precision_score\n",
        "print( 'precision:' , precision_score(Y_test, y_pred5))\n",
        "\n",
        "from sklearn.metrics import recall_score\n",
        "print( 'recall:' , recall_score(Y_test, y_pred5))"
      ]
    },
    {
      "cell_type": "markdown",
      "metadata": {
        "id": "4geVQZy1m7o6"
      },
      "source": [
        "## XGBoost"
      ]
    },
    {
      "cell_type": "code",
      "execution_count": null,
      "metadata": {
        "colab": {
          "base_uri": "https://localhost:8080/"
        },
        "id": "Lr0HRsYYm5he",
        "outputId": "a7a0b3a8-60c2-4d68-837e-6a0507cd3108"
      },
      "outputs": [
        {
          "name": "stdout",
          "output_type": "stream",
          "text": [
            "Accuracy Score: 0.8786764705882353\n",
            "F1 Score: 0.4923076923076923\n",
            "precision: 0.5333333333333333\n",
            "recall: 0.45714285714285713\n"
          ]
        }
      ],
      "source": [
        "import xgboost as xgb\n",
        "model6 = xgb.XGBClassifier(random_state=1)\n",
        "model6.fit(X_train, Y_train)\n",
        "y_pred6 = model6.predict(X_test)\n",
        "\n",
        "from sklearn.metrics import accuracy_score\n",
        "print(\"Accuracy Score:\",accuracy_score(Y_test,y_pred6))\n",
        "\n",
        "from sklearn.metrics import f1_score\n",
        "print( 'F1 Score:' , f1_score(Y_test, y_pred6))\n",
        "\n",
        "from sklearn.metrics import precision_score\n",
        "print( 'precision:' , precision_score(Y_test, y_pred6))\n",
        "\n",
        "from sklearn.metrics import recall_score\n",
        "print( 'recall:' , recall_score(Y_test, y_pred6))"
      ]
    },
    {
      "cell_type": "markdown",
      "metadata": {
        "id": "h1NMRRKhnYQA"
      },
      "source": [
        "## ANN"
      ]
    },
    {
      "cell_type": "code",
      "execution_count": null,
      "metadata": {
        "colab": {
          "base_uri": "https://localhost:8080/"
        },
        "id": "fPyCdJXMnRms",
        "outputId": "37827ba8-6abf-4953-ae98-adb60cbacce7"
      },
      "outputs": [
        {
          "name": "stdout",
          "output_type": "stream",
          "text": [
            "Model: \"sequential_4\"\n",
            "_________________________________________________________________\n",
            " Layer (type)                Output Shape              Param #   \n",
            "=================================================================\n",
            " dense_12 (Dense)            (None, None, 1, 12)       120       \n",
            "                                                                 \n",
            " dense_13 (Dense)            (None, None, 1, 9)        117       \n",
            "                                                                 \n",
            " dense_14 (Dense)            (None, None, 1, 1)        10        \n",
            "                                                                 \n",
            "=================================================================\n",
            "Total params: 247\n",
            "Trainable params: 247\n",
            "Non-trainable params: 0\n",
            "_________________________________________________________________\n"
          ]
        }
      ],
      "source": [
        "from keras.models import Sequential\n",
        "from keras.layers import Dense\n",
        "model = Sequential()\n",
        "model.add(Dense(12, activation ='relu', input_shape =(None ,1, 9)))\n",
        "model.add(Dense(9, activation ='relu'))\n",
        "model.add(Dense(1, activation ='sigmoid'))\n",
        "model.output_shape\n",
        "\n",
        "model.summary()\n",
        "\n",
        "model.get_config()\n",
        "\n",
        "model.get_weights()\n",
        "model.compile(loss ='binary_crossentropy',\n",
        "optimizer ='adam', metrics =['accuracy'])\n"
      ]
    },
    {
      "cell_type": "code",
      "execution_count": null,
      "metadata": {
        "colab": {
          "base_uri": "https://localhost:8080/"
        },
        "id": "dMxymkutnbU-",
        "outputId": "10b33735-a067-4ddc-b898-63254f77c777"
      },
      "outputs": [
        {
          "name": "stdout",
          "output_type": "stream",
          "text": [
            "Epoch 1/15\n",
            "978/978 [==============================] - 2s 2ms/step - loss: 0.4297 - accuracy: 0.8395 - val_loss: 0.3935 - val_accuracy: 0.8165\n",
            "Epoch 2/15\n",
            "978/978 [==============================] - 1s 1ms/step - loss: 0.2998 - accuracy: 0.8661 - val_loss: 0.3529 - val_accuracy: 0.8257\n",
            "Epoch 3/15\n",
            "978/978 [==============================] - 1s 2ms/step - loss: 0.2837 - accuracy: 0.8824 - val_loss: 0.3256 - val_accuracy: 0.8349\n",
            "Epoch 4/15\n",
            "978/978 [==============================] - 2s 2ms/step - loss: 0.2746 - accuracy: 0.8834 - val_loss: 0.3017 - val_accuracy: 0.8257\n",
            "Epoch 5/15\n",
            "978/978 [==============================] - 3s 3ms/step - loss: 0.2682 - accuracy: 0.8855 - val_loss: 0.3045 - val_accuracy: 0.8257\n",
            "Epoch 6/15\n",
            "978/978 [==============================] - 3s 3ms/step - loss: 0.2627 - accuracy: 0.8947 - val_loss: 0.3046 - val_accuracy: 0.8349\n",
            "Epoch 7/15\n",
            "978/978 [==============================] - 3s 3ms/step - loss: 0.2590 - accuracy: 0.8916 - val_loss: 0.3048 - val_accuracy: 0.8440\n",
            "Epoch 8/15\n",
            "978/978 [==============================] - 2s 2ms/step - loss: 0.2550 - accuracy: 0.8906 - val_loss: 0.3076 - val_accuracy: 0.8349\n",
            "Epoch 9/15\n",
            "978/978 [==============================] - 2s 2ms/step - loss: 0.2512 - accuracy: 0.8937 - val_loss: 0.3151 - val_accuracy: 0.8349\n",
            "Epoch 10/15\n",
            "978/978 [==============================] - 3s 3ms/step - loss: 0.2477 - accuracy: 0.8947 - val_loss: 0.3153 - val_accuracy: 0.8349\n",
            "Epoch 11/15\n",
            "978/978 [==============================] - 3s 3ms/step - loss: 0.2459 - accuracy: 0.8926 - val_loss: 0.3019 - val_accuracy: 0.8532\n",
            "Epoch 12/15\n",
            "978/978 [==============================] - 3s 3ms/step - loss: 0.2423 - accuracy: 0.8988 - val_loss: 0.3116 - val_accuracy: 0.8440\n",
            "Epoch 13/15\n",
            "978/978 [==============================] - 2s 2ms/step - loss: 0.2405 - accuracy: 0.8957 - val_loss: 0.3070 - val_accuracy: 0.8532\n",
            "Epoch 14/15\n",
            "978/978 [==============================] - 2s 2ms/step - loss: 0.2361 - accuracy: 0.8947 - val_loss: 0.2995 - val_accuracy: 0.8624\n",
            "Epoch 15/15\n",
            "978/978 [==============================] - 3s 3ms/step - loss: 0.2362 - accuracy: 0.8988 - val_loss: 0.3267 - val_accuracy: 0.8440\n",
            "9/9 [==============================] - 0s 2ms/step\n",
            "[[2.16016872e-03]\n",
            " [3.69169153e-02]\n",
            " [7.91691616e-02]\n",
            " [2.91391015e-01]\n",
            " [4.89468463e-02]\n",
            " [4.11390662e-01]\n",
            " [6.29033372e-02]\n",
            " [2.29037628e-02]\n",
            " [3.58066559e-02]\n",
            " [9.66570675e-02]\n",
            " [1.79958403e-01]\n",
            " [3.33416164e-02]\n",
            " [1.39044554e-04]\n",
            " [5.84480760e-04]\n",
            " [4.79908176e-02]\n",
            " [8.71414319e-03]\n",
            " [2.13037035e-03]\n",
            " [1.65402293e-04]\n",
            " [5.67314588e-03]\n",
            " [2.64981273e-03]\n",
            " [4.37186449e-04]\n",
            " [6.47386611e-01]\n",
            " [3.02035183e-01]\n",
            " [5.16546480e-02]\n",
            " [7.73713410e-01]\n",
            " [5.09840362e-02]\n",
            " [6.70298422e-03]\n",
            " [2.06420973e-01]\n",
            " [9.94796585e-03]\n",
            " [1.49680357e-02]\n",
            " [2.85108358e-01]\n",
            " [1.14237713e-02]\n",
            " [8.54023322e-02]\n",
            " [2.69872457e-01]\n",
            " [2.97935680e-03]\n",
            " [1.64275840e-02]\n",
            " [2.07975470e-02]\n",
            " [1.27955747e-03]\n",
            " [4.92581651e-02]\n",
            " [4.92579478e-04]\n",
            " [2.11598747e-03]\n",
            " [9.38930665e-04]\n",
            " [3.93099666e-01]\n",
            " [6.73078716e-01]\n",
            " [3.95895779e-01]\n",
            " [1.52883551e-03]\n",
            " [2.49464288e-01]\n",
            " [3.46415229e-02]\n",
            " [2.53711697e-02]\n",
            " [1.71107368e-03]\n",
            " [1.81283220e-04]\n",
            " [7.55446553e-02]\n",
            " [3.37521255e-04]\n",
            " [4.46420014e-01]\n",
            " [3.41903535e-04]\n",
            " [2.13514408e-03]\n",
            " [5.28036035e-04]\n",
            " [4.49266518e-03]\n",
            " [4.92499443e-03]\n",
            " [3.07464768e-04]\n",
            " [2.88194939e-02]\n",
            " [1.08512528e-02]\n",
            " [3.18909442e-04]\n",
            " [3.19549084e-01]\n",
            " [2.14981963e-03]\n",
            " [2.69174838e-04]\n",
            " [1.30464464e-01]\n",
            " [1.70865119e-03]\n",
            " [1.18100224e-03]\n",
            " [2.74266690e-01]\n",
            " [3.03050369e-01]\n",
            " [1.84847624e-03]\n",
            " [1.14582162e-02]\n",
            " [1.39756519e-02]\n",
            " [5.79451285e-02]\n",
            " [8.26993659e-02]\n",
            " [4.72535641e-04]\n",
            " [4.07177210e-01]\n",
            " [9.63846280e-04]\n",
            " [1.78343279e-03]\n",
            " [1.85819030e-01]\n",
            " [1.36623438e-03]\n",
            " [1.98067464e-02]\n",
            " [7.73526207e-02]\n",
            " [4.62668836e-01]\n",
            " [1.16123937e-01]\n",
            " [2.45865807e-01]\n",
            " [5.66934526e-01]\n",
            " [2.08642625e-04]\n",
            " [9.55155294e-04]\n",
            " [7.30537847e-02]\n",
            " [2.92353071e-02]\n",
            " [6.21379651e-02]\n",
            " [1.44831315e-01]\n",
            " [8.69173266e-04]\n",
            " [7.90892576e-04]\n",
            " [7.43938684e-02]\n",
            " [6.69157431e-02]\n",
            " [4.28803251e-05]\n",
            " [4.63757098e-01]\n",
            " [3.36985081e-03]\n",
            " [3.09874042e-04]\n",
            " [5.53133385e-03]\n",
            " [2.61931121e-01]\n",
            " [3.66981170e-04]\n",
            " [2.57037759e-01]\n",
            " [4.75795306e-02]\n",
            " [3.24831693e-04]\n",
            " [7.72218360e-03]\n",
            " [6.81655481e-03]\n",
            " [3.84940892e-01]\n",
            " [5.82933368e-04]\n",
            " [1.84353575e-01]\n",
            " [7.22008917e-05]\n",
            " [3.27064753e-01]\n",
            " [7.59650793e-05]\n",
            " [6.38143420e-02]\n",
            " [7.05284551e-02]\n",
            " [2.53434200e-03]\n",
            " [2.21154898e-01]\n",
            " [3.35658644e-03]\n",
            " [5.20923674e-01]\n",
            " [7.50976382e-04]\n",
            " [1.81032002e-01]\n",
            " [3.78774741e-04]\n",
            " [9.60104982e-04]\n",
            " [7.44613411e-04]\n",
            " [3.28825414e-02]\n",
            " [9.12171416e-03]\n",
            " [1.31727755e-02]\n",
            " [2.03668207e-01]\n",
            " [2.07517599e-03]\n",
            " [7.37154565e-04]\n",
            " [2.49154419e-01]\n",
            " [3.40107072e-04]\n",
            " [1.23731112e-02]\n",
            " [3.60909291e-03]\n",
            " [1.12032518e-01]\n",
            " [2.45424554e-01]\n",
            " [1.83012383e-03]\n",
            " [6.36216719e-05]\n",
            " [5.64395562e-02]\n",
            " [6.93804622e-01]\n",
            " [1.31654963e-01]\n",
            " [7.19731301e-02]\n",
            " [1.62675411e-01]\n",
            " [1.88572405e-04]\n",
            " [1.52028562e-03]\n",
            " [6.23173788e-02]\n",
            " [5.59150986e-02]\n",
            " [2.49825880e-01]\n",
            " [9.88612068e-04]\n",
            " [1.10280760e-01]\n",
            " [3.58173507e-03]\n",
            " [1.65326655e-01]\n",
            " [8.38132948e-03]\n",
            " [6.31945491e-01]\n",
            " [4.45065014e-02]\n",
            " [1.44506060e-03]\n",
            " [3.33395699e-04]\n",
            " [5.42271920e-02]\n",
            " [3.43886673e-01]\n",
            " [2.64200121e-01]\n",
            " [3.71978916e-02]\n",
            " [7.86369565e-05]\n",
            " [2.44210549e-02]\n",
            " [5.39562374e-04]\n",
            " [3.27969700e-01]\n",
            " [8.43343697e-03]\n",
            " [8.87813861e-04]\n",
            " [4.66469884e-01]\n",
            " [9.19272453e-02]\n",
            " [2.35355645e-03]\n",
            " [3.07067838e-02]\n",
            " [3.35772405e-04]\n",
            " [1.69584841e-01]\n",
            " [2.34408960e-01]\n",
            " [5.12346253e-02]\n",
            " [8.40146909e-04]\n",
            " [4.71894026e-01]\n",
            " [1.79626849e-02]\n",
            " [2.19435059e-02]\n",
            " [6.30587386e-03]\n",
            " [6.17635101e-02]\n",
            " [2.97641219e-03]\n",
            " [3.75056744e-01]\n",
            " [1.62381248e-03]\n",
            " [1.81207201e-04]\n",
            " [2.25174889e-01]\n",
            " [6.91653416e-02]\n",
            " [6.21160507e-01]\n",
            " [2.86656648e-01]\n",
            " [7.88185222e-04]\n",
            " [2.71868706e-01]\n",
            " [6.35969336e-04]\n",
            " [2.10299551e-01]\n",
            " [8.02489230e-04]\n",
            " [3.09329450e-01]\n",
            " [6.76658452e-02]\n",
            " [9.07287933e-03]\n",
            " [1.33827731e-01]\n",
            " [1.63086820e-02]\n",
            " [1.73337117e-03]\n",
            " [2.68689450e-02]\n",
            " [3.44728306e-03]\n",
            " [7.29818875e-03]\n",
            " [7.57983997e-02]\n",
            " [3.82109955e-02]\n",
            " [4.48563747e-04]\n",
            " [3.63497384e-04]\n",
            " [3.07414439e-02]\n",
            " [1.85295772e-02]\n",
            " [1.20693138e-02]\n",
            " [5.72307289e-01]\n",
            " [1.88013881e-01]\n",
            " [8.98645550e-04]\n",
            " [7.50425756e-02]\n",
            " [6.59999950e-03]\n",
            " [1.30712455e-02]\n",
            " [1.22726709e-03]\n",
            " [7.79836595e-01]\n",
            " [1.05179241e-02]\n",
            " [1.25234678e-01]\n",
            " [4.01975471e-04]\n",
            " [3.56516452e-04]\n",
            " [4.43948843e-02]\n",
            " [1.73875347e-01]\n",
            " [1.07597059e-03]\n",
            " [5.01127122e-03]\n",
            " [5.12927145e-05]\n",
            " [1.85518801e-01]\n",
            " [7.48266000e-03]\n",
            " [1.24792129e-01]\n",
            " [5.18600410e-03]\n",
            " [3.35867912e-01]\n",
            " [8.00813913e-01]\n",
            " [2.06166017e-03]\n",
            " [3.09038529e-04]\n",
            " [1.87749148e-03]\n",
            " [3.20232037e-04]\n",
            " [6.76179171e-01]\n",
            " [3.78755450e-01]\n",
            " [2.68763117e-02]\n",
            " [1.21931091e-01]\n",
            " [1.04933209e-03]\n",
            " [2.72180041e-04]\n",
            " [2.28509218e-01]\n",
            " [6.17815331e-02]\n",
            " [2.70704529e-03]\n",
            " [5.55016777e-05]\n",
            " [1.80461966e-02]\n",
            " [6.20791968e-03]\n",
            " [8.32203031e-02]\n",
            " [1.68421194e-02]\n",
            " [2.43812171e-03]\n",
            " [3.59777302e-01]\n",
            " [1.66204557e-01]\n",
            " [2.14935504e-02]\n",
            " [4.58333874e-04]\n",
            " [1.57162379e-02]\n",
            " [2.80339360e-01]\n",
            " [1.94866836e-04]\n",
            " [3.24319899e-01]\n",
            " [1.48930661e-02]\n",
            " [1.27251248e-03]\n",
            " [1.47461484e-03]\n",
            " [3.78289237e-03]\n",
            " [3.00702523e-03]\n",
            " [5.64576127e-02]\n",
            " [1.86519444e-01]\n",
            " [3.47386044e-03]\n",
            " [2.46201176e-02]]\n"
          ]
        }
      ],
      "source": [
        "# Training Model\n",
        "history=model.fit(X_train, Y_train, validation_split=0.1,epochs = 15, batch_size = 1, verbose = 1)\n",
        "\n",
        "# Predicting the Value\n",
        "y_pred = model.predict(X_test)\n",
        "print(y_pred)"
      ]
    },
    {
      "cell_type": "code",
      "execution_count": null,
      "metadata": {
        "colab": {
          "base_uri": "https://localhost:8080/",
          "height": 490
        },
        "id": "ewNElYZknhHD",
        "outputId": "bcc2d359-f4a4-489e-9d83-429fce4f1c27"
      },
      "outputs": [
        {
          "data": {
            "text/plain": [
              "<matplotlib.legend.Legend at 0x1e0e45ecc10>"
            ]
          },
          "execution_count": 120,
          "metadata": {},
          "output_type": "execute_result"
        },
        {
          "data": {
            "image/png": "[encoded data removed]",
            "text/plain": [
              "<Figure size 640x480 with 1 Axes>"
            ]
          },
          "metadata": {},
          "output_type": "display_data"
        }
      ],
      "source": [
        "import matplotlib.pyplot as plt\n",
        "\n",
        "plt.plot(history.history['accuracy'])\n",
        "plt.plot(history.history['val_accuracy'])\n",
        "\n",
        "plt.title('model accuracy')\n",
        "plt.ylabel('accuracy')\n",
        "plt.xlabel('val_accuracy')\n",
        "\n",
        "plt.legend(['training data', 'validation data'], loc = 'lower right')"
      ]
    },
    {
      "cell_type": "code",
      "execution_count": null,
      "metadata": {
        "id": "q7Xs6JMAqDWE"
      },
      "outputs": [],
      "source": [
        "import tensorflow as tf\n",
        "y_train_cat = tf.keras.utils.to_categorical(Y_train, 6)\n",
        "y_test_cat = tf.keras.utils.to_categorical(Y_test, 6)"
      ]
    },
    {
      "cell_type": "code",
      "execution_count": null,
      "metadata": {
        "id": "xgvUw97Nqrv-"
      },
      "outputs": [],
      "source": [
        "sc = StandardScaler()\n",
        "X_train = sc.fit_transform(X_train)\n",
        "X_test = sc.fit_transform(X_test)"
      ]
    },
    {
      "cell_type": "code",
      "execution_count": null,
      "metadata": {
        "colab": {
          "base_uri": "https://localhost:8080/"
        },
        "id": "FMCIJaJDq8zJ",
        "outputId": "7ba10a26-7d78-4d57-835f-d007f509b973"
      },
      "outputs": [
        {
          "name": "stdout",
          "output_type": "stream",
          "text": [
            "Model: \"sequential_5\"\n",
            "_________________________________________________________________\n",
            " Layer (type)                Output Shape              Param #   \n",
            "=================================================================\n",
            " dense_15 (Dense)            (None, None, 1, 16)       160       \n",
            "                                                                 \n",
            " dense_16 (Dense)            (None, None, 1, 8)        136       \n",
            "                                                                 \n",
            " dense_17 (Dense)            (None, None, 1, 6)        54        \n",
            "                                                                 \n",
            "=================================================================\n",
            "Total params: 350\n",
            "Trainable params: 350\n",
            "Non-trainable params: 0\n",
            "_________________________________________________________________\n"
          ]
        }
      ],
      "source": [
        "ann = tf.keras.models.Sequential(layers = None , name = None)\n",
        "ann.add(tf.keras.layers.Input(shape =(None ,1, 9)))\n",
        "ann.add(tf.keras.layers.Dense(units = 16 , activation = \"relu\" ))\n",
        "ann.add(tf.keras.layers.Dense(units = 8 , activation = \"relu\" ))\n",
        "ann.add(tf.keras.layers.Dense(units = 6 , activation = \"sigmoid\"))\n",
        "ann.summary()"
      ]
    },
    {
      "cell_type": "code",
      "execution_count": null,
      "metadata": {
        "id": "RoU55SlEq-wW"
      },
      "outputs": [],
      "source": [
        "ann.compile(optimizer = 'adam' , loss = 'categorical_crossentropy' ,metrics= ['accuracy'])"
      ]
    },
    {
      "cell_type": "code",
      "execution_count": null,
      "metadata": {
        "colab": {
          "base_uri": "https://localhost:8080/"
        },
        "id": "_v6HIrywrBg2",
        "outputId": "26a7d6ad-6e1d-4b8d-b9c7-ddbb9d936b8d",
        "scrolled": true
      },
      "outputs": [
        {
          "name": "stdout",
          "output_type": "stream",
          "text": [
            "Epoch 1/75\n",
            "34/34 [==============================] - 1s 7ms/step - loss: 1.8326 - accuracy: 0.1656 - val_loss: 1.7069 - val_accuracy: 0.3493\n",
            "Epoch 2/75\n",
            "34/34 [==============================] - 0s 2ms/step - loss: 1.5871 - accuracy: 0.6044 - val_loss: 1.4501 - val_accuracy: 0.7574\n",
            "Epoch 3/75\n",
            "34/34 [==============================] - 0s 2ms/step - loss: 1.2975 - accuracy: 0.8243 - val_loss: 1.1151 - val_accuracy: 0.8529\n",
            "Epoch 4/75\n",
            "34/34 [==============================] - 0s 2ms/step - loss: 0.9318 - accuracy: 0.8528 - val_loss: 0.7522 - val_accuracy: 0.8640\n",
            "Epoch 5/75\n",
            "34/34 [==============================] - 0s 3ms/step - loss: 0.6249 - accuracy: 0.8583 - val_loss: 0.5258 - val_accuracy: 0.8640\n",
            "Epoch 6/75\n",
            "34/34 [==============================] - 0s 2ms/step - loss: 0.4610 - accuracy: 0.8648 - val_loss: 0.4210 - val_accuracy: 0.8640\n",
            "Epoch 7/75\n",
            "34/34 [==============================] - 0s 3ms/step - loss: 0.3878 - accuracy: 0.8675 - val_loss: 0.3735 - val_accuracy: 0.8640\n",
            "Epoch 8/75\n",
            "34/34 [==============================] - 0s 3ms/step - loss: 0.3514 - accuracy: 0.8721 - val_loss: 0.3473 - val_accuracy: 0.8676\n",
            "Epoch 9/75\n",
            "34/34 [==============================] - 0s 2ms/step - loss: 0.3305 - accuracy: 0.8776 - val_loss: 0.3311 - val_accuracy: 0.8640\n",
            "Epoch 10/75\n",
            "34/34 [==============================] - 0s 2ms/step - loss: 0.3173 - accuracy: 0.8758 - val_loss: 0.3198 - val_accuracy: 0.8676\n",
            "Epoch 11/75\n",
            "34/34 [==============================] - 0s 2ms/step - loss: 0.3077 - accuracy: 0.8776 - val_loss: 0.3107 - val_accuracy: 0.8640\n",
            "Epoch 12/75\n",
            "34/34 [==============================] - 0s 3ms/step - loss: 0.2998 - accuracy: 0.8767 - val_loss: 0.3041 - val_accuracy: 0.8640\n",
            "Epoch 13/75\n",
            "34/34 [==============================] - 0s 3ms/step - loss: 0.2940 - accuracy: 0.8749 - val_loss: 0.2990 - val_accuracy: 0.8676\n",
            "Epoch 14/75\n",
            "34/34 [==============================] - 0s 3ms/step - loss: 0.2884 - accuracy: 0.8795 - val_loss: 0.2956 - val_accuracy: 0.8713\n",
            "Epoch 15/75\n",
            "34/34 [==============================] - 0s 4ms/step - loss: 0.2843 - accuracy: 0.8786 - val_loss: 0.2925 - val_accuracy: 0.8713\n",
            "Epoch 16/75\n",
            "34/34 [==============================] - 0s 4ms/step - loss: 0.2811 - accuracy: 0.8758 - val_loss: 0.2903 - val_accuracy: 0.8713\n",
            "Epoch 17/75\n",
            "34/34 [==============================] - 0s 4ms/step - loss: 0.2784 - accuracy: 0.8767 - val_loss: 0.2881 - val_accuracy: 0.8750\n",
            "Epoch 18/75\n",
            "34/34 [==============================] - 0s 4ms/step - loss: 0.2771 - accuracy: 0.8767 - val_loss: 0.2867 - val_accuracy: 0.8750\n",
            "Epoch 19/75\n",
            "34/34 [==============================] - 0s 4ms/step - loss: 0.2742 - accuracy: 0.8767 - val_loss: 0.2856 - val_accuracy: 0.8787\n",
            "Epoch 20/75\n",
            "34/34 [==============================] - 0s 4ms/step - loss: 0.2720 - accuracy: 0.8822 - val_loss: 0.2845 - val_accuracy: 0.8750\n",
            "Epoch 21/75\n",
            "34/34 [==============================] - 0s 4ms/step - loss: 0.2698 - accuracy: 0.8804 - val_loss: 0.2831 - val_accuracy: 0.8750\n",
            "Epoch 22/75\n",
            "34/34 [==============================] - 0s 4ms/step - loss: 0.2689 - accuracy: 0.8795 - val_loss: 0.2820 - val_accuracy: 0.8824\n",
            "Epoch 23/75\n",
            "34/34 [==============================] - 0s 4ms/step - loss: 0.2669 - accuracy: 0.8841 - val_loss: 0.2819 - val_accuracy: 0.8824\n",
            "Epoch 24/75\n",
            "34/34 [==============================] - 0s 4ms/step - loss: 0.2659 - accuracy: 0.8822 - val_loss: 0.2799 - val_accuracy: 0.8824\n",
            "Epoch 25/75\n",
            "34/34 [==============================] - 0s 3ms/step - loss: 0.2646 - accuracy: 0.8859 - val_loss: 0.2790 - val_accuracy: 0.8824\n",
            "Epoch 26/75\n",
            "34/34 [==============================] - 0s 3ms/step - loss: 0.2636 - accuracy: 0.8813 - val_loss: 0.2793 - val_accuracy: 0.8860\n",
            "Epoch 27/75\n",
            "34/34 [==============================] - 0s 4ms/step - loss: 0.2623 - accuracy: 0.8850 - val_loss: 0.2796 - val_accuracy: 0.8897\n",
            "Epoch 28/75\n",
            "34/34 [==============================] - 0s 4ms/step - loss: 0.2609 - accuracy: 0.8850 - val_loss: 0.2776 - val_accuracy: 0.8860\n",
            "Epoch 29/75\n",
            "34/34 [==============================] - 0s 4ms/step - loss: 0.2597 - accuracy: 0.8832 - val_loss: 0.2778 - val_accuracy: 0.8860\n",
            "Epoch 30/75\n",
            "34/34 [==============================] - 0s 4ms/step - loss: 0.2592 - accuracy: 0.8868 - val_loss: 0.2774 - val_accuracy: 0.8860\n",
            "Epoch 31/75\n",
            "34/34 [==============================] - 0s 4ms/step - loss: 0.2581 - accuracy: 0.8878 - val_loss: 0.2762 - val_accuracy: 0.8897\n",
            "Epoch 32/75\n",
            "34/34 [==============================] - 0s 5ms/step - loss: 0.2577 - accuracy: 0.8887 - val_loss: 0.2785 - val_accuracy: 0.8897\n",
            "Epoch 33/75\n",
            "34/34 [==============================] - 0s 4ms/step - loss: 0.2569 - accuracy: 0.8878 - val_loss: 0.2753 - val_accuracy: 0.8897\n",
            "Epoch 34/75\n",
            "34/34 [==============================] - 0s 4ms/step - loss: 0.2557 - accuracy: 0.8832 - val_loss: 0.2755 - val_accuracy: 0.8934\n",
            "Epoch 35/75\n",
            "34/34 [==============================] - 0s 4ms/step - loss: 0.2546 - accuracy: 0.8841 - val_loss: 0.2761 - val_accuracy: 0.8897\n",
            "Epoch 36/75\n",
            "34/34 [==============================] - 0s 4ms/step - loss: 0.2539 - accuracy: 0.8832 - val_loss: 0.2750 - val_accuracy: 0.8971\n",
            "Epoch 37/75\n",
            "34/34 [==============================] - 0s 4ms/step - loss: 0.2535 - accuracy: 0.8887 - val_loss: 0.2755 - val_accuracy: 0.8860\n",
            "Epoch 38/75\n",
            "34/34 [==============================] - 0s 4ms/step - loss: 0.2534 - accuracy: 0.8868 - val_loss: 0.2748 - val_accuracy: 0.9007\n",
            "Epoch 39/75\n",
            "34/34 [==============================] - 0s 4ms/step - loss: 0.2519 - accuracy: 0.8868 - val_loss: 0.2750 - val_accuracy: 0.8971\n",
            "Epoch 40/75\n",
            "34/34 [==============================] - 0s 4ms/step - loss: 0.2516 - accuracy: 0.8832 - val_loss: 0.2743 - val_accuracy: 0.8934\n",
            "Epoch 41/75\n",
            "34/34 [==============================] - 0s 5ms/step - loss: 0.2504 - accuracy: 0.8878 - val_loss: 0.2750 - val_accuracy: 0.8934\n",
            "Epoch 42/75\n",
            "34/34 [==============================] - 0s 5ms/step - loss: 0.2495 - accuracy: 0.8896 - val_loss: 0.2736 - val_accuracy: 0.8934\n",
            "Epoch 43/75\n",
            "34/34 [==============================] - 0s 5ms/step - loss: 0.2484 - accuracy: 0.8878 - val_loss: 0.2765 - val_accuracy: 0.8860\n",
            "Epoch 44/75\n",
            "34/34 [==============================] - 0s 5ms/step - loss: 0.2476 - accuracy: 0.8850 - val_loss: 0.2754 - val_accuracy: 0.8971\n",
            "Epoch 45/75\n",
            "34/34 [==============================] - 0s 7ms/step - loss: 0.2467 - accuracy: 0.8868 - val_loss: 0.2755 - val_accuracy: 0.8971\n",
            "Epoch 46/75\n",
            "34/34 [==============================] - 0s 6ms/step - loss: 0.2466 - accuracy: 0.8887 - val_loss: 0.2742 - val_accuracy: 0.8897\n",
            "Epoch 47/75\n",
            "34/34 [==============================] - 0s 5ms/step - loss: 0.2462 - accuracy: 0.8914 - val_loss: 0.2767 - val_accuracy: 0.8934\n",
            "Epoch 48/75\n",
            "34/34 [==============================] - 0s 5ms/step - loss: 0.2457 - accuracy: 0.8905 - val_loss: 0.2742 - val_accuracy: 0.8971\n",
            "Epoch 49/75\n",
            "34/34 [==============================] - 0s 5ms/step - loss: 0.2444 - accuracy: 0.8878 - val_loss: 0.2749 - val_accuracy: 0.8971\n",
            "Epoch 50/75\n",
            "34/34 [==============================] - 0s 5ms/step - loss: 0.2433 - accuracy: 0.8905 - val_loss: 0.2761 - val_accuracy: 0.8934\n",
            "Epoch 51/75\n",
            "34/34 [==============================] - 0s 5ms/step - loss: 0.2433 - accuracy: 0.8905 - val_loss: 0.2745 - val_accuracy: 0.8934\n",
            "Epoch 52/75\n",
            "34/34 [==============================] - 0s 8ms/step - loss: 0.2431 - accuracy: 0.8905 - val_loss: 0.2759 - val_accuracy: 0.8934\n",
            "Epoch 53/75\n",
            "34/34 [==============================] - 0s 7ms/step - loss: 0.2422 - accuracy: 0.8914 - val_loss: 0.2761 - val_accuracy: 0.8971\n",
            "Epoch 54/75\n",
            "34/34 [==============================] - 0s 5ms/step - loss: 0.2421 - accuracy: 0.8914 - val_loss: 0.2758 - val_accuracy: 0.8934\n",
            "Epoch 55/75\n",
            "34/34 [==============================] - 0s 5ms/step - loss: 0.2425 - accuracy: 0.8914 - val_loss: 0.2752 - val_accuracy: 0.9007\n",
            "Epoch 56/75\n",
            "34/34 [==============================] - 0s 5ms/step - loss: 0.2404 - accuracy: 0.8914 - val_loss: 0.2761 - val_accuracy: 0.8934\n",
            "Epoch 57/75\n",
            "34/34 [==============================] - 0s 5ms/step - loss: 0.2397 - accuracy: 0.8924 - val_loss: 0.2753 - val_accuracy: 0.8971\n",
            "Epoch 58/75\n",
            "34/34 [==============================] - 0s 5ms/step - loss: 0.2400 - accuracy: 0.8933 - val_loss: 0.2749 - val_accuracy: 0.8934\n",
            "Epoch 59/75\n"
          ]
        },
        {
          "name": "stdout",
          "output_type": "stream",
          "text": [
            "34/34 [==============================] - 0s 5ms/step - loss: 0.2411 - accuracy: 0.8905 - val_loss: 0.2806 - val_accuracy: 0.8824\n",
            "Epoch 60/75\n",
            "34/34 [==============================] - 0s 5ms/step - loss: 0.2399 - accuracy: 0.8933 - val_loss: 0.2773 - val_accuracy: 0.8897\n",
            "Epoch 61/75\n",
            "34/34 [==============================] - 0s 5ms/step - loss: 0.2378 - accuracy: 0.8951 - val_loss: 0.2758 - val_accuracy: 0.8934\n",
            "Epoch 62/75\n",
            "34/34 [==============================] - 0s 5ms/step - loss: 0.2378 - accuracy: 0.8960 - val_loss: 0.2793 - val_accuracy: 0.8824\n",
            "Epoch 63/75\n",
            "34/34 [==============================] - 0s 6ms/step - loss: 0.2375 - accuracy: 0.8933 - val_loss: 0.2760 - val_accuracy: 0.8934\n",
            "Epoch 64/75\n",
            "34/34 [==============================] - 0s 3ms/step - loss: 0.2370 - accuracy: 0.8942 - val_loss: 0.2760 - val_accuracy: 0.8971\n",
            "Epoch 65/75\n",
            "34/34 [==============================] - 0s 3ms/step - loss: 0.2360 - accuracy: 0.8960 - val_loss: 0.2781 - val_accuracy: 0.8897\n",
            "Epoch 66/75\n",
            "34/34 [==============================] - 0s 2ms/step - loss: 0.2366 - accuracy: 0.8933 - val_loss: 0.2764 - val_accuracy: 0.8934\n",
            "Epoch 67/75\n",
            "34/34 [==============================] - 0s 3ms/step - loss: 0.2351 - accuracy: 0.8988 - val_loss: 0.2777 - val_accuracy: 0.8934\n",
            "Epoch 68/75\n",
            "34/34 [==============================] - 0s 3ms/step - loss: 0.2350 - accuracy: 0.8896 - val_loss: 0.2778 - val_accuracy: 0.8897\n",
            "Epoch 69/75\n",
            "34/34 [==============================] - 0s 2ms/step - loss: 0.2343 - accuracy: 0.8933 - val_loss: 0.2769 - val_accuracy: 0.8934\n",
            "Epoch 70/75\n",
            "34/34 [==============================] - 0s 3ms/step - loss: 0.2342 - accuracy: 0.8960 - val_loss: 0.2762 - val_accuracy: 0.8934\n",
            "Epoch 71/75\n",
            "34/34 [==============================] - 0s 3ms/step - loss: 0.2330 - accuracy: 0.8979 - val_loss: 0.2766 - val_accuracy: 0.8897\n",
            "Epoch 72/75\n",
            "34/34 [==============================] - 0s 3ms/step - loss: 0.2334 - accuracy: 0.8951 - val_loss: 0.2770 - val_accuracy: 0.8934\n",
            "Epoch 73/75\n",
            "34/34 [==============================] - 0s 3ms/step - loss: 0.2328 - accuracy: 0.8970 - val_loss: 0.2767 - val_accuracy: 0.8897\n",
            "Epoch 74/75\n",
            "34/34 [==============================] - 0s 3ms/step - loss: 0.2317 - accuracy: 0.8942 - val_loss: 0.2795 - val_accuracy: 0.8787\n",
            "Epoch 75/75\n",
            "34/34 [==============================] - 0s 3ms/step - loss: 0.2317 - accuracy: 0.8988 - val_loss: 0.2775 - val_accuracy: 0.8934\n"
          ]
        }
      ],
      "source": [
        "history = ann.fit(X_train, y_train_cat,  batch_size= 32, epochs = 75 , validation_data = (X_test,y_test_cat))"
      ]
    },
    {
      "cell_type": "code",
      "execution_count": null,
      "metadata": {
        "colab": {
          "base_uri": "https://localhost:8080/",
          "height": 472
        },
        "id": "P5gzFT_QrC-m",
        "outputId": "e42995b6-8cd6-42a7-ea67-818c32b13adf"
      },
      "outputs": [
        {
          "data": {
            "image/png": "[encoded data removed]",
            "text/plain": [
              "<Figure size 640x480 with 1 Axes>"
            ]
          },
          "metadata": {},
          "output_type": "display_data"
        }
      ],
      "source": [
        "plt.plot(history.history['accuracy'], label='Accuracy training data')\n",
        "plt.plot(history.history['val_accuracy'], label='Accuracy validation data')\n",
        "plt.legend()\n",
        "plt.title('Model accuracy')\n",
        "plt.ylabel('Accuracy')\n",
        "plt.xlabel('epoch')\n",
        "plt.show()"
      ]
    },
    {
      "cell_type": "code",
      "execution_count": null,
      "metadata": {
        "colab": {
          "base_uri": "https://localhost:8080/",
          "height": 472
        },
        "id": "xYsggRobrkCT",
        "outputId": "4f165227-66d5-4956-fafd-ea176dc63df5"
      },
      "outputs": [
        {
          "data": {
            "image/png": "[encoded data removed]",
            "text/plain": [
              "<Figure size 640x480 with 1 Axes>"
            ]
          },
          "metadata": {},
          "output_type": "display_data"
        }
      ],
      "source": [
        "plt.plot(history.history['loss'], label='MAE training data')\n",
        "plt.plot(history.history['val_loss'], label='MAE validation data')\n",
        "plt.legend()\n",
        "plt.title('MAE for model')\n",
        "plt.ylabel('MAE')\n",
        "plt.xlabel('epoch')\n",
        "plt.show()"
      ]
    },
    {
      "cell_type": "code",
      "execution_count": null,
      "metadata": {
        "id": "-w8mmGl_iulj",
        "outputId": "ff51581f-0d01-4582-e3c6-3692b07e3562"
      },
      "outputs": [
        {
          "ename": "ModuleNotFoundError",
          "evalue": "No module named 'ann_visualizer'",
          "output_type": "error",
          "traceback": [
            "\u001b[1;31m---------------------------------------------------------------------------\u001b[0m",
            "\u001b[1;31mModuleNotFoundError\u001b[0m                       Traceback (most recent call last)",
            "\u001b[1;32m~\\AppData\\Local\\Temp\\ipykernel_4596\\67215111.py\u001b[0m in \u001b[0;36m<module>\u001b[1;34m\u001b[0m\n\u001b[1;32m----> 1\u001b[1;33m \u001b[1;32mfrom\u001b[0m \u001b[0mann_visualizer\u001b[0m\u001b[1;33m.\u001b[0m\u001b[0mvisualize\u001b[0m \u001b[1;32mimport\u001b[0m \u001b[0mann_viz\u001b[0m\u001b[1;33m\u001b[0m\u001b[1;33m\u001b[0m\u001b[0m\n\u001b[0m\u001b[0;32m      2\u001b[0m \u001b[1;33m\u001b[0m\u001b[0m\n\u001b[0;32m      3\u001b[0m \u001b[0mann_viz\u001b[0m\u001b[1;33m(\u001b[0m\u001b[0mmodel\u001b[0m\u001b[1;33m,\u001b[0m \u001b[0mtitle\u001b[0m\u001b[1;33m=\u001b[0m\u001b[1;34m\"My first neural network\"\u001b[0m\u001b[1;33m)\u001b[0m\u001b[1;33m\u001b[0m\u001b[1;33m\u001b[0m\u001b[0m\n",
            "\u001b[1;31mModuleNotFoundError\u001b[0m: No module named 'ann_visualizer'"
          ]
        }
      ],
      "source": [
        "from ann_visualizer.visualize import ann_viz\n",
        "\n",
        "ann_viz(model, title=\"My first neural network\")"
      ]
    },
    {
      "cell_type": "code",
      "execution_count": null,
      "metadata": {
        "id": "X0LlNVvHiulk"
      },
      "outputs": [],
      "source": []
    }
  ],
  "metadata": {
    "colab": {
      "provenance": []
    },
    "kernelspec": {
      "display_name": "Python 3 (ipykernel)",
      "language": "python",
      "name": "python3"
    },
    "language_info": {
      "codemirror_mode": {
        "name": "ipython",
        "version": 3
      },
      "file_extension": ".py",
      "mimetype": "text/x-python",
      "name": "python",
      "nbconvert_exporter": "python",
      "pygments_lexer": "ipython3",
      "version": "3.9.13"
    }
  },
  "nbformat": 4,
  "nbformat_minor": 0
}