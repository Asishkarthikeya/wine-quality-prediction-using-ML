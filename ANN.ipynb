{
  "cells": [
    {
      "cell_type": "code",
      "execution_count": null,
      "id": "f07c0fc1",
      "metadata": {
        "id": "f07c0fc1"
      },
      "outputs": [],
      "source": [
        "import numpy as np\n",
        "import pandas as pd\n",
        "import tensorflow as tf\n",
        "import seaborn as sb\n",
        "import matplotlib.pyplot as plt\n",
        "from sklearn.preprocessing import StandardScaler\n",
        "from sklearn.model_selection import train_test_split"
      ]
    },
    {
      "cell_type": "code",
      "execution_count": null,
      "id": "535636da",
      "metadata": {
        "id": "535636da"
      },
      "outputs": [],
      "source": [
        "df = pd.read_csv(\"winequality-red.csv\")"
      ]
    },
    {
      "cell_type": "code",
      "execution_count": null,
      "id": "8eb060bb",
      "metadata": {
        "id": "8eb060bb",
        "outputId": "bcebda92-b24b-4fca-c768-7828b089af76"
      },
      "outputs": [
        {
          "name": "stdout",
          "output_type": "stream",
          "text": [
            "      fixed acidity  volatile acidity  citric acid  residual sugar  chlorides  \\\n",
            "0               7.4             0.700         0.00             1.9      0.076   \n",
            "1               7.8             0.880         0.00             2.6      0.098   \n",
            "2               7.8             0.760         0.04             2.3      0.092   \n",
            "3              11.2             0.280         0.56             1.9      0.075   \n",
            "4               7.4             0.700         0.00             1.9      0.076   \n",
            "...             ...               ...          ...             ...        ...   \n",
            "1594            6.2             0.600         0.08             2.0      0.090   \n",
            "1595            5.9             0.550         0.10             2.2      0.062   \n",
            "1596            6.3             0.510         0.13             2.3      0.076   \n",
            "1597            5.9             0.645         0.12             2.0      0.075   \n",
            "1598            6.0             0.310         0.47             3.6      0.067   \n",
            "\n",
            "      free sulfur dioxide  total sulfur dioxide  density    pH  sulphates  \\\n",
            "0                    11.0                  34.0  0.99780  3.51       0.56   \n",
            "1                    25.0                  67.0  0.99680  3.20       0.68   \n",
            "2                    15.0                  54.0  0.99700  3.26       0.65   \n",
            "3                    17.0                  60.0  0.99800  3.16       0.58   \n",
            "4                    11.0                  34.0  0.99780  3.51       0.56   \n",
            "...                   ...                   ...      ...   ...        ...   \n",
            "1594                 32.0                  44.0  0.99490  3.45       0.58   \n",
            "1595                 39.0                  51.0  0.99512  3.52       0.76   \n",
            "1596                 29.0                  40.0  0.99574  3.42       0.75   \n",
            "1597                 32.0                  44.0  0.99547  3.57       0.71   \n",
            "1598                 18.0                  42.0  0.99549  3.39       0.66   \n",
            "\n",
            "      alcohol  \n",
            "0         9.4  \n",
            "1         9.8  \n",
            "2         9.8  \n",
            "3         9.8  \n",
            "4         9.4  \n",
            "...       ...  \n",
            "1594     10.5  \n",
            "1595     11.2  \n",
            "1596     11.0  \n",
            "1597     10.2  \n",
            "1598     11.0  \n",
            "\n",
            "[1599 rows x 11 columns]\n"
          ]
        }
      ],
      "source": [
        "X = df.drop('quality',axis=1)\n",
        "print(X)"
      ]
    },
    {
      "cell_type": "code",
      "execution_count": null,
      "id": "526a2424",
      "metadata": {
        "id": "526a2424"
      },
      "outputs": [],
      "source": [
        "df['goodquality'] = [1 if x >= 7 else 0 for x in df['quality']]\n",
        "X = df.drop(['quality','goodquality'], axis = 1) # Separate feature variables and target variable\n",
        "Y = df['goodquality']"
      ]
    },
    {
      "cell_type": "code",
      "execution_count": null,
      "id": "ffc58fdc",
      "metadata": {
        "id": "ffc58fdc",
        "outputId": "474d5426-68b0-4bee-f97e-db6369fccf80"
      },
      "outputs": [
        {
          "data": {
            "text/plain": [
              "0    1382\n",
              "1     217\n",
              "Name: goodquality, dtype: int64"
            ]
          },
          "execution_count": 37,
          "metadata": {},
          "output_type": "execute_result"
        }
      ],
      "source": [
        "df['goodquality'].value_counts()"
      ]
    },
    {
      "cell_type": "code",
      "execution_count": null,
      "id": "8bbdcce3",
      "metadata": {
        "id": "8bbdcce3"
      },
      "outputs": [],
      "source": [
        "X_train, X_test, Y_train, Y_test = train_test_split(X, Y, test_size=0.30, random_state=10)"
      ]
    },
    {
      "cell_type": "code",
      "execution_count": null,
      "id": "819045ac",
      "metadata": {
        "id": "819045ac",
        "outputId": "0886bfcb-e9a3-47f6-ca34-ba5959d8766a"
      },
      "outputs": [
        {
          "name": "stdout",
          "output_type": "stream",
          "text": [
            "(1119, 11)\n"
          ]
        }
      ],
      "source": [
        "print(X_train.shape)"
      ]
    },
    {
      "cell_type": "code",
      "execution_count": null,
      "id": "d95d9b45",
      "metadata": {
        "id": "d95d9b45"
      },
      "outputs": [],
      "source": [
        "y_train_cat = tf.keras.utils.to_categorical(Y_train, 6)\n",
        "y_test_cat = tf.keras.utils.to_categorical(Y_test, 6)"
      ]
    },
    {
      "cell_type": "code",
      "execution_count": null,
      "id": "50e6ecfb",
      "metadata": {
        "id": "50e6ecfb"
      },
      "outputs": [],
      "source": [
        "sc = StandardScaler()\n",
        "\n",
        "X_train = sc.fit_transform(X_train)\n",
        "X_test = sc.fit_transform(X_test)"
      ]
    },
    {
      "cell_type": "code",
      "execution_count": null,
      "id": "d7f139b9",
      "metadata": {
        "id": "d7f139b9",
        "outputId": "dfe1cc8b-7d30-4072-de5d-1f9736dbafef"
      },
      "outputs": [
        {
          "name": "stdout",
          "output_type": "stream",
          "text": [
            "Model: \"sequential_5\"\n",
            "_________________________________________________________________\n",
            " Layer (type)                Output Shape              Param #   \n",
            "=================================================================\n",
            " dense_16 (Dense)            (None, 16)                192       \n",
            "                                                                 \n",
            " dense_17 (Dense)            (None, 8)                 136       \n",
            "                                                                 \n",
            " dense_18 (Dense)            (None, 6)                 54        \n",
            "                                                                 \n",
            "=================================================================\n",
            "Total params: 382\n",
            "Trainable params: 382\n",
            "Non-trainable params: 0\n",
            "_________________________________________________________________\n"
          ]
        }
      ],
      "source": [
        "ann = tf.keras.models.Sequential(layers = None , name = None)\n",
        "ann.add(tf.keras.layers.Input(shape = 11,))\n",
        "ann.add(tf.keras.layers.Dense(units = 16 , activation = \"relu\" ))\n",
        "ann.add(tf.keras.layers.Dense(units = 8 , activation = \"relu\" ))\n",
        "ann.add(tf.keras.layers.Dense(units = 6 , activation = \"sigmoid\"))\n",
        "ann.summary()"
      ]
    },
    {
      "cell_type": "code",
      "execution_count": null,
      "id": "99476182",
      "metadata": {
        "id": "99476182"
      },
      "outputs": [],
      "source": [
        "ann.compile(optimizer = 'adam' , loss = 'categorical_crossentropy' ,metrics= ['accuracy'])"
      ]
    },
    {
      "cell_type": "code",
      "execution_count": null,
      "id": "98469340",
      "metadata": {
        "id": "98469340",
        "outputId": "cdab62e7-ee03-487b-f13b-6d10ca7a541b"
      },
      "outputs": [
        {
          "name": "stdout",
          "output_type": "stream",
          "text": [
            "Epoch 1/75\n",
            "35/35 [==============================] - 1s 4ms/step - loss: 1.6845 - accuracy: 0.3226 - val_loss: 1.5019 - val_accuracy: 0.5854\n",
            "Epoch 2/75\n",
            "35/35 [==============================] - 0s 2ms/step - loss: 1.3416 - accuracy: 0.7319 - val_loss: 1.1320 - val_accuracy: 0.8354\n",
            "Epoch 3/75\n",
            "35/35 [==============================] - 0s 2ms/step - loss: 0.9470 - accuracy: 0.8579 - val_loss: 0.7663 - val_accuracy: 0.8583\n",
            "Epoch 4/75\n",
            "35/35 [==============================] - 0s 2ms/step - loss: 0.6409 - accuracy: 0.8686 - val_loss: 0.5498 - val_accuracy: 0.8604\n",
            "Epoch 5/75\n",
            "35/35 [==============================] - 0s 2ms/step - loss: 0.4873 - accuracy: 0.8740 - val_loss: 0.4454 - val_accuracy: 0.8625\n",
            "Epoch 6/75\n",
            "35/35 [==============================] - 0s 2ms/step - loss: 0.4136 - accuracy: 0.8704 - val_loss: 0.3909 - val_accuracy: 0.8667\n",
            "Epoch 7/75\n",
            "35/35 [==============================] - 0s 2ms/step - loss: 0.3744 - accuracy: 0.8713 - val_loss: 0.3616 - val_accuracy: 0.8646\n",
            "Epoch 8/75\n",
            "35/35 [==============================] - 0s 2ms/step - loss: 0.3504 - accuracy: 0.8731 - val_loss: 0.3384 - val_accuracy: 0.8729\n",
            "Epoch 9/75\n",
            "35/35 [==============================] - 0s 2ms/step - loss: 0.3340 - accuracy: 0.8740 - val_loss: 0.3239 - val_accuracy: 0.8771\n",
            "Epoch 10/75\n",
            "35/35 [==============================] - 0s 2ms/step - loss: 0.3220 - accuracy: 0.8749 - val_loss: 0.3133 - val_accuracy: 0.8771\n",
            "Epoch 11/75\n",
            "35/35 [==============================] - 0s 2ms/step - loss: 0.3137 - accuracy: 0.8785 - val_loss: 0.3052 - val_accuracy: 0.8792\n",
            "Epoch 12/75\n",
            "35/35 [==============================] - 0s 2ms/step - loss: 0.3067 - accuracy: 0.8731 - val_loss: 0.2990 - val_accuracy: 0.8667\n",
            "Epoch 13/75\n",
            "35/35 [==============================] - 0s 2ms/step - loss: 0.3000 - accuracy: 0.8758 - val_loss: 0.2943 - val_accuracy: 0.8708\n",
            "Epoch 14/75\n",
            "35/35 [==============================] - 0s 2ms/step - loss: 0.2950 - accuracy: 0.8704 - val_loss: 0.2894 - val_accuracy: 0.8625\n",
            "Epoch 15/75\n",
            "35/35 [==============================] - 0s 2ms/step - loss: 0.2906 - accuracy: 0.8749 - val_loss: 0.2851 - val_accuracy: 0.8687\n",
            "Epoch 16/75\n",
            "35/35 [==============================] - 0s 2ms/step - loss: 0.2865 - accuracy: 0.8695 - val_loss: 0.2827 - val_accuracy: 0.8667\n",
            "Epoch 17/75\n",
            "35/35 [==============================] - 0s 1ms/step - loss: 0.2834 - accuracy: 0.8731 - val_loss: 0.2808 - val_accuracy: 0.8750\n",
            "Epoch 18/75\n",
            "35/35 [==============================] - 0s 2ms/step - loss: 0.2807 - accuracy: 0.8749 - val_loss: 0.2782 - val_accuracy: 0.8667\n",
            "Epoch 19/75\n",
            "35/35 [==============================] - 0s 1ms/step - loss: 0.2768 - accuracy: 0.8776 - val_loss: 0.2764 - val_accuracy: 0.8667\n",
            "Epoch 20/75\n",
            "35/35 [==============================] - 0s 1ms/step - loss: 0.2747 - accuracy: 0.8767 - val_loss: 0.2745 - val_accuracy: 0.8646\n",
            "Epoch 21/75\n",
            "35/35 [==============================] - 0s 2ms/step - loss: 0.2750 - accuracy: 0.8749 - val_loss: 0.2738 - val_accuracy: 0.8750\n",
            "Epoch 22/75\n",
            "35/35 [==============================] - 0s 2ms/step - loss: 0.2713 - accuracy: 0.8803 - val_loss: 0.2720 - val_accuracy: 0.8667\n",
            "Epoch 23/75\n",
            "35/35 [==============================] - 0s 1ms/step - loss: 0.2690 - accuracy: 0.8794 - val_loss: 0.2715 - val_accuracy: 0.8729\n",
            "Epoch 24/75\n",
            "35/35 [==============================] - 0s 1ms/step - loss: 0.2666 - accuracy: 0.8785 - val_loss: 0.2704 - val_accuracy: 0.8708\n",
            "Epoch 25/75\n",
            "35/35 [==============================] - 0s 1ms/step - loss: 0.2654 - accuracy: 0.8767 - val_loss: 0.2706 - val_accuracy: 0.8708\n",
            "Epoch 26/75\n",
            "35/35 [==============================] - 0s 2ms/step - loss: 0.2641 - accuracy: 0.8794 - val_loss: 0.2701 - val_accuracy: 0.8729\n",
            "Epoch 27/75\n",
            "35/35 [==============================] - 0s 1ms/step - loss: 0.2619 - accuracy: 0.8838 - val_loss: 0.2692 - val_accuracy: 0.8750\n",
            "Epoch 28/75\n",
            "35/35 [==============================] - 0s 1ms/step - loss: 0.2608 - accuracy: 0.8829 - val_loss: 0.2687 - val_accuracy: 0.8750\n",
            "Epoch 29/75\n",
            "35/35 [==============================] - 0s 2ms/step - loss: 0.2602 - accuracy: 0.8820 - val_loss: 0.2687 - val_accuracy: 0.8771\n",
            "Epoch 30/75\n",
            "35/35 [==============================] - 0s 2ms/step - loss: 0.2584 - accuracy: 0.8829 - val_loss: 0.2696 - val_accuracy: 0.8729\n",
            "Epoch 31/75\n",
            "35/35 [==============================] - 0s 1ms/step - loss: 0.2567 - accuracy: 0.8838 - val_loss: 0.2694 - val_accuracy: 0.8792\n",
            "Epoch 32/75\n",
            "35/35 [==============================] - 0s 2ms/step - loss: 0.2555 - accuracy: 0.8847 - val_loss: 0.2689 - val_accuracy: 0.8813\n",
            "Epoch 33/75\n",
            "35/35 [==============================] - 0s 2ms/step - loss: 0.2544 - accuracy: 0.8829 - val_loss: 0.2700 - val_accuracy: 0.8750\n",
            "Epoch 34/75\n",
            "35/35 [==============================] - 0s 2ms/step - loss: 0.2538 - accuracy: 0.8847 - val_loss: 0.2695 - val_accuracy: 0.8813\n",
            "Epoch 35/75\n",
            "35/35 [==============================] - 0s 2ms/step - loss: 0.2526 - accuracy: 0.8865 - val_loss: 0.2699 - val_accuracy: 0.8771\n",
            "Epoch 36/75\n",
            "35/35 [==============================] - 0s 2ms/step - loss: 0.2525 - accuracy: 0.8865 - val_loss: 0.2697 - val_accuracy: 0.8813\n",
            "Epoch 37/75\n",
            "35/35 [==============================] - 0s 2ms/step - loss: 0.2521 - accuracy: 0.8865 - val_loss: 0.2703 - val_accuracy: 0.8771\n",
            "Epoch 38/75\n",
            "35/35 [==============================] - 0s 2ms/step - loss: 0.2512 - accuracy: 0.8901 - val_loss: 0.2707 - val_accuracy: 0.8792\n",
            "Epoch 39/75\n",
            "35/35 [==============================] - 0s 1ms/step - loss: 0.2504 - accuracy: 0.8874 - val_loss: 0.2700 - val_accuracy: 0.8813\n",
            "Epoch 40/75\n",
            "35/35 [==============================] - 0s 2ms/step - loss: 0.2490 - accuracy: 0.8892 - val_loss: 0.2706 - val_accuracy: 0.8813\n",
            "Epoch 41/75\n",
            "35/35 [==============================] - 0s 1ms/step - loss: 0.2479 - accuracy: 0.8883 - val_loss: 0.2718 - val_accuracy: 0.8771\n",
            "Epoch 42/75\n",
            "35/35 [==============================] - 0s 1ms/step - loss: 0.2475 - accuracy: 0.8919 - val_loss: 0.2722 - val_accuracy: 0.8750\n",
            "Epoch 43/75\n",
            "35/35 [==============================] - 0s 2ms/step - loss: 0.2466 - accuracy: 0.8874 - val_loss: 0.2717 - val_accuracy: 0.8792\n",
            "Epoch 44/75\n",
            "35/35 [==============================] - 0s 1ms/step - loss: 0.2458 - accuracy: 0.8856 - val_loss: 0.2720 - val_accuracy: 0.8833\n",
            "Epoch 45/75\n",
            "35/35 [==============================] - 0s 1ms/step - loss: 0.2452 - accuracy: 0.8919 - val_loss: 0.2718 - val_accuracy: 0.8771\n",
            "Epoch 46/75\n",
            "35/35 [==============================] - 0s 1ms/step - loss: 0.2445 - accuracy: 0.8892 - val_loss: 0.2728 - val_accuracy: 0.8792\n",
            "Epoch 47/75\n",
            "35/35 [==============================] - 0s 1ms/step - loss: 0.2439 - accuracy: 0.8874 - val_loss: 0.2730 - val_accuracy: 0.8833\n",
            "Epoch 48/75\n",
            "35/35 [==============================] - 0s 2ms/step - loss: 0.2432 - accuracy: 0.8954 - val_loss: 0.2746 - val_accuracy: 0.8750\n",
            "Epoch 49/75\n",
            "35/35 [==============================] - 0s 1ms/step - loss: 0.2420 - accuracy: 0.8883 - val_loss: 0.2737 - val_accuracy: 0.8771\n",
            "Epoch 50/75\n",
            "35/35 [==============================] - 0s 1ms/step - loss: 0.2409 - accuracy: 0.8937 - val_loss: 0.2753 - val_accuracy: 0.8750\n",
            "Epoch 51/75\n",
            "35/35 [==============================] - 0s 1ms/step - loss: 0.2400 - accuracy: 0.8945 - val_loss: 0.2757 - val_accuracy: 0.8792\n",
            "Epoch 52/75\n",
            "35/35 [==============================] - 0s 2ms/step - loss: 0.2393 - accuracy: 0.8954 - val_loss: 0.2755 - val_accuracy: 0.8771\n",
            "Epoch 53/75\n",
            "35/35 [==============================] - 0s 2ms/step - loss: 0.2398 - accuracy: 0.8945 - val_loss: 0.2779 - val_accuracy: 0.8750\n",
            "Epoch 54/75\n",
            "35/35 [==============================] - 0s 1ms/step - loss: 0.2383 - accuracy: 0.8945 - val_loss: 0.2768 - val_accuracy: 0.8750\n",
            "Epoch 55/75\n",
            "35/35 [==============================] - 0s 1ms/step - loss: 0.2368 - accuracy: 0.8945 - val_loss: 0.2779 - val_accuracy: 0.8750\n",
            "Epoch 56/75\n",
            "35/35 [==============================] - 0s 1ms/step - loss: 0.2365 - accuracy: 0.8972 - val_loss: 0.2782 - val_accuracy: 0.8771\n",
            "Epoch 57/75\n",
            "35/35 [==============================] - 0s 1ms/step - loss: 0.2365 - accuracy: 0.8990 - val_loss: 0.2805 - val_accuracy: 0.8792\n",
            "Epoch 58/75\n",
            "35/35 [==============================] - 0s 2ms/step - loss: 0.2352 - accuracy: 0.8972 - val_loss: 0.2801 - val_accuracy: 0.8771\n",
            "Epoch 59/75\n"
          ]
        },
        {
          "name": "stdout",
          "output_type": "stream",
          "text": [
            "35/35 [==============================] - 0s 1ms/step - loss: 0.2343 - accuracy: 0.9017 - val_loss: 0.2800 - val_accuracy: 0.8771\n",
            "Epoch 60/75\n",
            "35/35 [==============================] - 0s 1ms/step - loss: 0.2345 - accuracy: 0.8972 - val_loss: 0.2809 - val_accuracy: 0.8813\n",
            "Epoch 61/75\n",
            "35/35 [==============================] - 0s 1ms/step - loss: 0.2330 - accuracy: 0.8999 - val_loss: 0.2812 - val_accuracy: 0.8771\n",
            "Epoch 62/75\n",
            "35/35 [==============================] - 0s 1ms/step - loss: 0.2326 - accuracy: 0.9026 - val_loss: 0.2846 - val_accuracy: 0.8792\n",
            "Epoch 63/75\n",
            "35/35 [==============================] - 0s 2ms/step - loss: 0.2320 - accuracy: 0.9035 - val_loss: 0.2839 - val_accuracy: 0.8792\n",
            "Epoch 64/75\n",
            "35/35 [==============================] - 0s 1ms/step - loss: 0.2312 - accuracy: 0.8999 - val_loss: 0.2849 - val_accuracy: 0.8792\n",
            "Epoch 65/75\n",
            "35/35 [==============================] - 0s 1ms/step - loss: 0.2308 - accuracy: 0.8990 - val_loss: 0.2856 - val_accuracy: 0.8792\n",
            "Epoch 66/75\n",
            "35/35 [==============================] - 0s 1ms/step - loss: 0.2298 - accuracy: 0.9044 - val_loss: 0.2850 - val_accuracy: 0.8813\n",
            "Epoch 67/75\n",
            "35/35 [==============================] - 0s 2ms/step - loss: 0.2286 - accuracy: 0.9035 - val_loss: 0.2861 - val_accuracy: 0.8813\n",
            "Epoch 68/75\n",
            "35/35 [==============================] - 0s 2ms/step - loss: 0.2295 - accuracy: 0.9035 - val_loss: 0.2865 - val_accuracy: 0.8813\n",
            "Epoch 69/75\n",
            "35/35 [==============================] - 0s 1ms/step - loss: 0.2283 - accuracy: 0.9026 - val_loss: 0.2872 - val_accuracy: 0.8813\n",
            "Epoch 70/75\n",
            "35/35 [==============================] - 0s 1ms/step - loss: 0.2274 - accuracy: 0.9035 - val_loss: 0.2903 - val_accuracy: 0.8729\n",
            "Epoch 71/75\n",
            "35/35 [==============================] - 0s 2ms/step - loss: 0.2285 - accuracy: 0.9026 - val_loss: 0.2922 - val_accuracy: 0.8771\n",
            "Epoch 72/75\n",
            "35/35 [==============================] - 0s 2ms/step - loss: 0.2257 - accuracy: 0.9062 - val_loss: 0.2901 - val_accuracy: 0.8813\n",
            "Epoch 73/75\n",
            "35/35 [==============================] - 0s 2ms/step - loss: 0.2254 - accuracy: 0.9017 - val_loss: 0.2895 - val_accuracy: 0.8813\n",
            "Epoch 74/75\n",
            "35/35 [==============================] - 0s 2ms/step - loss: 0.2256 - accuracy: 0.9026 - val_loss: 0.2912 - val_accuracy: 0.8792\n",
            "Epoch 75/75\n",
            "35/35 [==============================] - 0s 1ms/step - loss: 0.2257 - accuracy: 0.9035 - val_loss: 0.2909 - val_accuracy: 0.8792\n"
          ]
        }
      ],
      "source": [
        "history = ann.fit(X_train, y_train_cat,  batch_size= 32, epochs = 75 , validation_data = (X_test,y_test_cat))"
      ]
    },
    {
      "cell_type": "code",
      "execution_count": null,
      "id": "1872a3e8",
      "metadata": {
        "id": "1872a3e8",
        "outputId": "3bb3b26f-61d4-4045-aeaf-bd4fd90800c8"
      },
      "outputs": [
        {
          "data": {
            "image/png": "[encoded data removed]",
            "text/plain": [
              "<Figure size 640x480 with 1 Axes>"
            ]
          },
          "metadata": {},
          "output_type": "display_data"
        }
      ],
      "source": [
        "plt.plot(history.history['accuracy'], label='Accuracy training data')\n",
        "plt.plot(history.history['val_accuracy'], label='Accuracy validation data')\n",
        "plt.legend()\n",
        "plt.title('Model accuracy')\n",
        "plt.ylabel('Accuracy')\n",
        "plt.xlabel('epoch')\n",
        "plt.show()"
      ]
    },
    {
      "cell_type": "code",
      "execution_count": null,
      "id": "c07bf99a",
      "metadata": {
        "id": "c07bf99a",
        "outputId": "40996208-c23b-4a0c-8d29-b06f5a9f967a"
      },
      "outputs": [
        {
          "data": {
            "image/png": "[encoded data removed]",
            "text/plain": [
              "<Figure size 640x480 with 1 Axes>"
            ]
          },
          "metadata": {},
          "output_type": "display_data"
        }
      ],
      "source": [
        "plt.plot(history.history['loss'], label='MAE training data')\n",
        "plt.plot(history.history['val_loss'], label='MAE validation data')\n",
        "plt.legend()\n",
        "plt.title('MAE for model')\n",
        "plt.ylabel('MAE')\n",
        "plt.xlabel('epoch')\n",
        "plt.show()"
      ]
    },
    {
      "cell_type": "code",
      "execution_count": null,
      "id": "d88915d2",
      "metadata": {
        "id": "d88915d2"
      },
      "outputs": [],
      "source": []
    }
  ],
  "metadata": {
    "kernelspec": {
      "display_name": "Python 3 (ipykernel)",
      "language": "python",
      "name": "python3"
    },
    "language_info": {
      "codemirror_mode": {
        "name": "ipython",
        "version": 3
      },
      "file_extension": ".py",
      "mimetype": "text/x-python",
      "name": "python",
      "nbconvert_exporter": "python",
      "pygments_lexer": "ipython3",
      "version": "3.9.13"
    },
    "colab": {
      "provenance": []
    }
  },
  "nbformat": 4,
  "nbformat_minor": 5
}